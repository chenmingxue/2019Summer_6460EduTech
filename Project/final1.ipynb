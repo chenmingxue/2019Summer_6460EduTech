{
 "cells": [
  {
   "cell_type": "code",
   "execution_count": 113,
   "metadata": {},
   "outputs": [],
   "source": [
    "import nltk\n",
    "import pandas as pd\n",
    "import numpy as np\n",
    "import matplotlib.pyplot as plt\n",
    "from nltk.stem import WordNetLemmatizer\n",
    "from nltk.corpus import wordnet\n",
    "import re, collections\n",
    "from collections import defaultdict\n",
    "from sklearn.feature_extraction.text import CountVectorizer\n",
    "from sklearn.metrics import mean_squared_error, r2_score\n",
    "from sklearn.model_selection import train_test_split\n",
    "from sklearn.linear_model import LinearRegression, Ridge, Lasso\n",
    "from sklearn.svm import SVR\n",
    "from sklearn import ensemble\n",
    "from sklearn.model_selection import GridSearchCV\n",
    "from sklearn.metrics import cohen_kappa_score\n",
    "from nltk.corpus import stopwords\n",
    "%matplotlib inline\n",
    "from sklearn.decomposition import PCA\n",
    "from sklearn.feature_extraction.text import TfidfVectorizer\n",
    "from scipy import sparse as sp_sparse\n"
   ]
  },
  {
   "cell_type": "code",
   "execution_count": 167,
   "metadata": {},
   "outputs": [],
   "source": [
    "dataframe = pd.read_csv('data/essays_and_scores.csv', encoding = 'latin-1')\n",
    "train = pd.read_csv('data/training_set_rel3.tsv',sep='\\t', encoding = 'latin-1')\n",
    "test = pd.read_csv('data/test_set.tsv',sep='\\t', encoding = 'latin-1')"
   ]
  },
  {
   "cell_type": "code",
   "execution_count": 4,
   "metadata": {
    "scrolled": true
   },
   "outputs": [
    {
     "data": {
      "text/html": [
       "<div>\n",
       "<style scoped>\n",
       "    .dataframe tbody tr th:only-of-type {\n",
       "        vertical-align: middle;\n",
       "    }\n",
       "\n",
       "    .dataframe tbody tr th {\n",
       "        vertical-align: top;\n",
       "    }\n",
       "\n",
       "    .dataframe thead th {\n",
       "        text-align: right;\n",
       "    }\n",
       "</style>\n",
       "<table border=\"1\" class=\"dataframe\">\n",
       "  <thead>\n",
       "    <tr style=\"text-align: right;\">\n",
       "      <th></th>\n",
       "      <th>essay_id</th>\n",
       "      <th>essay_set</th>\n",
       "      <th>essay</th>\n",
       "      <th>rater1_domain1</th>\n",
       "      <th>rater2_domain1</th>\n",
       "      <th>domain1_score</th>\n",
       "    </tr>\n",
       "  </thead>\n",
       "  <tbody>\n",
       "    <tr>\n",
       "      <th>0</th>\n",
       "      <td>1</td>\n",
       "      <td>1</td>\n",
       "      <td>Dear local newspaper, I think effects computer...</td>\n",
       "      <td>4.0</td>\n",
       "      <td>4.0</td>\n",
       "      <td>8.0</td>\n",
       "    </tr>\n",
       "    <tr>\n",
       "      <th>1</th>\n",
       "      <td>2</td>\n",
       "      <td>1</td>\n",
       "      <td>Dear @CAPS1 @CAPS2, I believe that using compu...</td>\n",
       "      <td>5.0</td>\n",
       "      <td>4.0</td>\n",
       "      <td>9.0</td>\n",
       "    </tr>\n",
       "    <tr>\n",
       "      <th>2</th>\n",
       "      <td>3</td>\n",
       "      <td>1</td>\n",
       "      <td>Dear, @CAPS1 @CAPS2 @CAPS3 More and more peopl...</td>\n",
       "      <td>4.0</td>\n",
       "      <td>3.0</td>\n",
       "      <td>7.0</td>\n",
       "    </tr>\n",
       "    <tr>\n",
       "      <th>3</th>\n",
       "      <td>4</td>\n",
       "      <td>1</td>\n",
       "      <td>Dear Local Newspaper, @CAPS1 I have found that...</td>\n",
       "      <td>5.0</td>\n",
       "      <td>5.0</td>\n",
       "      <td>10.0</td>\n",
       "    </tr>\n",
       "    <tr>\n",
       "      <th>4</th>\n",
       "      <td>5</td>\n",
       "      <td>1</td>\n",
       "      <td>Dear @LOCATION1, I know having computers has a...</td>\n",
       "      <td>4.0</td>\n",
       "      <td>4.0</td>\n",
       "      <td>8.0</td>\n",
       "    </tr>\n",
       "  </tbody>\n",
       "</table>\n",
       "</div>"
      ],
      "text/plain": [
       "   essay_id  essay_set                                              essay  \\\n",
       "0         1          1  Dear local newspaper, I think effects computer...   \n",
       "1         2          1  Dear @CAPS1 @CAPS2, I believe that using compu...   \n",
       "2         3          1  Dear, @CAPS1 @CAPS2 @CAPS3 More and more peopl...   \n",
       "3         4          1  Dear Local Newspaper, @CAPS1 I have found that...   \n",
       "4         5          1  Dear @LOCATION1, I know having computers has a...   \n",
       "\n",
       "   rater1_domain1  rater2_domain1  domain1_score  \n",
       "0             4.0             4.0            8.0  \n",
       "1             5.0             4.0            9.0  \n",
       "2             4.0             3.0            7.0  \n",
       "3             5.0             5.0           10.0  \n",
       "4             4.0             4.0            8.0  "
      ]
     },
     "execution_count": 4,
     "metadata": {},
     "output_type": "execute_result"
    }
   ],
   "source": [
    "dataframe.head()"
   ]
  },
  {
   "cell_type": "code",
   "execution_count": 5,
   "metadata": {},
   "outputs": [
    {
     "data": {
      "text/html": [
       "<div>\n",
       "<style scoped>\n",
       "    .dataframe tbody tr th:only-of-type {\n",
       "        vertical-align: middle;\n",
       "    }\n",
       "\n",
       "    .dataframe tbody tr th {\n",
       "        vertical-align: top;\n",
       "    }\n",
       "\n",
       "    .dataframe thead th {\n",
       "        text-align: right;\n",
       "    }\n",
       "</style>\n",
       "<table border=\"1\" class=\"dataframe\">\n",
       "  <thead>\n",
       "    <tr style=\"text-align: right;\">\n",
       "      <th></th>\n",
       "      <th>essay_id</th>\n",
       "      <th>essay_set</th>\n",
       "      <th>essay</th>\n",
       "      <th>rater1_domain1</th>\n",
       "      <th>rater2_domain1</th>\n",
       "      <th>rater3_domain1</th>\n",
       "      <th>domain1_score</th>\n",
       "      <th>rater1_domain2</th>\n",
       "      <th>rater2_domain2</th>\n",
       "      <th>domain2_score</th>\n",
       "      <th>...</th>\n",
       "      <th>rater2_trait3</th>\n",
       "      <th>rater2_trait4</th>\n",
       "      <th>rater2_trait5</th>\n",
       "      <th>rater2_trait6</th>\n",
       "      <th>rater3_trait1</th>\n",
       "      <th>rater3_trait2</th>\n",
       "      <th>rater3_trait3</th>\n",
       "      <th>rater3_trait4</th>\n",
       "      <th>rater3_trait5</th>\n",
       "      <th>rater3_trait6</th>\n",
       "    </tr>\n",
       "  </thead>\n",
       "  <tbody>\n",
       "    <tr>\n",
       "      <th>0</th>\n",
       "      <td>1</td>\n",
       "      <td>1</td>\n",
       "      <td>Dear local newspaper, I think effects computer...</td>\n",
       "      <td>4</td>\n",
       "      <td>4</td>\n",
       "      <td>NaN</td>\n",
       "      <td>8</td>\n",
       "      <td>NaN</td>\n",
       "      <td>NaN</td>\n",
       "      <td>NaN</td>\n",
       "      <td>...</td>\n",
       "      <td>NaN</td>\n",
       "      <td>NaN</td>\n",
       "      <td>NaN</td>\n",
       "      <td>NaN</td>\n",
       "      <td>NaN</td>\n",
       "      <td>NaN</td>\n",
       "      <td>NaN</td>\n",
       "      <td>NaN</td>\n",
       "      <td>NaN</td>\n",
       "      <td>NaN</td>\n",
       "    </tr>\n",
       "    <tr>\n",
       "      <th>1</th>\n",
       "      <td>2</td>\n",
       "      <td>1</td>\n",
       "      <td>Dear @CAPS1 @CAPS2, I believe that using compu...</td>\n",
       "      <td>5</td>\n",
       "      <td>4</td>\n",
       "      <td>NaN</td>\n",
       "      <td>9</td>\n",
       "      <td>NaN</td>\n",
       "      <td>NaN</td>\n",
       "      <td>NaN</td>\n",
       "      <td>...</td>\n",
       "      <td>NaN</td>\n",
       "      <td>NaN</td>\n",
       "      <td>NaN</td>\n",
       "      <td>NaN</td>\n",
       "      <td>NaN</td>\n",
       "      <td>NaN</td>\n",
       "      <td>NaN</td>\n",
       "      <td>NaN</td>\n",
       "      <td>NaN</td>\n",
       "      <td>NaN</td>\n",
       "    </tr>\n",
       "    <tr>\n",
       "      <th>2</th>\n",
       "      <td>3</td>\n",
       "      <td>1</td>\n",
       "      <td>Dear, @CAPS1 @CAPS2 @CAPS3 More and more peopl...</td>\n",
       "      <td>4</td>\n",
       "      <td>3</td>\n",
       "      <td>NaN</td>\n",
       "      <td>7</td>\n",
       "      <td>NaN</td>\n",
       "      <td>NaN</td>\n",
       "      <td>NaN</td>\n",
       "      <td>...</td>\n",
       "      <td>NaN</td>\n",
       "      <td>NaN</td>\n",
       "      <td>NaN</td>\n",
       "      <td>NaN</td>\n",
       "      <td>NaN</td>\n",
       "      <td>NaN</td>\n",
       "      <td>NaN</td>\n",
       "      <td>NaN</td>\n",
       "      <td>NaN</td>\n",
       "      <td>NaN</td>\n",
       "    </tr>\n",
       "    <tr>\n",
       "      <th>3</th>\n",
       "      <td>4</td>\n",
       "      <td>1</td>\n",
       "      <td>Dear Local Newspaper, @CAPS1 I have found that...</td>\n",
       "      <td>5</td>\n",
       "      <td>5</td>\n",
       "      <td>NaN</td>\n",
       "      <td>10</td>\n",
       "      <td>NaN</td>\n",
       "      <td>NaN</td>\n",
       "      <td>NaN</td>\n",
       "      <td>...</td>\n",
       "      <td>NaN</td>\n",
       "      <td>NaN</td>\n",
       "      <td>NaN</td>\n",
       "      <td>NaN</td>\n",
       "      <td>NaN</td>\n",
       "      <td>NaN</td>\n",
       "      <td>NaN</td>\n",
       "      <td>NaN</td>\n",
       "      <td>NaN</td>\n",
       "      <td>NaN</td>\n",
       "    </tr>\n",
       "    <tr>\n",
       "      <th>4</th>\n",
       "      <td>5</td>\n",
       "      <td>1</td>\n",
       "      <td>Dear @LOCATION1, I know having computers has a...</td>\n",
       "      <td>4</td>\n",
       "      <td>4</td>\n",
       "      <td>NaN</td>\n",
       "      <td>8</td>\n",
       "      <td>NaN</td>\n",
       "      <td>NaN</td>\n",
       "      <td>NaN</td>\n",
       "      <td>...</td>\n",
       "      <td>NaN</td>\n",
       "      <td>NaN</td>\n",
       "      <td>NaN</td>\n",
       "      <td>NaN</td>\n",
       "      <td>NaN</td>\n",
       "      <td>NaN</td>\n",
       "      <td>NaN</td>\n",
       "      <td>NaN</td>\n",
       "      <td>NaN</td>\n",
       "      <td>NaN</td>\n",
       "    </tr>\n",
       "  </tbody>\n",
       "</table>\n",
       "<p>5 rows × 28 columns</p>\n",
       "</div>"
      ],
      "text/plain": [
       "   essay_id  essay_set                                              essay  \\\n",
       "0         1          1  Dear local newspaper, I think effects computer...   \n",
       "1         2          1  Dear @CAPS1 @CAPS2, I believe that using compu...   \n",
       "2         3          1  Dear, @CAPS1 @CAPS2 @CAPS3 More and more peopl...   \n",
       "3         4          1  Dear Local Newspaper, @CAPS1 I have found that...   \n",
       "4         5          1  Dear @LOCATION1, I know having computers has a...   \n",
       "\n",
       "   rater1_domain1  rater2_domain1  rater3_domain1  domain1_score  \\\n",
       "0               4               4             NaN              8   \n",
       "1               5               4             NaN              9   \n",
       "2               4               3             NaN              7   \n",
       "3               5               5             NaN             10   \n",
       "4               4               4             NaN              8   \n",
       "\n",
       "   rater1_domain2  rater2_domain2  domain2_score  ...  rater2_trait3  \\\n",
       "0             NaN             NaN            NaN  ...            NaN   \n",
       "1             NaN             NaN            NaN  ...            NaN   \n",
       "2             NaN             NaN            NaN  ...            NaN   \n",
       "3             NaN             NaN            NaN  ...            NaN   \n",
       "4             NaN             NaN            NaN  ...            NaN   \n",
       "\n",
       "   rater2_trait4  rater2_trait5  rater2_trait6  rater3_trait1  rater3_trait2  \\\n",
       "0            NaN            NaN            NaN            NaN            NaN   \n",
       "1            NaN            NaN            NaN            NaN            NaN   \n",
       "2            NaN            NaN            NaN            NaN            NaN   \n",
       "3            NaN            NaN            NaN            NaN            NaN   \n",
       "4            NaN            NaN            NaN            NaN            NaN   \n",
       "\n",
       "   rater3_trait3  rater3_trait4  rater3_trait5  rater3_trait6  \n",
       "0            NaN            NaN            NaN            NaN  \n",
       "1            NaN            NaN            NaN            NaN  \n",
       "2            NaN            NaN            NaN            NaN  \n",
       "3            NaN            NaN            NaN            NaN  \n",
       "4            NaN            NaN            NaN            NaN  \n",
       "\n",
       "[5 rows x 28 columns]"
      ]
     },
     "execution_count": 5,
     "metadata": {},
     "output_type": "execute_result"
    }
   ],
   "source": [
    "train.head()"
   ]
  },
  {
   "cell_type": "code",
   "execution_count": 6,
   "metadata": {},
   "outputs": [
    {
     "data": {
      "text/html": [
       "<div>\n",
       "<style scoped>\n",
       "    .dataframe tbody tr th:only-of-type {\n",
       "        vertical-align: middle;\n",
       "    }\n",
       "\n",
       "    .dataframe tbody tr th {\n",
       "        vertical-align: top;\n",
       "    }\n",
       "\n",
       "    .dataframe thead th {\n",
       "        text-align: right;\n",
       "    }\n",
       "</style>\n",
       "<table border=\"1\" class=\"dataframe\">\n",
       "  <thead>\n",
       "    <tr style=\"text-align: right;\">\n",
       "      <th></th>\n",
       "      <th>essay_id</th>\n",
       "      <th>essay_set</th>\n",
       "      <th>essay</th>\n",
       "      <th>domain1_predictionid</th>\n",
       "      <th>domain2_predictionid</th>\n",
       "    </tr>\n",
       "  </thead>\n",
       "  <tbody>\n",
       "    <tr>\n",
       "      <th>0</th>\n",
       "      <td>2383</td>\n",
       "      <td>1</td>\n",
       "      <td>I believe that computers have a positive effec...</td>\n",
       "      <td>2383</td>\n",
       "      <td>NaN</td>\n",
       "    </tr>\n",
       "    <tr>\n",
       "      <th>1</th>\n",
       "      <td>2384</td>\n",
       "      <td>1</td>\n",
       "      <td>Dear @CAPS1, I know some problems have came up...</td>\n",
       "      <td>2384</td>\n",
       "      <td>NaN</td>\n",
       "    </tr>\n",
       "    <tr>\n",
       "      <th>2</th>\n",
       "      <td>2385</td>\n",
       "      <td>1</td>\n",
       "      <td>Dear to whom it @MONTH1 concern, Computers are...</td>\n",
       "      <td>2385</td>\n",
       "      <td>NaN</td>\n",
       "    </tr>\n",
       "    <tr>\n",
       "      <th>3</th>\n",
       "      <td>2386</td>\n",
       "      <td>1</td>\n",
       "      <td>Dear @CAPS1 @CAPS2, @CAPS3 has come to my atte...</td>\n",
       "      <td>2386</td>\n",
       "      <td>NaN</td>\n",
       "    </tr>\n",
       "    <tr>\n",
       "      <th>4</th>\n",
       "      <td>2387</td>\n",
       "      <td>1</td>\n",
       "      <td>Dear Local newspaper, I think that people have...</td>\n",
       "      <td>2387</td>\n",
       "      <td>NaN</td>\n",
       "    </tr>\n",
       "  </tbody>\n",
       "</table>\n",
       "</div>"
      ],
      "text/plain": [
       "   essay_id  essay_set                                              essay  \\\n",
       "0      2383          1  I believe that computers have a positive effec...   \n",
       "1      2384          1  Dear @CAPS1, I know some problems have came up...   \n",
       "2      2385          1  Dear to whom it @MONTH1 concern, Computers are...   \n",
       "3      2386          1  Dear @CAPS1 @CAPS2, @CAPS3 has come to my atte...   \n",
       "4      2387          1  Dear Local newspaper, I think that people have...   \n",
       "\n",
       "   domain1_predictionid  domain2_predictionid  \n",
       "0                  2383                   NaN  \n",
       "1                  2384                   NaN  \n",
       "2                  2385                   NaN  \n",
       "3                  2386                   NaN  \n",
       "4                  2387                   NaN  "
      ]
     },
     "execution_count": 6,
     "metadata": {},
     "output_type": "execute_result"
    }
   ],
   "source": [
    "test.head()"
   ]
  },
  {
   "cell_type": "code",
   "execution_count": 43,
   "metadata": {
    "scrolled": true
   },
   "outputs": [
    {
     "name": "stdout",
     "output_type": "stream",
     "text": [
      "(1783, 28)\n"
     ]
    },
    {
     "data": {
      "text/html": [
       "<div>\n",
       "<style scoped>\n",
       "    .dataframe tbody tr th:only-of-type {\n",
       "        vertical-align: middle;\n",
       "    }\n",
       "\n",
       "    .dataframe tbody tr th {\n",
       "        vertical-align: top;\n",
       "    }\n",
       "\n",
       "    .dataframe thead th {\n",
       "        text-align: right;\n",
       "    }\n",
       "</style>\n",
       "<table border=\"1\" class=\"dataframe\">\n",
       "  <thead>\n",
       "    <tr style=\"text-align: right;\">\n",
       "      <th></th>\n",
       "      <th>essay_id</th>\n",
       "      <th>essay_set</th>\n",
       "      <th>essay</th>\n",
       "      <th>rater1_domain1</th>\n",
       "      <th>rater2_domain1</th>\n",
       "      <th>rater3_domain1</th>\n",
       "      <th>domain1_score</th>\n",
       "      <th>rater1_domain2</th>\n",
       "      <th>rater2_domain2</th>\n",
       "      <th>domain2_score</th>\n",
       "      <th>...</th>\n",
       "      <th>rater2_trait3</th>\n",
       "      <th>rater2_trait4</th>\n",
       "      <th>rater2_trait5</th>\n",
       "      <th>rater2_trait6</th>\n",
       "      <th>rater3_trait1</th>\n",
       "      <th>rater3_trait2</th>\n",
       "      <th>rater3_trait3</th>\n",
       "      <th>rater3_trait4</th>\n",
       "      <th>rater3_trait5</th>\n",
       "      <th>rater3_trait6</th>\n",
       "    </tr>\n",
       "  </thead>\n",
       "  <tbody>\n",
       "    <tr>\n",
       "      <th>0</th>\n",
       "      <td>1</td>\n",
       "      <td>1</td>\n",
       "      <td>Dear local newspaper, I think effects computer...</td>\n",
       "      <td>4</td>\n",
       "      <td>4</td>\n",
       "      <td>NaN</td>\n",
       "      <td>8</td>\n",
       "      <td>NaN</td>\n",
       "      <td>NaN</td>\n",
       "      <td>NaN</td>\n",
       "      <td>...</td>\n",
       "      <td>NaN</td>\n",
       "      <td>NaN</td>\n",
       "      <td>NaN</td>\n",
       "      <td>NaN</td>\n",
       "      <td>NaN</td>\n",
       "      <td>NaN</td>\n",
       "      <td>NaN</td>\n",
       "      <td>NaN</td>\n",
       "      <td>NaN</td>\n",
       "      <td>NaN</td>\n",
       "    </tr>\n",
       "    <tr>\n",
       "      <th>1</th>\n",
       "      <td>2</td>\n",
       "      <td>1</td>\n",
       "      <td>Dear @CAPS1 @CAPS2, I believe that using compu...</td>\n",
       "      <td>5</td>\n",
       "      <td>4</td>\n",
       "      <td>NaN</td>\n",
       "      <td>9</td>\n",
       "      <td>NaN</td>\n",
       "      <td>NaN</td>\n",
       "      <td>NaN</td>\n",
       "      <td>...</td>\n",
       "      <td>NaN</td>\n",
       "      <td>NaN</td>\n",
       "      <td>NaN</td>\n",
       "      <td>NaN</td>\n",
       "      <td>NaN</td>\n",
       "      <td>NaN</td>\n",
       "      <td>NaN</td>\n",
       "      <td>NaN</td>\n",
       "      <td>NaN</td>\n",
       "      <td>NaN</td>\n",
       "    </tr>\n",
       "    <tr>\n",
       "      <th>2</th>\n",
       "      <td>3</td>\n",
       "      <td>1</td>\n",
       "      <td>Dear, @CAPS1 @CAPS2 @CAPS3 More and more peopl...</td>\n",
       "      <td>4</td>\n",
       "      <td>3</td>\n",
       "      <td>NaN</td>\n",
       "      <td>7</td>\n",
       "      <td>NaN</td>\n",
       "      <td>NaN</td>\n",
       "      <td>NaN</td>\n",
       "      <td>...</td>\n",
       "      <td>NaN</td>\n",
       "      <td>NaN</td>\n",
       "      <td>NaN</td>\n",
       "      <td>NaN</td>\n",
       "      <td>NaN</td>\n",
       "      <td>NaN</td>\n",
       "      <td>NaN</td>\n",
       "      <td>NaN</td>\n",
       "      <td>NaN</td>\n",
       "      <td>NaN</td>\n",
       "    </tr>\n",
       "    <tr>\n",
       "      <th>3</th>\n",
       "      <td>4</td>\n",
       "      <td>1</td>\n",
       "      <td>Dear Local Newspaper, @CAPS1 I have found that...</td>\n",
       "      <td>5</td>\n",
       "      <td>5</td>\n",
       "      <td>NaN</td>\n",
       "      <td>10</td>\n",
       "      <td>NaN</td>\n",
       "      <td>NaN</td>\n",
       "      <td>NaN</td>\n",
       "      <td>...</td>\n",
       "      <td>NaN</td>\n",
       "      <td>NaN</td>\n",
       "      <td>NaN</td>\n",
       "      <td>NaN</td>\n",
       "      <td>NaN</td>\n",
       "      <td>NaN</td>\n",
       "      <td>NaN</td>\n",
       "      <td>NaN</td>\n",
       "      <td>NaN</td>\n",
       "      <td>NaN</td>\n",
       "    </tr>\n",
       "    <tr>\n",
       "      <th>4</th>\n",
       "      <td>5</td>\n",
       "      <td>1</td>\n",
       "      <td>Dear @LOCATION1, I know having computers has a...</td>\n",
       "      <td>4</td>\n",
       "      <td>4</td>\n",
       "      <td>NaN</td>\n",
       "      <td>8</td>\n",
       "      <td>NaN</td>\n",
       "      <td>NaN</td>\n",
       "      <td>NaN</td>\n",
       "      <td>...</td>\n",
       "      <td>NaN</td>\n",
       "      <td>NaN</td>\n",
       "      <td>NaN</td>\n",
       "      <td>NaN</td>\n",
       "      <td>NaN</td>\n",
       "      <td>NaN</td>\n",
       "      <td>NaN</td>\n",
       "      <td>NaN</td>\n",
       "      <td>NaN</td>\n",
       "      <td>NaN</td>\n",
       "    </tr>\n",
       "  </tbody>\n",
       "</table>\n",
       "<p>5 rows × 28 columns</p>\n",
       "</div>"
      ],
      "text/plain": [
       "   essay_id  essay_set                                              essay  \\\n",
       "0         1          1  Dear local newspaper, I think effects computer...   \n",
       "1         2          1  Dear @CAPS1 @CAPS2, I believe that using compu...   \n",
       "2         3          1  Dear, @CAPS1 @CAPS2 @CAPS3 More and more peopl...   \n",
       "3         4          1  Dear Local Newspaper, @CAPS1 I have found that...   \n",
       "4         5          1  Dear @LOCATION1, I know having computers has a...   \n",
       "\n",
       "   rater1_domain1  rater2_domain1  rater3_domain1  domain1_score  \\\n",
       "0               4               4             NaN              8   \n",
       "1               5               4             NaN              9   \n",
       "2               4               3             NaN              7   \n",
       "3               5               5             NaN             10   \n",
       "4               4               4             NaN              8   \n",
       "\n",
       "   rater1_domain2  rater2_domain2  domain2_score  ...  rater2_trait3  \\\n",
       "0             NaN             NaN            NaN  ...            NaN   \n",
       "1             NaN             NaN            NaN  ...            NaN   \n",
       "2             NaN             NaN            NaN  ...            NaN   \n",
       "3             NaN             NaN            NaN  ...            NaN   \n",
       "4             NaN             NaN            NaN  ...            NaN   \n",
       "\n",
       "   rater2_trait4  rater2_trait5  rater2_trait6  rater3_trait1  rater3_trait2  \\\n",
       "0            NaN            NaN            NaN            NaN            NaN   \n",
       "1            NaN            NaN            NaN            NaN            NaN   \n",
       "2            NaN            NaN            NaN            NaN            NaN   \n",
       "3            NaN            NaN            NaN            NaN            NaN   \n",
       "4            NaN            NaN            NaN            NaN            NaN   \n",
       "\n",
       "   rater3_trait3  rater3_trait4  rater3_trait5  rater3_trait6  \n",
       "0            NaN            NaN            NaN            NaN  \n",
       "1            NaN            NaN            NaN            NaN  \n",
       "2            NaN            NaN            NaN            NaN  \n",
       "3            NaN            NaN            NaN            NaN  \n",
       "4            NaN            NaN            NaN            NaN  \n",
       "\n",
       "[5 rows x 28 columns]"
      ]
     },
     "execution_count": 43,
     "metadata": {},
     "output_type": "execute_result"
    }
   ],
   "source": [
    "#domain 1, y_score: domain1_score, range 2-12 \n",
    "train_d1 = train[train['essay_set']==1]\n",
    "test_d1 = test[test['essay_set']==1]\n",
    "print(train_d1.shape)\n",
    "train_d1.head()"
   ]
  },
  {
   "cell_type": "code",
   "execution_count": 44,
   "metadata": {},
   "outputs": [],
   "source": [
    "train_d1.name = 'dataset 1'"
   ]
  },
  {
   "cell_type": "code",
   "execution_count": 12,
   "metadata": {},
   "outputs": [
    {
     "name": "stdout",
     "output_type": "stream",
     "text": [
      "(1800, 28)\n"
     ]
    },
    {
     "data": {
      "text/html": [
       "<div>\n",
       "<style scoped>\n",
       "    .dataframe tbody tr th:only-of-type {\n",
       "        vertical-align: middle;\n",
       "    }\n",
       "\n",
       "    .dataframe tbody tr th {\n",
       "        vertical-align: top;\n",
       "    }\n",
       "\n",
       "    .dataframe thead th {\n",
       "        text-align: right;\n",
       "    }\n",
       "</style>\n",
       "<table border=\"1\" class=\"dataframe\">\n",
       "  <thead>\n",
       "    <tr style=\"text-align: right;\">\n",
       "      <th></th>\n",
       "      <th>essay_id</th>\n",
       "      <th>essay_set</th>\n",
       "      <th>essay</th>\n",
       "      <th>rater1_domain1</th>\n",
       "      <th>rater2_domain1</th>\n",
       "      <th>rater3_domain1</th>\n",
       "      <th>domain1_score</th>\n",
       "      <th>rater1_domain2</th>\n",
       "      <th>rater2_domain2</th>\n",
       "      <th>domain2_score</th>\n",
       "      <th>...</th>\n",
       "      <th>rater2_trait3</th>\n",
       "      <th>rater2_trait4</th>\n",
       "      <th>rater2_trait5</th>\n",
       "      <th>rater2_trait6</th>\n",
       "      <th>rater3_trait1</th>\n",
       "      <th>rater3_trait2</th>\n",
       "      <th>rater3_trait3</th>\n",
       "      <th>rater3_trait4</th>\n",
       "      <th>rater3_trait5</th>\n",
       "      <th>rater3_trait6</th>\n",
       "    </tr>\n",
       "  </thead>\n",
       "  <tbody>\n",
       "    <tr>\n",
       "      <th>1783</th>\n",
       "      <td>2978</td>\n",
       "      <td>2</td>\n",
       "      <td>Certain materials being removed from libraries...</td>\n",
       "      <td>4</td>\n",
       "      <td>4</td>\n",
       "      <td>NaN</td>\n",
       "      <td>4</td>\n",
       "      <td>4.0</td>\n",
       "      <td>4.0</td>\n",
       "      <td>4.0</td>\n",
       "      <td>...</td>\n",
       "      <td>NaN</td>\n",
       "      <td>NaN</td>\n",
       "      <td>NaN</td>\n",
       "      <td>NaN</td>\n",
       "      <td>NaN</td>\n",
       "      <td>NaN</td>\n",
       "      <td>NaN</td>\n",
       "      <td>NaN</td>\n",
       "      <td>NaN</td>\n",
       "      <td>NaN</td>\n",
       "    </tr>\n",
       "    <tr>\n",
       "      <th>1784</th>\n",
       "      <td>2979</td>\n",
       "      <td>2</td>\n",
       "      <td>Write a persuasive essay to a newspaper reflec...</td>\n",
       "      <td>1</td>\n",
       "      <td>2</td>\n",
       "      <td>NaN</td>\n",
       "      <td>1</td>\n",
       "      <td>1.0</td>\n",
       "      <td>2.0</td>\n",
       "      <td>1.0</td>\n",
       "      <td>...</td>\n",
       "      <td>NaN</td>\n",
       "      <td>NaN</td>\n",
       "      <td>NaN</td>\n",
       "      <td>NaN</td>\n",
       "      <td>NaN</td>\n",
       "      <td>NaN</td>\n",
       "      <td>NaN</td>\n",
       "      <td>NaN</td>\n",
       "      <td>NaN</td>\n",
       "      <td>NaN</td>\n",
       "    </tr>\n",
       "    <tr>\n",
       "      <th>1785</th>\n",
       "      <td>2980</td>\n",
       "      <td>2</td>\n",
       "      <td>Do you think that libraries should remove cert...</td>\n",
       "      <td>2</td>\n",
       "      <td>3</td>\n",
       "      <td>NaN</td>\n",
       "      <td>2</td>\n",
       "      <td>3.0</td>\n",
       "      <td>3.0</td>\n",
       "      <td>3.0</td>\n",
       "      <td>...</td>\n",
       "      <td>NaN</td>\n",
       "      <td>NaN</td>\n",
       "      <td>NaN</td>\n",
       "      <td>NaN</td>\n",
       "      <td>NaN</td>\n",
       "      <td>NaN</td>\n",
       "      <td>NaN</td>\n",
       "      <td>NaN</td>\n",
       "      <td>NaN</td>\n",
       "      <td>NaN</td>\n",
       "    </tr>\n",
       "    <tr>\n",
       "      <th>1786</th>\n",
       "      <td>2981</td>\n",
       "      <td>2</td>\n",
       "      <td>In @DATE1's world, there are many things found...</td>\n",
       "      <td>4</td>\n",
       "      <td>4</td>\n",
       "      <td>NaN</td>\n",
       "      <td>4</td>\n",
       "      <td>4.0</td>\n",
       "      <td>4.0</td>\n",
       "      <td>4.0</td>\n",
       "      <td>...</td>\n",
       "      <td>NaN</td>\n",
       "      <td>NaN</td>\n",
       "      <td>NaN</td>\n",
       "      <td>NaN</td>\n",
       "      <td>NaN</td>\n",
       "      <td>NaN</td>\n",
       "      <td>NaN</td>\n",
       "      <td>NaN</td>\n",
       "      <td>NaN</td>\n",
       "      <td>NaN</td>\n",
       "    </tr>\n",
       "    <tr>\n",
       "      <th>1787</th>\n",
       "      <td>2982</td>\n",
       "      <td>2</td>\n",
       "      <td>In life you have the 'offensive things'. The l...</td>\n",
       "      <td>4</td>\n",
       "      <td>4</td>\n",
       "      <td>NaN</td>\n",
       "      <td>4</td>\n",
       "      <td>4.0</td>\n",
       "      <td>4.0</td>\n",
       "      <td>4.0</td>\n",
       "      <td>...</td>\n",
       "      <td>NaN</td>\n",
       "      <td>NaN</td>\n",
       "      <td>NaN</td>\n",
       "      <td>NaN</td>\n",
       "      <td>NaN</td>\n",
       "      <td>NaN</td>\n",
       "      <td>NaN</td>\n",
       "      <td>NaN</td>\n",
       "      <td>NaN</td>\n",
       "      <td>NaN</td>\n",
       "    </tr>\n",
       "  </tbody>\n",
       "</table>\n",
       "<p>5 rows × 28 columns</p>\n",
       "</div>"
      ],
      "text/plain": [
       "      essay_id  essay_set                                              essay  \\\n",
       "1783      2978          2  Certain materials being removed from libraries...   \n",
       "1784      2979          2  Write a persuasive essay to a newspaper reflec...   \n",
       "1785      2980          2  Do you think that libraries should remove cert...   \n",
       "1786      2981          2  In @DATE1's world, there are many things found...   \n",
       "1787      2982          2  In life you have the 'offensive things'. The l...   \n",
       "\n",
       "      rater1_domain1  rater2_domain1  rater3_domain1  domain1_score  \\\n",
       "1783               4               4             NaN              4   \n",
       "1784               1               2             NaN              1   \n",
       "1785               2               3             NaN              2   \n",
       "1786               4               4             NaN              4   \n",
       "1787               4               4             NaN              4   \n",
       "\n",
       "      rater1_domain2  rater2_domain2  domain2_score  ...  rater2_trait3  \\\n",
       "1783             4.0             4.0            4.0  ...            NaN   \n",
       "1784             1.0             2.0            1.0  ...            NaN   \n",
       "1785             3.0             3.0            3.0  ...            NaN   \n",
       "1786             4.0             4.0            4.0  ...            NaN   \n",
       "1787             4.0             4.0            4.0  ...            NaN   \n",
       "\n",
       "      rater2_trait4  rater2_trait5  rater2_trait6  rater3_trait1  \\\n",
       "1783            NaN            NaN            NaN            NaN   \n",
       "1784            NaN            NaN            NaN            NaN   \n",
       "1785            NaN            NaN            NaN            NaN   \n",
       "1786            NaN            NaN            NaN            NaN   \n",
       "1787            NaN            NaN            NaN            NaN   \n",
       "\n",
       "      rater3_trait2  rater3_trait3  rater3_trait4  rater3_trait5  \\\n",
       "1783            NaN            NaN            NaN            NaN   \n",
       "1784            NaN            NaN            NaN            NaN   \n",
       "1785            NaN            NaN            NaN            NaN   \n",
       "1786            NaN            NaN            NaN            NaN   \n",
       "1787            NaN            NaN            NaN            NaN   \n",
       "\n",
       "      rater3_trait6  \n",
       "1783            NaN  \n",
       "1784            NaN  \n",
       "1785            NaN  \n",
       "1786            NaN  \n",
       "1787            NaN  \n",
       "\n",
       "[5 rows x 28 columns]"
      ]
     },
     "execution_count": 12,
     "metadata": {},
     "output_type": "execute_result"
    }
   ],
   "source": [
    "#domain 2, y1 = domain1_score (1-6), y2 = domain2_score (1-4)\n",
    "train_d2 = train[train['essay_set']==2]\n",
    "test_d2 = test[test['essay_set']==2]\n",
    "print(train_d2.shape)\n",
    "train_d2.head()"
   ]
  },
  {
   "cell_type": "code",
   "execution_count": 14,
   "metadata": {},
   "outputs": [
    {
     "name": "stdout",
     "output_type": "stream",
     "text": [
      "(1726, 28)\n"
     ]
    },
    {
     "data": {
      "text/html": [
       "<div>\n",
       "<style scoped>\n",
       "    .dataframe tbody tr th:only-of-type {\n",
       "        vertical-align: middle;\n",
       "    }\n",
       "\n",
       "    .dataframe tbody tr th {\n",
       "        vertical-align: top;\n",
       "    }\n",
       "\n",
       "    .dataframe thead th {\n",
       "        text-align: right;\n",
       "    }\n",
       "</style>\n",
       "<table border=\"1\" class=\"dataframe\">\n",
       "  <thead>\n",
       "    <tr style=\"text-align: right;\">\n",
       "      <th></th>\n",
       "      <th>essay_id</th>\n",
       "      <th>essay_set</th>\n",
       "      <th>essay</th>\n",
       "      <th>rater1_domain1</th>\n",
       "      <th>rater2_domain1</th>\n",
       "      <th>rater3_domain1</th>\n",
       "      <th>domain1_score</th>\n",
       "      <th>rater1_domain2</th>\n",
       "      <th>rater2_domain2</th>\n",
       "      <th>domain2_score</th>\n",
       "      <th>...</th>\n",
       "      <th>rater2_trait3</th>\n",
       "      <th>rater2_trait4</th>\n",
       "      <th>rater2_trait5</th>\n",
       "      <th>rater2_trait6</th>\n",
       "      <th>rater3_trait1</th>\n",
       "      <th>rater3_trait2</th>\n",
       "      <th>rater3_trait3</th>\n",
       "      <th>rater3_trait4</th>\n",
       "      <th>rater3_trait5</th>\n",
       "      <th>rater3_trait6</th>\n",
       "    </tr>\n",
       "  </thead>\n",
       "  <tbody>\n",
       "    <tr>\n",
       "      <th>3583</th>\n",
       "      <td>5978</td>\n",
       "      <td>3</td>\n",
       "      <td>The features of the setting affect the cyclist...</td>\n",
       "      <td>1</td>\n",
       "      <td>1</td>\n",
       "      <td>NaN</td>\n",
       "      <td>1</td>\n",
       "      <td>NaN</td>\n",
       "      <td>NaN</td>\n",
       "      <td>NaN</td>\n",
       "      <td>...</td>\n",
       "      <td>NaN</td>\n",
       "      <td>NaN</td>\n",
       "      <td>NaN</td>\n",
       "      <td>NaN</td>\n",
       "      <td>NaN</td>\n",
       "      <td>NaN</td>\n",
       "      <td>NaN</td>\n",
       "      <td>NaN</td>\n",
       "      <td>NaN</td>\n",
       "      <td>NaN</td>\n",
       "    </tr>\n",
       "    <tr>\n",
       "      <th>3584</th>\n",
       "      <td>5979</td>\n",
       "      <td>3</td>\n",
       "      <td>The features of the setting affected the cycli...</td>\n",
       "      <td>2</td>\n",
       "      <td>2</td>\n",
       "      <td>NaN</td>\n",
       "      <td>2</td>\n",
       "      <td>NaN</td>\n",
       "      <td>NaN</td>\n",
       "      <td>NaN</td>\n",
       "      <td>...</td>\n",
       "      <td>NaN</td>\n",
       "      <td>NaN</td>\n",
       "      <td>NaN</td>\n",
       "      <td>NaN</td>\n",
       "      <td>NaN</td>\n",
       "      <td>NaN</td>\n",
       "      <td>NaN</td>\n",
       "      <td>NaN</td>\n",
       "      <td>NaN</td>\n",
       "      <td>NaN</td>\n",
       "    </tr>\n",
       "    <tr>\n",
       "      <th>3585</th>\n",
       "      <td>5980</td>\n",
       "      <td>3</td>\n",
       "      <td>Everyone travels to unfamiliar places. Sometim...</td>\n",
       "      <td>1</td>\n",
       "      <td>1</td>\n",
       "      <td>NaN</td>\n",
       "      <td>1</td>\n",
       "      <td>NaN</td>\n",
       "      <td>NaN</td>\n",
       "      <td>NaN</td>\n",
       "      <td>...</td>\n",
       "      <td>NaN</td>\n",
       "      <td>NaN</td>\n",
       "      <td>NaN</td>\n",
       "      <td>NaN</td>\n",
       "      <td>NaN</td>\n",
       "      <td>NaN</td>\n",
       "      <td>NaN</td>\n",
       "      <td>NaN</td>\n",
       "      <td>NaN</td>\n",
       "      <td>NaN</td>\n",
       "    </tr>\n",
       "    <tr>\n",
       "      <th>3586</th>\n",
       "      <td>5981</td>\n",
       "      <td>3</td>\n",
       "      <td>I believe the features of the cyclist affected...</td>\n",
       "      <td>1</td>\n",
       "      <td>1</td>\n",
       "      <td>NaN</td>\n",
       "      <td>1</td>\n",
       "      <td>NaN</td>\n",
       "      <td>NaN</td>\n",
       "      <td>NaN</td>\n",
       "      <td>...</td>\n",
       "      <td>NaN</td>\n",
       "      <td>NaN</td>\n",
       "      <td>NaN</td>\n",
       "      <td>NaN</td>\n",
       "      <td>NaN</td>\n",
       "      <td>NaN</td>\n",
       "      <td>NaN</td>\n",
       "      <td>NaN</td>\n",
       "      <td>NaN</td>\n",
       "      <td>NaN</td>\n",
       "    </tr>\n",
       "    <tr>\n",
       "      <th>3587</th>\n",
       "      <td>5982</td>\n",
       "      <td>3</td>\n",
       "      <td>The setting effects the cyclist because of the...</td>\n",
       "      <td>2</td>\n",
       "      <td>2</td>\n",
       "      <td>NaN</td>\n",
       "      <td>2</td>\n",
       "      <td>NaN</td>\n",
       "      <td>NaN</td>\n",
       "      <td>NaN</td>\n",
       "      <td>...</td>\n",
       "      <td>NaN</td>\n",
       "      <td>NaN</td>\n",
       "      <td>NaN</td>\n",
       "      <td>NaN</td>\n",
       "      <td>NaN</td>\n",
       "      <td>NaN</td>\n",
       "      <td>NaN</td>\n",
       "      <td>NaN</td>\n",
       "      <td>NaN</td>\n",
       "      <td>NaN</td>\n",
       "    </tr>\n",
       "  </tbody>\n",
       "</table>\n",
       "<p>5 rows × 28 columns</p>\n",
       "</div>"
      ],
      "text/plain": [
       "      essay_id  essay_set                                              essay  \\\n",
       "3583      5978          3  The features of the setting affect the cyclist...   \n",
       "3584      5979          3  The features of the setting affected the cycli...   \n",
       "3585      5980          3  Everyone travels to unfamiliar places. Sometim...   \n",
       "3586      5981          3  I believe the features of the cyclist affected...   \n",
       "3587      5982          3  The setting effects the cyclist because of the...   \n",
       "\n",
       "      rater1_domain1  rater2_domain1  rater3_domain1  domain1_score  \\\n",
       "3583               1               1             NaN              1   \n",
       "3584               2               2             NaN              2   \n",
       "3585               1               1             NaN              1   \n",
       "3586               1               1             NaN              1   \n",
       "3587               2               2             NaN              2   \n",
       "\n",
       "      rater1_domain2  rater2_domain2  domain2_score  ...  rater2_trait3  \\\n",
       "3583             NaN             NaN            NaN  ...            NaN   \n",
       "3584             NaN             NaN            NaN  ...            NaN   \n",
       "3585             NaN             NaN            NaN  ...            NaN   \n",
       "3586             NaN             NaN            NaN  ...            NaN   \n",
       "3587             NaN             NaN            NaN  ...            NaN   \n",
       "\n",
       "      rater2_trait4  rater2_trait5  rater2_trait6  rater3_trait1  \\\n",
       "3583            NaN            NaN            NaN            NaN   \n",
       "3584            NaN            NaN            NaN            NaN   \n",
       "3585            NaN            NaN            NaN            NaN   \n",
       "3586            NaN            NaN            NaN            NaN   \n",
       "3587            NaN            NaN            NaN            NaN   \n",
       "\n",
       "      rater3_trait2  rater3_trait3  rater3_trait4  rater3_trait5  \\\n",
       "3583            NaN            NaN            NaN            NaN   \n",
       "3584            NaN            NaN            NaN            NaN   \n",
       "3585            NaN            NaN            NaN            NaN   \n",
       "3586            NaN            NaN            NaN            NaN   \n",
       "3587            NaN            NaN            NaN            NaN   \n",
       "\n",
       "      rater3_trait6  \n",
       "3583            NaN  \n",
       "3584            NaN  \n",
       "3585            NaN  \n",
       "3586            NaN  \n",
       "3587            NaN  \n",
       "\n",
       "[5 rows x 28 columns]"
      ]
     },
     "execution_count": 14,
     "metadata": {},
     "output_type": "execute_result"
    }
   ],
   "source": [
    "#domain 3, y1 = domain1_score (0-3),\n",
    "train_d3 = train[train['essay_set']==3]\n",
    "test_d3 = test[test['essay_set']==3]\n",
    "print(train_d3.shape)\n",
    "train_d3.head()"
   ]
  },
  {
   "cell_type": "code",
   "execution_count": 15,
   "metadata": {},
   "outputs": [
    {
     "name": "stdout",
     "output_type": "stream",
     "text": [
      "(1770, 28)\n"
     ]
    },
    {
     "data": {
      "text/html": [
       "<div>\n",
       "<style scoped>\n",
       "    .dataframe tbody tr th:only-of-type {\n",
       "        vertical-align: middle;\n",
       "    }\n",
       "\n",
       "    .dataframe tbody tr th {\n",
       "        vertical-align: top;\n",
       "    }\n",
       "\n",
       "    .dataframe thead th {\n",
       "        text-align: right;\n",
       "    }\n",
       "</style>\n",
       "<table border=\"1\" class=\"dataframe\">\n",
       "  <thead>\n",
       "    <tr style=\"text-align: right;\">\n",
       "      <th></th>\n",
       "      <th>essay_id</th>\n",
       "      <th>essay_set</th>\n",
       "      <th>essay</th>\n",
       "      <th>rater1_domain1</th>\n",
       "      <th>rater2_domain1</th>\n",
       "      <th>rater3_domain1</th>\n",
       "      <th>domain1_score</th>\n",
       "      <th>rater1_domain2</th>\n",
       "      <th>rater2_domain2</th>\n",
       "      <th>domain2_score</th>\n",
       "      <th>...</th>\n",
       "      <th>rater2_trait3</th>\n",
       "      <th>rater2_trait4</th>\n",
       "      <th>rater2_trait5</th>\n",
       "      <th>rater2_trait6</th>\n",
       "      <th>rater3_trait1</th>\n",
       "      <th>rater3_trait2</th>\n",
       "      <th>rater3_trait3</th>\n",
       "      <th>rater3_trait4</th>\n",
       "      <th>rater3_trait5</th>\n",
       "      <th>rater3_trait6</th>\n",
       "    </tr>\n",
       "  </thead>\n",
       "  <tbody>\n",
       "    <tr>\n",
       "      <th>5309</th>\n",
       "      <td>8863</td>\n",
       "      <td>4</td>\n",
       "      <td>The author concludes the story with this becau...</td>\n",
       "      <td>0</td>\n",
       "      <td>0</td>\n",
       "      <td>NaN</td>\n",
       "      <td>0</td>\n",
       "      <td>NaN</td>\n",
       "      <td>NaN</td>\n",
       "      <td>NaN</td>\n",
       "      <td>...</td>\n",
       "      <td>NaN</td>\n",
       "      <td>NaN</td>\n",
       "      <td>NaN</td>\n",
       "      <td>NaN</td>\n",
       "      <td>NaN</td>\n",
       "      <td>NaN</td>\n",
       "      <td>NaN</td>\n",
       "      <td>NaN</td>\n",
       "      <td>NaN</td>\n",
       "      <td>NaN</td>\n",
       "    </tr>\n",
       "    <tr>\n",
       "      <th>5310</th>\n",
       "      <td>8864</td>\n",
       "      <td>4</td>\n",
       "      <td>The narrater has that in with Paragraph becuse...</td>\n",
       "      <td>0</td>\n",
       "      <td>0</td>\n",
       "      <td>NaN</td>\n",
       "      <td>0</td>\n",
       "      <td>NaN</td>\n",
       "      <td>NaN</td>\n",
       "      <td>NaN</td>\n",
       "      <td>...</td>\n",
       "      <td>NaN</td>\n",
       "      <td>NaN</td>\n",
       "      <td>NaN</td>\n",
       "      <td>NaN</td>\n",
       "      <td>NaN</td>\n",
       "      <td>NaN</td>\n",
       "      <td>NaN</td>\n",
       "      <td>NaN</td>\n",
       "      <td>NaN</td>\n",
       "      <td>NaN</td>\n",
       "    </tr>\n",
       "    <tr>\n",
       "      <th>5311</th>\n",
       "      <td>8865</td>\n",
       "      <td>4</td>\n",
       "      <td>The author concludes the story with that passa...</td>\n",
       "      <td>3</td>\n",
       "      <td>2</td>\n",
       "      <td>NaN</td>\n",
       "      <td>3</td>\n",
       "      <td>NaN</td>\n",
       "      <td>NaN</td>\n",
       "      <td>NaN</td>\n",
       "      <td>...</td>\n",
       "      <td>NaN</td>\n",
       "      <td>NaN</td>\n",
       "      <td>NaN</td>\n",
       "      <td>NaN</td>\n",
       "      <td>NaN</td>\n",
       "      <td>NaN</td>\n",
       "      <td>NaN</td>\n",
       "      <td>NaN</td>\n",
       "      <td>NaN</td>\n",
       "      <td>NaN</td>\n",
       "    </tr>\n",
       "    <tr>\n",
       "      <th>5312</th>\n",
       "      <td>8866</td>\n",
       "      <td>4</td>\n",
       "      <td>The author ended the story with this paragraph...</td>\n",
       "      <td>1</td>\n",
       "      <td>2</td>\n",
       "      <td>NaN</td>\n",
       "      <td>2</td>\n",
       "      <td>NaN</td>\n",
       "      <td>NaN</td>\n",
       "      <td>NaN</td>\n",
       "      <td>...</td>\n",
       "      <td>NaN</td>\n",
       "      <td>NaN</td>\n",
       "      <td>NaN</td>\n",
       "      <td>NaN</td>\n",
       "      <td>NaN</td>\n",
       "      <td>NaN</td>\n",
       "      <td>NaN</td>\n",
       "      <td>NaN</td>\n",
       "      <td>NaN</td>\n",
       "      <td>NaN</td>\n",
       "    </tr>\n",
       "    <tr>\n",
       "      <th>5313</th>\n",
       "      <td>8867</td>\n",
       "      <td>4</td>\n",
       "      <td>The author concludes the story with this parag...</td>\n",
       "      <td>2</td>\n",
       "      <td>2</td>\n",
       "      <td>NaN</td>\n",
       "      <td>2</td>\n",
       "      <td>NaN</td>\n",
       "      <td>NaN</td>\n",
       "      <td>NaN</td>\n",
       "      <td>...</td>\n",
       "      <td>NaN</td>\n",
       "      <td>NaN</td>\n",
       "      <td>NaN</td>\n",
       "      <td>NaN</td>\n",
       "      <td>NaN</td>\n",
       "      <td>NaN</td>\n",
       "      <td>NaN</td>\n",
       "      <td>NaN</td>\n",
       "      <td>NaN</td>\n",
       "      <td>NaN</td>\n",
       "    </tr>\n",
       "  </tbody>\n",
       "</table>\n",
       "<p>5 rows × 28 columns</p>\n",
       "</div>"
      ],
      "text/plain": [
       "      essay_id  essay_set                                              essay  \\\n",
       "5309      8863          4  The author concludes the story with this becau...   \n",
       "5310      8864          4  The narrater has that in with Paragraph becuse...   \n",
       "5311      8865          4  The author concludes the story with that passa...   \n",
       "5312      8866          4  The author ended the story with this paragraph...   \n",
       "5313      8867          4  The author concludes the story with this parag...   \n",
       "\n",
       "      rater1_domain1  rater2_domain1  rater3_domain1  domain1_score  \\\n",
       "5309               0               0             NaN              0   \n",
       "5310               0               0             NaN              0   \n",
       "5311               3               2             NaN              3   \n",
       "5312               1               2             NaN              2   \n",
       "5313               2               2             NaN              2   \n",
       "\n",
       "      rater1_domain2  rater2_domain2  domain2_score  ...  rater2_trait3  \\\n",
       "5309             NaN             NaN            NaN  ...            NaN   \n",
       "5310             NaN             NaN            NaN  ...            NaN   \n",
       "5311             NaN             NaN            NaN  ...            NaN   \n",
       "5312             NaN             NaN            NaN  ...            NaN   \n",
       "5313             NaN             NaN            NaN  ...            NaN   \n",
       "\n",
       "      rater2_trait4  rater2_trait5  rater2_trait6  rater3_trait1  \\\n",
       "5309            NaN            NaN            NaN            NaN   \n",
       "5310            NaN            NaN            NaN            NaN   \n",
       "5311            NaN            NaN            NaN            NaN   \n",
       "5312            NaN            NaN            NaN            NaN   \n",
       "5313            NaN            NaN            NaN            NaN   \n",
       "\n",
       "      rater3_trait2  rater3_trait3  rater3_trait4  rater3_trait5  \\\n",
       "5309            NaN            NaN            NaN            NaN   \n",
       "5310            NaN            NaN            NaN            NaN   \n",
       "5311            NaN            NaN            NaN            NaN   \n",
       "5312            NaN            NaN            NaN            NaN   \n",
       "5313            NaN            NaN            NaN            NaN   \n",
       "\n",
       "      rater3_trait6  \n",
       "5309            NaN  \n",
       "5310            NaN  \n",
       "5311            NaN  \n",
       "5312            NaN  \n",
       "5313            NaN  \n",
       "\n",
       "[5 rows x 28 columns]"
      ]
     },
     "execution_count": 15,
     "metadata": {},
     "output_type": "execute_result"
    }
   ],
   "source": [
    "#domain 4, y1 = domain1_score (0-3),\n",
    "train_d4 = train[train['essay_set']==4]\n",
    "test_d4 = test[test['essay_set']==4]\n",
    "print(train_d4.shape)\n",
    "train_d4.head()"
   ]
  },
  {
   "cell_type": "code",
   "execution_count": 16,
   "metadata": {},
   "outputs": [
    {
     "name": "stdout",
     "output_type": "stream",
     "text": [
      "(1805, 28)\n"
     ]
    },
    {
     "data": {
      "text/html": [
       "<div>\n",
       "<style scoped>\n",
       "    .dataframe tbody tr th:only-of-type {\n",
       "        vertical-align: middle;\n",
       "    }\n",
       "\n",
       "    .dataframe tbody tr th {\n",
       "        vertical-align: top;\n",
       "    }\n",
       "\n",
       "    .dataframe thead th {\n",
       "        text-align: right;\n",
       "    }\n",
       "</style>\n",
       "<table border=\"1\" class=\"dataframe\">\n",
       "  <thead>\n",
       "    <tr style=\"text-align: right;\">\n",
       "      <th></th>\n",
       "      <th>essay_id</th>\n",
       "      <th>essay_set</th>\n",
       "      <th>essay</th>\n",
       "      <th>rater1_domain1</th>\n",
       "      <th>rater2_domain1</th>\n",
       "      <th>rater3_domain1</th>\n",
       "      <th>domain1_score</th>\n",
       "      <th>rater1_domain2</th>\n",
       "      <th>rater2_domain2</th>\n",
       "      <th>domain2_score</th>\n",
       "      <th>...</th>\n",
       "      <th>rater2_trait3</th>\n",
       "      <th>rater2_trait4</th>\n",
       "      <th>rater2_trait5</th>\n",
       "      <th>rater2_trait6</th>\n",
       "      <th>rater3_trait1</th>\n",
       "      <th>rater3_trait2</th>\n",
       "      <th>rater3_trait3</th>\n",
       "      <th>rater3_trait4</th>\n",
       "      <th>rater3_trait5</th>\n",
       "      <th>rater3_trait6</th>\n",
       "    </tr>\n",
       "  </thead>\n",
       "  <tbody>\n",
       "    <tr>\n",
       "      <th>7079</th>\n",
       "      <td>11827</td>\n",
       "      <td>5</td>\n",
       "      <td>In this memoir of Narciso Rodriguez, @PERSON3'...</td>\n",
       "      <td>2</td>\n",
       "      <td>2</td>\n",
       "      <td>NaN</td>\n",
       "      <td>2</td>\n",
       "      <td>NaN</td>\n",
       "      <td>NaN</td>\n",
       "      <td>NaN</td>\n",
       "      <td>...</td>\n",
       "      <td>NaN</td>\n",
       "      <td>NaN</td>\n",
       "      <td>NaN</td>\n",
       "      <td>NaN</td>\n",
       "      <td>NaN</td>\n",
       "      <td>NaN</td>\n",
       "      <td>NaN</td>\n",
       "      <td>NaN</td>\n",
       "      <td>NaN</td>\n",
       "      <td>NaN</td>\n",
       "    </tr>\n",
       "    <tr>\n",
       "      <th>7080</th>\n",
       "      <td>11828</td>\n",
       "      <td>5</td>\n",
       "      <td>Throughout the excerpt from Home the Blueprint...</td>\n",
       "      <td>2</td>\n",
       "      <td>2</td>\n",
       "      <td>NaN</td>\n",
       "      <td>2</td>\n",
       "      <td>NaN</td>\n",
       "      <td>NaN</td>\n",
       "      <td>NaN</td>\n",
       "      <td>...</td>\n",
       "      <td>NaN</td>\n",
       "      <td>NaN</td>\n",
       "      <td>NaN</td>\n",
       "      <td>NaN</td>\n",
       "      <td>NaN</td>\n",
       "      <td>NaN</td>\n",
       "      <td>NaN</td>\n",
       "      <td>NaN</td>\n",
       "      <td>NaN</td>\n",
       "      <td>NaN</td>\n",
       "    </tr>\n",
       "    <tr>\n",
       "      <th>7081</th>\n",
       "      <td>11829</td>\n",
       "      <td>5</td>\n",
       "      <td>The mood the author created in the memoir is l...</td>\n",
       "      <td>3</td>\n",
       "      <td>3</td>\n",
       "      <td>NaN</td>\n",
       "      <td>3</td>\n",
       "      <td>NaN</td>\n",
       "      <td>NaN</td>\n",
       "      <td>NaN</td>\n",
       "      <td>...</td>\n",
       "      <td>NaN</td>\n",
       "      <td>NaN</td>\n",
       "      <td>NaN</td>\n",
       "      <td>NaN</td>\n",
       "      <td>NaN</td>\n",
       "      <td>NaN</td>\n",
       "      <td>NaN</td>\n",
       "      <td>NaN</td>\n",
       "      <td>NaN</td>\n",
       "      <td>NaN</td>\n",
       "    </tr>\n",
       "    <tr>\n",
       "      <th>7082</th>\n",
       "      <td>11830</td>\n",
       "      <td>5</td>\n",
       "      <td>The mood created by the author is showing how ...</td>\n",
       "      <td>1</td>\n",
       "      <td>0</td>\n",
       "      <td>NaN</td>\n",
       "      <td>1</td>\n",
       "      <td>NaN</td>\n",
       "      <td>NaN</td>\n",
       "      <td>NaN</td>\n",
       "      <td>...</td>\n",
       "      <td>NaN</td>\n",
       "      <td>NaN</td>\n",
       "      <td>NaN</td>\n",
       "      <td>NaN</td>\n",
       "      <td>NaN</td>\n",
       "      <td>NaN</td>\n",
       "      <td>NaN</td>\n",
       "      <td>NaN</td>\n",
       "      <td>NaN</td>\n",
       "      <td>NaN</td>\n",
       "    </tr>\n",
       "    <tr>\n",
       "      <th>7083</th>\n",
       "      <td>11831</td>\n",
       "      <td>5</td>\n",
       "      <td>The mood created in the memoir is happiness an...</td>\n",
       "      <td>2</td>\n",
       "      <td>3</td>\n",
       "      <td>NaN</td>\n",
       "      <td>3</td>\n",
       "      <td>NaN</td>\n",
       "      <td>NaN</td>\n",
       "      <td>NaN</td>\n",
       "      <td>...</td>\n",
       "      <td>NaN</td>\n",
       "      <td>NaN</td>\n",
       "      <td>NaN</td>\n",
       "      <td>NaN</td>\n",
       "      <td>NaN</td>\n",
       "      <td>NaN</td>\n",
       "      <td>NaN</td>\n",
       "      <td>NaN</td>\n",
       "      <td>NaN</td>\n",
       "      <td>NaN</td>\n",
       "    </tr>\n",
       "  </tbody>\n",
       "</table>\n",
       "<p>5 rows × 28 columns</p>\n",
       "</div>"
      ],
      "text/plain": [
       "      essay_id  essay_set                                              essay  \\\n",
       "7079     11827          5  In this memoir of Narciso Rodriguez, @PERSON3'...   \n",
       "7080     11828          5  Throughout the excerpt from Home the Blueprint...   \n",
       "7081     11829          5  The mood the author created in the memoir is l...   \n",
       "7082     11830          5  The mood created by the author is showing how ...   \n",
       "7083     11831          5  The mood created in the memoir is happiness an...   \n",
       "\n",
       "      rater1_domain1  rater2_domain1  rater3_domain1  domain1_score  \\\n",
       "7079               2               2             NaN              2   \n",
       "7080               2               2             NaN              2   \n",
       "7081               3               3             NaN              3   \n",
       "7082               1               0             NaN              1   \n",
       "7083               2               3             NaN              3   \n",
       "\n",
       "      rater1_domain2  rater2_domain2  domain2_score  ...  rater2_trait3  \\\n",
       "7079             NaN             NaN            NaN  ...            NaN   \n",
       "7080             NaN             NaN            NaN  ...            NaN   \n",
       "7081             NaN             NaN            NaN  ...            NaN   \n",
       "7082             NaN             NaN            NaN  ...            NaN   \n",
       "7083             NaN             NaN            NaN  ...            NaN   \n",
       "\n",
       "      rater2_trait4  rater2_trait5  rater2_trait6  rater3_trait1  \\\n",
       "7079            NaN            NaN            NaN            NaN   \n",
       "7080            NaN            NaN            NaN            NaN   \n",
       "7081            NaN            NaN            NaN            NaN   \n",
       "7082            NaN            NaN            NaN            NaN   \n",
       "7083            NaN            NaN            NaN            NaN   \n",
       "\n",
       "      rater3_trait2  rater3_trait3  rater3_trait4  rater3_trait5  \\\n",
       "7079            NaN            NaN            NaN            NaN   \n",
       "7080            NaN            NaN            NaN            NaN   \n",
       "7081            NaN            NaN            NaN            NaN   \n",
       "7082            NaN            NaN            NaN            NaN   \n",
       "7083            NaN            NaN            NaN            NaN   \n",
       "\n",
       "      rater3_trait6  \n",
       "7079            NaN  \n",
       "7080            NaN  \n",
       "7081            NaN  \n",
       "7082            NaN  \n",
       "7083            NaN  \n",
       "\n",
       "[5 rows x 28 columns]"
      ]
     },
     "execution_count": 16,
     "metadata": {},
     "output_type": "execute_result"
    }
   ],
   "source": [
    "#domain 5, y1 = domain1_score (0-4),\n",
    "train_d5 = train[train['essay_set']==5]\n",
    "test_d5 = test[test['essay_set']==5]\n",
    "print(train_d5.shape)\n",
    "train_d5.head()"
   ]
  },
  {
   "cell_type": "code",
   "execution_count": 17,
   "metadata": {},
   "outputs": [
    {
     "name": "stdout",
     "output_type": "stream",
     "text": [
      "(1800, 28)\n"
     ]
    },
    {
     "data": {
      "text/html": [
       "<div>\n",
       "<style scoped>\n",
       "    .dataframe tbody tr th:only-of-type {\n",
       "        vertical-align: middle;\n",
       "    }\n",
       "\n",
       "    .dataframe tbody tr th {\n",
       "        vertical-align: top;\n",
       "    }\n",
       "\n",
       "    .dataframe thead th {\n",
       "        text-align: right;\n",
       "    }\n",
       "</style>\n",
       "<table border=\"1\" class=\"dataframe\">\n",
       "  <thead>\n",
       "    <tr style=\"text-align: right;\">\n",
       "      <th></th>\n",
       "      <th>essay_id</th>\n",
       "      <th>essay_set</th>\n",
       "      <th>essay</th>\n",
       "      <th>rater1_domain1</th>\n",
       "      <th>rater2_domain1</th>\n",
       "      <th>rater3_domain1</th>\n",
       "      <th>domain1_score</th>\n",
       "      <th>rater1_domain2</th>\n",
       "      <th>rater2_domain2</th>\n",
       "      <th>domain2_score</th>\n",
       "      <th>...</th>\n",
       "      <th>rater2_trait3</th>\n",
       "      <th>rater2_trait4</th>\n",
       "      <th>rater2_trait5</th>\n",
       "      <th>rater2_trait6</th>\n",
       "      <th>rater3_trait1</th>\n",
       "      <th>rater3_trait2</th>\n",
       "      <th>rater3_trait3</th>\n",
       "      <th>rater3_trait4</th>\n",
       "      <th>rater3_trait5</th>\n",
       "      <th>rater3_trait6</th>\n",
       "    </tr>\n",
       "  </thead>\n",
       "  <tbody>\n",
       "    <tr>\n",
       "      <th>8884</th>\n",
       "      <td>14834</td>\n",
       "      <td>6</td>\n",
       "      <td>There were many obstacles that the builders fa...</td>\n",
       "      <td>2</td>\n",
       "      <td>2</td>\n",
       "      <td>NaN</td>\n",
       "      <td>2</td>\n",
       "      <td>NaN</td>\n",
       "      <td>NaN</td>\n",
       "      <td>NaN</td>\n",
       "      <td>...</td>\n",
       "      <td>NaN</td>\n",
       "      <td>NaN</td>\n",
       "      <td>NaN</td>\n",
       "      <td>NaN</td>\n",
       "      <td>NaN</td>\n",
       "      <td>NaN</td>\n",
       "      <td>NaN</td>\n",
       "      <td>NaN</td>\n",
       "      <td>NaN</td>\n",
       "      <td>NaN</td>\n",
       "    </tr>\n",
       "    <tr>\n",
       "      <th>8885</th>\n",
       "      <td>14835</td>\n",
       "      <td>6</td>\n",
       "      <td>Him from the start, there would have been many...</td>\n",
       "      <td>3</td>\n",
       "      <td>3</td>\n",
       "      <td>NaN</td>\n",
       "      <td>3</td>\n",
       "      <td>NaN</td>\n",
       "      <td>NaN</td>\n",
       "      <td>NaN</td>\n",
       "      <td>...</td>\n",
       "      <td>NaN</td>\n",
       "      <td>NaN</td>\n",
       "      <td>NaN</td>\n",
       "      <td>NaN</td>\n",
       "      <td>NaN</td>\n",
       "      <td>NaN</td>\n",
       "      <td>NaN</td>\n",
       "      <td>NaN</td>\n",
       "      <td>NaN</td>\n",
       "      <td>NaN</td>\n",
       "    </tr>\n",
       "    <tr>\n",
       "      <th>8886</th>\n",
       "      <td>14836</td>\n",
       "      <td>6</td>\n",
       "      <td>The builders of the Empire State Building face...</td>\n",
       "      <td>3</td>\n",
       "      <td>4</td>\n",
       "      <td>NaN</td>\n",
       "      <td>4</td>\n",
       "      <td>NaN</td>\n",
       "      <td>NaN</td>\n",
       "      <td>NaN</td>\n",
       "      <td>...</td>\n",
       "      <td>NaN</td>\n",
       "      <td>NaN</td>\n",
       "      <td>NaN</td>\n",
       "      <td>NaN</td>\n",
       "      <td>NaN</td>\n",
       "      <td>NaN</td>\n",
       "      <td>NaN</td>\n",
       "      <td>NaN</td>\n",
       "      <td>NaN</td>\n",
       "      <td>NaN</td>\n",
       "    </tr>\n",
       "    <tr>\n",
       "      <th>8887</th>\n",
       "      <td>14837</td>\n",
       "      <td>6</td>\n",
       "      <td>In the passage The Mooring Mast by Marcia Amid...</td>\n",
       "      <td>1</td>\n",
       "      <td>1</td>\n",
       "      <td>NaN</td>\n",
       "      <td>1</td>\n",
       "      <td>NaN</td>\n",
       "      <td>NaN</td>\n",
       "      <td>NaN</td>\n",
       "      <td>...</td>\n",
       "      <td>NaN</td>\n",
       "      <td>NaN</td>\n",
       "      <td>NaN</td>\n",
       "      <td>NaN</td>\n",
       "      <td>NaN</td>\n",
       "      <td>NaN</td>\n",
       "      <td>NaN</td>\n",
       "      <td>NaN</td>\n",
       "      <td>NaN</td>\n",
       "      <td>NaN</td>\n",
       "    </tr>\n",
       "    <tr>\n",
       "      <th>8888</th>\n",
       "      <td>14838</td>\n",
       "      <td>6</td>\n",
       "      <td>The builders of the Empire State Building face...</td>\n",
       "      <td>3</td>\n",
       "      <td>3</td>\n",
       "      <td>NaN</td>\n",
       "      <td>3</td>\n",
       "      <td>NaN</td>\n",
       "      <td>NaN</td>\n",
       "      <td>NaN</td>\n",
       "      <td>...</td>\n",
       "      <td>NaN</td>\n",
       "      <td>NaN</td>\n",
       "      <td>NaN</td>\n",
       "      <td>NaN</td>\n",
       "      <td>NaN</td>\n",
       "      <td>NaN</td>\n",
       "      <td>NaN</td>\n",
       "      <td>NaN</td>\n",
       "      <td>NaN</td>\n",
       "      <td>NaN</td>\n",
       "    </tr>\n",
       "  </tbody>\n",
       "</table>\n",
       "<p>5 rows × 28 columns</p>\n",
       "</div>"
      ],
      "text/plain": [
       "      essay_id  essay_set                                              essay  \\\n",
       "8884     14834          6  There were many obstacles that the builders fa...   \n",
       "8885     14835          6  Him from the start, there would have been many...   \n",
       "8886     14836          6  The builders of the Empire State Building face...   \n",
       "8887     14837          6  In the passage The Mooring Mast by Marcia Amid...   \n",
       "8888     14838          6  The builders of the Empire State Building face...   \n",
       "\n",
       "      rater1_domain1  rater2_domain1  rater3_domain1  domain1_score  \\\n",
       "8884               2               2             NaN              2   \n",
       "8885               3               3             NaN              3   \n",
       "8886               3               4             NaN              4   \n",
       "8887               1               1             NaN              1   \n",
       "8888               3               3             NaN              3   \n",
       "\n",
       "      rater1_domain2  rater2_domain2  domain2_score  ...  rater2_trait3  \\\n",
       "8884             NaN             NaN            NaN  ...            NaN   \n",
       "8885             NaN             NaN            NaN  ...            NaN   \n",
       "8886             NaN             NaN            NaN  ...            NaN   \n",
       "8887             NaN             NaN            NaN  ...            NaN   \n",
       "8888             NaN             NaN            NaN  ...            NaN   \n",
       "\n",
       "      rater2_trait4  rater2_trait5  rater2_trait6  rater3_trait1  \\\n",
       "8884            NaN            NaN            NaN            NaN   \n",
       "8885            NaN            NaN            NaN            NaN   \n",
       "8886            NaN            NaN            NaN            NaN   \n",
       "8887            NaN            NaN            NaN            NaN   \n",
       "8888            NaN            NaN            NaN            NaN   \n",
       "\n",
       "      rater3_trait2  rater3_trait3  rater3_trait4  rater3_trait5  \\\n",
       "8884            NaN            NaN            NaN            NaN   \n",
       "8885            NaN            NaN            NaN            NaN   \n",
       "8886            NaN            NaN            NaN            NaN   \n",
       "8887            NaN            NaN            NaN            NaN   \n",
       "8888            NaN            NaN            NaN            NaN   \n",
       "\n",
       "      rater3_trait6  \n",
       "8884            NaN  \n",
       "8885            NaN  \n",
       "8886            NaN  \n",
       "8887            NaN  \n",
       "8888            NaN  \n",
       "\n",
       "[5 rows x 28 columns]"
      ]
     },
     "execution_count": 17,
     "metadata": {},
     "output_type": "execute_result"
    }
   ],
   "source": [
    "#domain 6, y1 = domain1_score (0-4),\n",
    "train_d6 = train[train['essay_set']==6]\n",
    "test_d6 = test[test['essay_set']==6]\n",
    "print(train_d6.shape)\n",
    "train_d6.head()"
   ]
  },
  {
   "cell_type": "code",
   "execution_count": 18,
   "metadata": {},
   "outputs": [
    {
     "name": "stdout",
     "output_type": "stream",
     "text": [
      "(1569, 28)\n"
     ]
    },
    {
     "data": {
      "text/html": [
       "<div>\n",
       "<style scoped>\n",
       "    .dataframe tbody tr th:only-of-type {\n",
       "        vertical-align: middle;\n",
       "    }\n",
       "\n",
       "    .dataframe tbody tr th {\n",
       "        vertical-align: top;\n",
       "    }\n",
       "\n",
       "    .dataframe thead th {\n",
       "        text-align: right;\n",
       "    }\n",
       "</style>\n",
       "<table border=\"1\" class=\"dataframe\">\n",
       "  <thead>\n",
       "    <tr style=\"text-align: right;\">\n",
       "      <th></th>\n",
       "      <th>essay_id</th>\n",
       "      <th>essay_set</th>\n",
       "      <th>essay</th>\n",
       "      <th>rater1_domain1</th>\n",
       "      <th>rater2_domain1</th>\n",
       "      <th>rater3_domain1</th>\n",
       "      <th>domain1_score</th>\n",
       "      <th>rater1_domain2</th>\n",
       "      <th>rater2_domain2</th>\n",
       "      <th>domain2_score</th>\n",
       "      <th>...</th>\n",
       "      <th>rater2_trait3</th>\n",
       "      <th>rater2_trait4</th>\n",
       "      <th>rater2_trait5</th>\n",
       "      <th>rater2_trait6</th>\n",
       "      <th>rater3_trait1</th>\n",
       "      <th>rater3_trait2</th>\n",
       "      <th>rater3_trait3</th>\n",
       "      <th>rater3_trait4</th>\n",
       "      <th>rater3_trait5</th>\n",
       "      <th>rater3_trait6</th>\n",
       "    </tr>\n",
       "  </thead>\n",
       "  <tbody>\n",
       "    <tr>\n",
       "      <th>10684</th>\n",
       "      <td>17834</td>\n",
       "      <td>7</td>\n",
       "      <td>Patience is when your waiting .I was patience ...</td>\n",
       "      <td>8</td>\n",
       "      <td>7</td>\n",
       "      <td>NaN</td>\n",
       "      <td>15</td>\n",
       "      <td>NaN</td>\n",
       "      <td>NaN</td>\n",
       "      <td>NaN</td>\n",
       "      <td>...</td>\n",
       "      <td>2.0</td>\n",
       "      <td>2.0</td>\n",
       "      <td>NaN</td>\n",
       "      <td>NaN</td>\n",
       "      <td>NaN</td>\n",
       "      <td>NaN</td>\n",
       "      <td>NaN</td>\n",
       "      <td>NaN</td>\n",
       "      <td>NaN</td>\n",
       "      <td>NaN</td>\n",
       "    </tr>\n",
       "    <tr>\n",
       "      <th>10685</th>\n",
       "      <td>17836</td>\n",
       "      <td>7</td>\n",
       "      <td>I am not a patience person, like I cant sit i...</td>\n",
       "      <td>6</td>\n",
       "      <td>7</td>\n",
       "      <td>NaN</td>\n",
       "      <td>13</td>\n",
       "      <td>NaN</td>\n",
       "      <td>NaN</td>\n",
       "      <td>NaN</td>\n",
       "      <td>...</td>\n",
       "      <td>2.0</td>\n",
       "      <td>1.0</td>\n",
       "      <td>NaN</td>\n",
       "      <td>NaN</td>\n",
       "      <td>NaN</td>\n",
       "      <td>NaN</td>\n",
       "      <td>NaN</td>\n",
       "      <td>NaN</td>\n",
       "      <td>NaN</td>\n",
       "      <td>NaN</td>\n",
       "    </tr>\n",
       "    <tr>\n",
       "      <th>10686</th>\n",
       "      <td>17837</td>\n",
       "      <td>7</td>\n",
       "      <td>One day I was at basketball practice and I was...</td>\n",
       "      <td>7</td>\n",
       "      <td>8</td>\n",
       "      <td>NaN</td>\n",
       "      <td>15</td>\n",
       "      <td>NaN</td>\n",
       "      <td>NaN</td>\n",
       "      <td>NaN</td>\n",
       "      <td>...</td>\n",
       "      <td>2.0</td>\n",
       "      <td>2.0</td>\n",
       "      <td>NaN</td>\n",
       "      <td>NaN</td>\n",
       "      <td>NaN</td>\n",
       "      <td>NaN</td>\n",
       "      <td>NaN</td>\n",
       "      <td>NaN</td>\n",
       "      <td>NaN</td>\n",
       "      <td>NaN</td>\n",
       "    </tr>\n",
       "    <tr>\n",
       "      <th>10687</th>\n",
       "      <td>17838</td>\n",
       "      <td>7</td>\n",
       "      <td>I going to write about a time when I went to t...</td>\n",
       "      <td>8</td>\n",
       "      <td>9</td>\n",
       "      <td>NaN</td>\n",
       "      <td>17</td>\n",
       "      <td>NaN</td>\n",
       "      <td>NaN</td>\n",
       "      <td>NaN</td>\n",
       "      <td>...</td>\n",
       "      <td>2.0</td>\n",
       "      <td>3.0</td>\n",
       "      <td>NaN</td>\n",
       "      <td>NaN</td>\n",
       "      <td>NaN</td>\n",
       "      <td>NaN</td>\n",
       "      <td>NaN</td>\n",
       "      <td>NaN</td>\n",
       "      <td>NaN</td>\n",
       "      <td>NaN</td>\n",
       "    </tr>\n",
       "    <tr>\n",
       "      <th>10688</th>\n",
       "      <td>17839</td>\n",
       "      <td>7</td>\n",
       "      <td>It can be very hard for somebody to be patient...</td>\n",
       "      <td>7</td>\n",
       "      <td>6</td>\n",
       "      <td>NaN</td>\n",
       "      <td>13</td>\n",
       "      <td>NaN</td>\n",
       "      <td>NaN</td>\n",
       "      <td>NaN</td>\n",
       "      <td>...</td>\n",
       "      <td>1.0</td>\n",
       "      <td>2.0</td>\n",
       "      <td>NaN</td>\n",
       "      <td>NaN</td>\n",
       "      <td>NaN</td>\n",
       "      <td>NaN</td>\n",
       "      <td>NaN</td>\n",
       "      <td>NaN</td>\n",
       "      <td>NaN</td>\n",
       "      <td>NaN</td>\n",
       "    </tr>\n",
       "  </tbody>\n",
       "</table>\n",
       "<p>5 rows × 28 columns</p>\n",
       "</div>"
      ],
      "text/plain": [
       "       essay_id  essay_set                                              essay  \\\n",
       "10684     17834          7  Patience is when your waiting .I was patience ...   \n",
       "10685     17836          7  I am not a patience person, like I cant sit i...   \n",
       "10686     17837          7  One day I was at basketball practice and I was...   \n",
       "10687     17838          7  I going to write about a time when I went to t...   \n",
       "10688     17839          7  It can be very hard for somebody to be patient...   \n",
       "\n",
       "       rater1_domain1  rater2_domain1  rater3_domain1  domain1_score  \\\n",
       "10684               8               7             NaN             15   \n",
       "10685               6               7             NaN             13   \n",
       "10686               7               8             NaN             15   \n",
       "10687               8               9             NaN             17   \n",
       "10688               7               6             NaN             13   \n",
       "\n",
       "       rater1_domain2  rater2_domain2  domain2_score  ...  rater2_trait3  \\\n",
       "10684             NaN             NaN            NaN  ...            2.0   \n",
       "10685             NaN             NaN            NaN  ...            2.0   \n",
       "10686             NaN             NaN            NaN  ...            2.0   \n",
       "10687             NaN             NaN            NaN  ...            2.0   \n",
       "10688             NaN             NaN            NaN  ...            1.0   \n",
       "\n",
       "       rater2_trait4  rater2_trait5  rater2_trait6  rater3_trait1  \\\n",
       "10684            2.0            NaN            NaN            NaN   \n",
       "10685            1.0            NaN            NaN            NaN   \n",
       "10686            2.0            NaN            NaN            NaN   \n",
       "10687            3.0            NaN            NaN            NaN   \n",
       "10688            2.0            NaN            NaN            NaN   \n",
       "\n",
       "       rater3_trait2  rater3_trait3  rater3_trait4  rater3_trait5  \\\n",
       "10684            NaN            NaN            NaN            NaN   \n",
       "10685            NaN            NaN            NaN            NaN   \n",
       "10686            NaN            NaN            NaN            NaN   \n",
       "10687            NaN            NaN            NaN            NaN   \n",
       "10688            NaN            NaN            NaN            NaN   \n",
       "\n",
       "       rater3_trait6  \n",
       "10684            NaN  \n",
       "10685            NaN  \n",
       "10686            NaN  \n",
       "10687            NaN  \n",
       "10688            NaN  \n",
       "\n",
       "[5 rows x 28 columns]"
      ]
     },
     "execution_count": 18,
     "metadata": {},
     "output_type": "execute_result"
    }
   ],
   "source": [
    "#domain 7, y1 = domain1_score (0-30),\n",
    "train_d7 = train[train['essay_set']==7]\n",
    "test_d7 = test[test['essay_set']==7]\n",
    "print(train_d7.shape)\n",
    "train_d7.head()"
   ]
  },
  {
   "cell_type": "code",
   "execution_count": 19,
   "metadata": {
    "scrolled": true
   },
   "outputs": [
    {
     "name": "stdout",
     "output_type": "stream",
     "text": [
      "(723, 28)\n"
     ]
    },
    {
     "data": {
      "text/html": [
       "<div>\n",
       "<style scoped>\n",
       "    .dataframe tbody tr th:only-of-type {\n",
       "        vertical-align: middle;\n",
       "    }\n",
       "\n",
       "    .dataframe tbody tr th {\n",
       "        vertical-align: top;\n",
       "    }\n",
       "\n",
       "    .dataframe thead th {\n",
       "        text-align: right;\n",
       "    }\n",
       "</style>\n",
       "<table border=\"1\" class=\"dataframe\">\n",
       "  <thead>\n",
       "    <tr style=\"text-align: right;\">\n",
       "      <th></th>\n",
       "      <th>essay_id</th>\n",
       "      <th>essay_set</th>\n",
       "      <th>essay</th>\n",
       "      <th>rater1_domain1</th>\n",
       "      <th>rater2_domain1</th>\n",
       "      <th>rater3_domain1</th>\n",
       "      <th>domain1_score</th>\n",
       "      <th>rater1_domain2</th>\n",
       "      <th>rater2_domain2</th>\n",
       "      <th>domain2_score</th>\n",
       "      <th>...</th>\n",
       "      <th>rater2_trait3</th>\n",
       "      <th>rater2_trait4</th>\n",
       "      <th>rater2_trait5</th>\n",
       "      <th>rater2_trait6</th>\n",
       "      <th>rater3_trait1</th>\n",
       "      <th>rater3_trait2</th>\n",
       "      <th>rater3_trait3</th>\n",
       "      <th>rater3_trait4</th>\n",
       "      <th>rater3_trait5</th>\n",
       "      <th>rater3_trait6</th>\n",
       "    </tr>\n",
       "  </thead>\n",
       "  <tbody>\n",
       "    <tr>\n",
       "      <th>12253</th>\n",
       "      <td>20716</td>\n",
       "      <td>8</td>\n",
       "      <td>A long time ago when I was in third grade I h...</td>\n",
       "      <td>18</td>\n",
       "      <td>16</td>\n",
       "      <td>NaN</td>\n",
       "      <td>34</td>\n",
       "      <td>NaN</td>\n",
       "      <td>NaN</td>\n",
       "      <td>NaN</td>\n",
       "      <td>...</td>\n",
       "      <td>4.0</td>\n",
       "      <td>4.0</td>\n",
       "      <td>3.0</td>\n",
       "      <td>3.0</td>\n",
       "      <td>NaN</td>\n",
       "      <td>NaN</td>\n",
       "      <td>NaN</td>\n",
       "      <td>NaN</td>\n",
       "      <td>NaN</td>\n",
       "      <td>NaN</td>\n",
       "    </tr>\n",
       "    <tr>\n",
       "      <th>12254</th>\n",
       "      <td>20717</td>\n",
       "      <td>8</td>\n",
       "      <td>Softball has to be one of the single most gre...</td>\n",
       "      <td>21</td>\n",
       "      <td>26</td>\n",
       "      <td>46.0</td>\n",
       "      <td>46</td>\n",
       "      <td>NaN</td>\n",
       "      <td>NaN</td>\n",
       "      <td>NaN</td>\n",
       "      <td>...</td>\n",
       "      <td>6.0</td>\n",
       "      <td>6.0</td>\n",
       "      <td>5.0</td>\n",
       "      <td>5.0</td>\n",
       "      <td>5.0</td>\n",
       "      <td>5.0</td>\n",
       "      <td>5.0</td>\n",
       "      <td>5.0</td>\n",
       "      <td>5.0</td>\n",
       "      <td>4.0</td>\n",
       "    </tr>\n",
       "    <tr>\n",
       "      <th>12255</th>\n",
       "      <td>20718</td>\n",
       "      <td>8</td>\n",
       "      <td>Some people like making people laugh, I love ...</td>\n",
       "      <td>15</td>\n",
       "      <td>20</td>\n",
       "      <td>40.0</td>\n",
       "      <td>40</td>\n",
       "      <td>NaN</td>\n",
       "      <td>NaN</td>\n",
       "      <td>NaN</td>\n",
       "      <td>...</td>\n",
       "      <td>5.0</td>\n",
       "      <td>4.0</td>\n",
       "      <td>4.0</td>\n",
       "      <td>4.0</td>\n",
       "      <td>4.0</td>\n",
       "      <td>4.0</td>\n",
       "      <td>4.0</td>\n",
       "      <td>4.0</td>\n",
       "      <td>4.0</td>\n",
       "      <td>4.0</td>\n",
       "    </tr>\n",
       "    <tr>\n",
       "      <th>12256</th>\n",
       "      <td>20719</td>\n",
       "      <td>8</td>\n",
       "      <td>\"LAUGHTER\"  @CAPS1 I hang out with my friends...</td>\n",
       "      <td>12</td>\n",
       "      <td>20</td>\n",
       "      <td>30.0</td>\n",
       "      <td>30</td>\n",
       "      <td>NaN</td>\n",
       "      <td>NaN</td>\n",
       "      <td>NaN</td>\n",
       "      <td>...</td>\n",
       "      <td>4.0</td>\n",
       "      <td>4.0</td>\n",
       "      <td>4.0</td>\n",
       "      <td>4.0</td>\n",
       "      <td>3.0</td>\n",
       "      <td>3.0</td>\n",
       "      <td>3.0</td>\n",
       "      <td>3.0</td>\n",
       "      <td>3.0</td>\n",
       "      <td>3.0</td>\n",
       "    </tr>\n",
       "    <tr>\n",
       "      <th>12257</th>\n",
       "      <td>20721</td>\n",
       "      <td>8</td>\n",
       "      <td>Well ima tell a story about the time i got @CA...</td>\n",
       "      <td>11</td>\n",
       "      <td>15</td>\n",
       "      <td>NaN</td>\n",
       "      <td>26</td>\n",
       "      <td>NaN</td>\n",
       "      <td>NaN</td>\n",
       "      <td>NaN</td>\n",
       "      <td>...</td>\n",
       "      <td>3.0</td>\n",
       "      <td>3.0</td>\n",
       "      <td>3.0</td>\n",
       "      <td>3.0</td>\n",
       "      <td>NaN</td>\n",
       "      <td>NaN</td>\n",
       "      <td>NaN</td>\n",
       "      <td>NaN</td>\n",
       "      <td>NaN</td>\n",
       "      <td>NaN</td>\n",
       "    </tr>\n",
       "  </tbody>\n",
       "</table>\n",
       "<p>5 rows × 28 columns</p>\n",
       "</div>"
      ],
      "text/plain": [
       "       essay_id  essay_set                                              essay  \\\n",
       "12253     20716          8   A long time ago when I was in third grade I h...   \n",
       "12254     20717          8   Softball has to be one of the single most gre...   \n",
       "12255     20718          8   Some people like making people laugh, I love ...   \n",
       "12256     20719          8   \"LAUGHTER\"  @CAPS1 I hang out with my friends...   \n",
       "12257     20721          8  Well ima tell a story about the time i got @CA...   \n",
       "\n",
       "       rater1_domain1  rater2_domain1  rater3_domain1  domain1_score  \\\n",
       "12253              18              16             NaN             34   \n",
       "12254              21              26            46.0             46   \n",
       "12255              15              20            40.0             40   \n",
       "12256              12              20            30.0             30   \n",
       "12257              11              15             NaN             26   \n",
       "\n",
       "       rater1_domain2  rater2_domain2  domain2_score  ...  rater2_trait3  \\\n",
       "12253             NaN             NaN            NaN  ...            4.0   \n",
       "12254             NaN             NaN            NaN  ...            6.0   \n",
       "12255             NaN             NaN            NaN  ...            5.0   \n",
       "12256             NaN             NaN            NaN  ...            4.0   \n",
       "12257             NaN             NaN            NaN  ...            3.0   \n",
       "\n",
       "       rater2_trait4  rater2_trait5  rater2_trait6  rater3_trait1  \\\n",
       "12253            4.0            3.0            3.0            NaN   \n",
       "12254            6.0            5.0            5.0            5.0   \n",
       "12255            4.0            4.0            4.0            4.0   \n",
       "12256            4.0            4.0            4.0            3.0   \n",
       "12257            3.0            3.0            3.0            NaN   \n",
       "\n",
       "       rater3_trait2  rater3_trait3  rater3_trait4  rater3_trait5  \\\n",
       "12253            NaN            NaN            NaN            NaN   \n",
       "12254            5.0            5.0            5.0            5.0   \n",
       "12255            4.0            4.0            4.0            4.0   \n",
       "12256            3.0            3.0            3.0            3.0   \n",
       "12257            NaN            NaN            NaN            NaN   \n",
       "\n",
       "       rater3_trait6  \n",
       "12253            NaN  \n",
       "12254            4.0  \n",
       "12255            4.0  \n",
       "12256            3.0  \n",
       "12257            NaN  \n",
       "\n",
       "[5 rows x 28 columns]"
      ]
     },
     "execution_count": 19,
     "metadata": {},
     "output_type": "execute_result"
    }
   ],
   "source": [
    "#domain 8, y1 = domain1_score (0-60),\n",
    "train_d8 = train[train['essay_set']==8]\n",
    "test_d8 = test[test['essay_set']==8]\n",
    "print(train_d8.shape)\n",
    "train_d8.head()"
   ]
  },
  {
   "cell_type": "code",
   "execution_count": 173,
   "metadata": {},
   "outputs": [],
   "source": [
    "train_d3.name = 'dataset 3'\n",
    "train_d4.name = 'dataset 4'\n",
    "train_d5.name = 'dataset 5'\n",
    "train_d6.name = 'dataset 6'\n",
    "train_d7.name = 'dataset 7'\n",
    "train_d8.name = 'dataset 8'"
   ]
  },
  {
   "cell_type": "markdown",
   "metadata": {},
   "source": [
    "# Data analysis and visualization"
   ]
  },
  {
   "cell_type": "code",
   "execution_count": 49,
   "metadata": {
    "scrolled": true
   },
   "outputs": [],
   "source": [
    "# Boxlot can be used to visualize the distribution of domain1_score values over each essay set.\n",
    "def y_boxplot(df, column_name):\n",
    "    df.boxplot(column= column_name, figsize=(10, 10))\n",
    "    plt.show()"
   ]
  },
  {
   "cell_type": "code",
   "execution_count": 50,
   "metadata": {},
   "outputs": [
    {
     "data": {
      "image/png": "[encoded data removed]",
      "text/plain": [
       "<Figure size 720x720 with 1 Axes>"
      ]
     },
     "metadata": {
      "needs_background": "light"
     },
     "output_type": "display_data"
    }
   ],
   "source": [
    "y_boxplot(train_d1, 'domain1_score')"
   ]
  },
  {
   "cell_type": "markdown",
   "metadata": {},
   "source": [
    "# choose the X, y for data analysis, processing, and modeling"
   ]
  },
  {
   "cell_type": "code",
   "execution_count": 24,
   "metadata": {},
   "outputs": [],
   "source": [
    "# dataset 1"
   ]
  },
  {
   "cell_type": "code",
   "execution_count": 23,
   "metadata": {
    "scrolled": true
   },
   "outputs": [
    {
     "name": "stdout",
     "output_type": "stream",
     "text": [
      "                                                  essay  domain1_score\n",
      "0     Dear local newspaper, I think effects computer...              8\n",
      "1     Dear @CAPS1 @CAPS2, I believe that using compu...              9\n",
      "2     Dear, @CAPS1 @CAPS2 @CAPS3 More and more peopl...              7\n",
      "3     Dear Local Newspaper, @CAPS1 I have found that...             10\n",
      "4     Dear @LOCATION1, I know having computers has a...              8\n",
      "5     Dear @LOCATION1, I think that computers have a...              8\n",
      "6     Did you know that more and more people these d...             10\n",
      "7     @PERCENT1 of people agree that computers make ...             10\n",
      "8     Dear reader, @ORGANIZATION1 has had a dramatic...              9\n",
      "9     In the @LOCATION1 we have the technology of a ...              9\n",
      "10    Dear @LOCATION1, @CAPS1 people acknowledge the...              8\n",
      "11    Dear @CAPS1 @CAPS2 I feel that computers do ta...              8\n",
      "12    Dear local newspaper I raed ur argument on the...              7\n",
      "13    My three detaileds for this news paper article...              6\n",
      "14    Dear, In this world today we should have every...              6\n",
      "15    Dear @ORGANIZATION1, The computer blinked to l...             12\n",
      "16    Dear Local Newspaper, I belive that computers ...              8\n",
      "17    Dear Local Newspaper, I must admit that the ex...              8\n",
      "18    I aegre waf the evansmant ov tnachnolage. The ...              4\n",
      "19    Well computers can be a good or a bad thing. I...              6\n",
      "20    Dear @CAPS1 of the @CAPS2 @CAPS3 daily, I am w...              8\n",
      "21    Dear local Newspaper @CAPS1 a take all your co...              3\n",
      "22    Dear local newspaper, @CAPS1 you ever see a ch...             10\n",
      "23    Dear local newspaper, I've heard that not many...             11\n",
      "24    Dear @CAPS1, @CAPS2 off, I beileve that comput...              8\n",
      "25    Do you think that computers are useless? Or do...              9\n",
      "26    Computers a good because you can get infermati...              4\n",
      "27    Dear Newspaper, Computers are high tec and hav...              9\n",
      "28    Dear local newspaper, @CAPS1 people throughout...              9\n",
      "29    Dear Newspaper People, I think that computers ...              8\n",
      "...                                                 ...            ...\n",
      "1753  Dear local newspaper, @CAPS1 on a beautiful su...             10\n",
      "1754  Dear @CAPS1, I believe that computers have a n...             10\n",
      "1755  I think we can all agree that computer usage i...             12\n",
      "1756  Dear @PERSON1, Computers are very helpful in d...              8\n",
      "1757  Dear Newspaper, @CAPS1 are worried that people...              8\n",
      "1758  Dear Local Newspaper: @CAPS1 you know that ove...             12\n",
      "1759  Dear @PERSON1, The advansing technology is sho...              8\n",
      "1760  Dear local Newspaper I ting that computers are...              5\n",
      "1761  Man has always been interested in technology. ...              8\n",
      "1762  Guaranteed, @NUM1 years from now we will still...              9\n",
      "1763  I think the effects of the computer are bad, t...              8\n",
      "1764  Dear editor, I think people are using computer...              9\n",
      "1765  Dear @CAPS1 @CAPS2, @CAPS3, experts have been ...             10\n",
      "1766  Computers, a @LOCATION1 topic if you ask me. S...              8\n",
      "1767  Dear Newspaper Readers, @CAPS1 many hours a da...             10\n",
      "1768  Dear @CAPS1 newspaper, I have resently read th...              8\n",
      "1769  Dear @ORGANIZATION2 (our local newspaper), @CA...             10\n",
      "1770  Dear newspaper, In my opinion computers do ben...              9\n",
      "1771  Technology, such as computers are very big. I ...              9\n",
      "1772  Dear Newspaper, Computers have advance a lot s...             11\n",
      "1773  Dear Newspaper, I think that computers have a ...              5\n",
      "1774  Dear @LOCATION1, *@CAPS1*. Now I hear my favor...             10\n",
      "1775  Dear Newspaper I think that computers were one...              9\n",
      "1776  Mom!!! Did you know that the human body has on...             10\n",
      "1777  Dear @ORGANIZATION1, I believe that computers ...              8\n",
      "1778  Dear @CAPS1, @CAPS2 several reasons on way I t...              8\n",
      "1779  Do a adults and kids spend to much time on the...              7\n",
      "1780  My opinion is that people should have computer...              8\n",
      "1781  Dear readers, I think that its good and bad to...              2\n",
      "1782  Dear - Local Newspaper I agree thats computers...              7\n",
      "\n",
      "[1783 rows x 2 columns]\n"
     ]
    }
   ],
   "source": [
    "data1 = train_d1[['essay','domain1_score']].copy()\n",
    "print(data1)"
   ]
  },
  {
   "cell_type": "markdown",
   "metadata": {},
   "source": [
    "# Data analysis"
   ]
  },
  {
   "cell_type": "code",
   "execution_count": 25,
   "metadata": {},
   "outputs": [],
   "source": [
    "#Tokenize a sentence into words\n",
    "def sentence_to_wordlist(input_sentence):\n",
    "    REPLACE_BY_SPACE_RE = re.compile('[/(){}\\[\\]\\|@,;]') #commonly used symbols to space\n",
    "    BAD_SYMBOLS_RE = re.compile('[^0-9a-z #+_]') #special symbols to space\n",
    "    input_sentence = input_sentence.lower()# lowercase text\n",
    "    input_sentence = REPLACE_BY_SPACE_RE.sub(r' ',input_sentence).strip()# replace REPLACE_BY_SPACE_RE symbols by space in text\n",
    "    input_sentence = BAD_SYMBOLS_RE.sub(r'',input_sentence)# delete symbols which are in BAD_SYMBOLS_RE from text\n",
    "    input_sentence = \" \".join([word for word in input_sentence.split()])# delete stopwords from text\n",
    "    return nltk.word_tokenize(input_sentence)"
   ]
  },
  {
   "cell_type": "code",
   "execution_count": 26,
   "metadata": {},
   "outputs": [],
   "source": [
    "#Tokenize an essay into list of words\n",
    "def essay_to_wordlists(input_essay):\n",
    "    stripped_essay = input_essay.strip()\n",
    "    tokenizer = nltk.data.load('tokenizers/punkt/english.pickle')\n",
    "    sentences = tokenizer.tokenize(stripped_essay)\n",
    "    tokenized_sentences = []\n",
    "    for sentence in sentences:\n",
    "        if len(sentence) > 0:\n",
    "            sentence = sentence_to_wordlist(sentence)\n",
    "            if sentence != []:\n",
    "                tokenized_sentences.append(sentence)\n",
    "    return tokenized_sentences"
   ]
  },
  {
   "cell_type": "code",
   "execution_count": 27,
   "metadata": {},
   "outputs": [],
   "source": [
    "tokenized_sentences = essay_to_wordlists(data1['essay'][77])"
   ]
  },
  {
   "cell_type": "code",
   "execution_count": 28,
   "metadata": {
    "scrolled": false
   },
   "outputs": [
    {
     "data": {
      "text/plain": [
       "32"
      ]
     },
     "execution_count": 28,
     "metadata": {},
     "output_type": "execute_result"
    }
   ],
   "source": [
    "len(tokenized_sentences) # how many sentence --> list in an essay"
   ]
  },
  {
   "cell_type": "code",
   "execution_count": 30,
   "metadata": {},
   "outputs": [
    {
     "name": "stdout",
     "output_type": "stream",
     "text": [
      "average word length:  4.448391674998948\n",
      "average sentences:  22.771733034212\n",
      "average word counts:  365.58945597307905\n"
     ]
    }
   ],
   "source": [
    "#use tokenized_sentences\n",
    "avg_word_lengths = []\n",
    "word_counts = []\n",
    "sentence_counts = []\n",
    "for i in range(len(data1)):\n",
    "    #print(i)\n",
    "    tokenized_sentences = essay_to_wordlists(data1['essay'][i])\n",
    "    avg_wordlength_in_sentences = []\n",
    "    sentence_counts.append(len(tokenized_sentences))\n",
    "    words_in_sentence = 0\n",
    "    for s in tokenized_sentences:\n",
    "        words_in_sentence += len(s)\n",
    "        word_len_in_s = [len(word) for word in s] \n",
    "        avg_l_in_s = sum(word_len_in_s) / len(s)\n",
    "        avg_wordlength_in_sentences.append(avg_l_in_s)   \n",
    "    word_counts.append(words_in_sentence)\n",
    "    avg_word_lengths.append(sum(avg_wordlength_in_sentences) / len(avg_wordlength_in_sentences))\n",
    "print(\"average word length: \", sum(avg_word_lengths)/len(avg_word_lengths))\n",
    "print(\"average sentences: \", sum(sentence_counts) / len(sentence_counts))\n",
    "print(\"average word counts: \", sum(word_counts) / len(word_counts))"
   ]
  },
  {
   "cell_type": "markdown",
   "metadata": {},
   "source": [
    "### the method by tokenized sentences vs nltk word_tokenize"
   ]
  },
  {
   "cell_type": "code",
   "execution_count": 40,
   "metadata": {},
   "outputs": [],
   "source": [
    "#calculate word length (average) in essay\n",
    "def avg_word_len(essay):\n",
    "    clean_essay = re.sub(r'\\W',' ',essay) #non word to space\n",
    "    words = nltk.word_tokenize(clean_essay)\n",
    "    return sum(len(word) for word in words) / len(words)\n",
    "\n",
    "#calculate number of words in an essay\n",
    "def word_count(essay):\n",
    "    clean_essay = re.sub(r'\\W',' ',essay)\n",
    "    words = nltk.word_tokenize(clean_essay)\n",
    "    return len(words)\n",
    "\n",
    "#calculate total characters\n",
    "def char_count(essay):\n",
    "    clean_essay = re.sub(r'\\s','',essay)\n",
    "    return len(clean_essay)\n",
    "\n",
    "#calculate number of sentences\n",
    "def sent_count(essay):\n",
    "    sentences = nltk.sent_tokenize(essay)\n",
    "    return len(sentences)"
   ]
  },
  {
   "cell_type": "code",
   "execution_count": 41,
   "metadata": {},
   "outputs": [
    {
     "name": "stdout",
     "output_type": "stream",
     "text": [
      "domain1 average word length:  4.33473967079466\n",
      "domain1 average word count:  370.62591138530564\n",
      "domain1 average char count:  1664.6135726303983\n",
      "domain1 average setence count:  22.779024116657318\n"
     ]
    }
   ],
   "source": [
    "average_essay_word_length = []\n",
    "for i in data1['essay']:\n",
    "    l = avg_word_len(i)\n",
    "    average_essay_word_length.append(l)\n",
    "print(\"domain1 average word length: \", sum(average_essay_word_length) / len(average_essay_word_length))\n",
    "\n",
    "average_essay_word_count = []\n",
    "for i in data1['essay']:\n",
    "    c = word_count(i)\n",
    "    average_essay_word_count.append(c)\n",
    "print(\"domain1 average word count: \", sum(average_essay_word_count) / len(average_essay_word_count))\n",
    "\n",
    "average_essay_char_count = []\n",
    "for i in data1['essay']:\n",
    "    c = char_count(i)\n",
    "    average_essay_char_count.append(c)\n",
    "print(\"domain1 average char count: \", sum(average_essay_char_count) / len(average_essay_char_count))\n",
    "\n",
    "average_essay_sent_count = []\n",
    "for i in data1['essay']:\n",
    "    c = sent_count(i)\n",
    "    average_essay_sent_count.append(c)\n",
    "print(\"domain1 average setence count: \", sum(average_essay_sent_count) / len(average_essay_sent_count))"
   ]
  },
  {
   "cell_type": "code",
   "execution_count": 42,
   "metadata": {},
   "outputs": [],
   "source": [
    "#calculate number of lemmas per essay\n",
    "def analysis_on_lemmas(essay):\n",
    "    clean_essay = re.sub(r'\\W',' ',essay)\n",
    "    words = nltk.word_tokenize(clean_essay)    \n",
    "    stop_words = set(stopwords.words(\"english\"))\n",
    "    filtered_words = [word for word in words if word not in stop_words]\n",
    "    #print(filtered_words)\n",
    "    \n",
    "    lemmas = []\n",
    "    lemmas_dict = {}\n",
    "    noun_count, adj_count, verb_count, adv_count = 0, 0, 0, 0\n",
    "\n",
    "    wordnet_lemmatizer = WordNetLemmatizer()\n",
    "    for word in filtered_words:\n",
    "        words = nltk.word_tokenize(word)\n",
    "        tagged = nltk.pos_tag(words)\n",
    "        #print(words)\n",
    "        #print(tagged)\n",
    "        token = tagged[0][0]\n",
    "        pos_tag = tagged[0][1]\n",
    "        #print(pos_tag)\n",
    "        if pos_tag.startswith('N'):\n",
    "            pos = wordnet.NOUN\n",
    "            #print(pos)\n",
    "            noun_count += 1\n",
    "            lemmas.append(wordnet_lemmatizer.lemmatize(token, pos))\n",
    "            #lemmas_dict[wordnet_lemmatizer.lemmatize(token_tuple[0], pos)] = 1\n",
    "        elif pos_tag.startswith('J'):\n",
    "            pos = wordnet.ADJ\n",
    "            adj_count += 1\n",
    "            lemmas.append(wordnet_lemmatizer.lemmatize(token, pos))\n",
    "            #lemmas_dict[wordnet_lemmatizer.lemmatize(token_tuple[0], pos)] += 1\n",
    "        elif pos_tag.startswith('V'):\n",
    "            pos = wordnet.VERB\n",
    "            verb_count += 1\n",
    "            lemmas.append(wordnet_lemmatizer.lemmatize(token, pos))\n",
    "            #lemmas_dict[wordnet_lemmatizer.lemmatize(token_tuple[0], pos)] += 1\n",
    "        elif pos_tag.startswith('R'):\n",
    "            pos = wordnet.ADV\n",
    "            adv_count += 1\n",
    "            lemmas.append(wordnet_lemmatizer.lemmatize(token, pos))\n",
    "            #lemmas_dict[wordnet_lemmatizer.lemmatize(token_tuple[0], pos)] += 1\n",
    "        else:\n",
    "            pos = wordnet.NOUN\n",
    "            lemmas.append(wordnet_lemmatizer.lemmatize(token, pos))\n",
    "            #lemmas_dict[wordnet_lemmatizer.lemmatize(token_tuple[0], pos)] += 1             \n",
    "    lemma_count = len(set(lemmas))\n",
    "    return lemma_count, noun_count, adj_count, verb_count, adv_count"
   ]
  },
  {
   "cell_type": "code",
   "execution_count": 47,
   "metadata": {
    "scrolled": false
   },
   "outputs": [],
   "source": [
    "def lemma_analysis(df):\n",
    "    average_essay_lemma_count = []\n",
    "    ave_noun_count, ave_adj_count, ave_verb_count, ave_adv_count = [], [], [], []\n",
    "    for i in df['essay']:\n",
    "        lemma_count, noun_count, adj_count, verb_count, adv_count = analysis_on_lemmas(i)\n",
    "        average_essay_lemma_count.append(lemma_count)\n",
    "        ave_noun_count.append(noun_count)\n",
    "        ave_adj_count.append(adj_count)\n",
    "        ave_verb_count.append(verb_count)\n",
    "        ave_adv_count.append(adv_count)\n",
    "    \n",
    "    print(df.name, \" average lemma count: \", sum(average_essay_lemma_count) / len(average_essay_lemma_count))\n",
    "    print(df.name, \" average noun count: \", sum(ave_noun_count) / len(ave_noun_count))\n",
    "    print(df.name, \" average adj count: \", sum(ave_adj_count) / len(ave_adj_count))\n",
    "    print(df.name, \" average verb count: \", sum(ave_verb_count) / len(ave_verb_count))\n",
    "    print(df.name, \" average adv count: \", sum(ave_adv_count) / len(ave_adv_count))"
   ]
  },
  {
   "cell_type": "code",
   "execution_count": 48,
   "metadata": {
    "scrolled": true
   },
   "outputs": [
    {
     "name": "stdout",
     "output_type": "stream",
     "text": [
      "dataset 1  average lemma count:  120.59562535053281\n",
      "dataset 1  average noun count:  124.22378014582165\n",
      "dataset 1 average adj count:  15.053280987100393\n",
      "dataset 1 average verb count:  24.2630398205272\n",
      "dataset 1 average adv count:  13.04038137969714\n"
     ]
    }
   ],
   "source": [
    "lemma_analysis(train_d1)"
   ]
  },
  {
   "cell_type": "code",
   "execution_count": null,
   "metadata": {},
   "outputs": [],
   "source": [
    "# for all analysis, combine the above functions"
   ]
  },
  {
   "cell_type": "code",
   "execution_count": 51,
   "metadata": {},
   "outputs": [],
   "source": [
    "def essay_analysis(df, y_name):\n",
    "    #plot y\n",
    "    y_boxplot(df, y_name)\n",
    "    average_essay_word_length = []\n",
    "    for i in df['essay']:\n",
    "        l = avg_word_len(i)\n",
    "        average_essay_word_length.append(l)\n",
    "    print(df.name, \" average word length: \", sum(average_essay_word_length) / len(average_essay_word_length))\n",
    "\n",
    "    average_essay_word_count = []\n",
    "    for i in df['essay']:\n",
    "        c = word_count(i)\n",
    "        average_essay_word_count.append(c)\n",
    "    print(df.name, \" average word count: \", sum(average_essay_word_count) / len(average_essay_word_count))\n",
    "\n",
    "    average_essay_char_count = []\n",
    "    for i in df['essay']:\n",
    "        c = char_count(i)\n",
    "        average_essay_char_count.append(c)\n",
    "    print(df.name, \" average char count: \", sum(average_essay_char_count) / len(average_essay_char_count))\n",
    "\n",
    "    average_essay_sent_count = []\n",
    "    for i in df['essay']:\n",
    "        c = sent_count(i)\n",
    "        average_essay_sent_count.append(c)\n",
    "    print(df.name, \" average setence count: \", sum(average_essay_sent_count) / len(average_essay_sent_count))\n",
    "\n",
    "    lemma_analysis(df)"
   ]
  },
  {
   "cell_type": "code",
   "execution_count": 52,
   "metadata": {},
   "outputs": [
    {
     "data": {
      "image/png": "[encoded data removed]",
      "text/plain": [
       "<Figure size 720x720 with 1 Axes>"
      ]
     },
     "metadata": {
      "needs_background": "light"
     },
     "output_type": "display_data"
    },
    {
     "name": "stdout",
     "output_type": "stream",
     "text": [
      "dataset 1  average word length:  4.33473967079466\n",
      "dataset 1  average word count:  370.62591138530564\n",
      "dataset 1  average char count:  1664.6135726303983\n",
      "dataset 1  average setence count:  22.779024116657318\n",
      "dataset 1  average lemma count:  120.59562535053281\n",
      "dataset 1  average noun count:  124.22378014582165\n",
      "dataset 1 average adj count:  15.053280987100393\n",
      "dataset 1 average verb count:  24.2630398205272\n",
      "dataset 1 average adv count:  13.04038137969714\n"
     ]
    }
   ],
   "source": [
    "essay_analysis(train_d1, 'domain1_score')"
   ]
  },
  {
   "cell_type": "markdown",
   "metadata": {},
   "source": [
    "# prepare datasets for ML"
   ]
  },
  {
   "cell_type": "markdown",
   "metadata": {},
   "source": [
    "### BOW"
   ]
  },
  {
   "cell_type": "code",
   "execution_count": 172,
   "metadata": {},
   "outputs": [],
   "source": [
    "#splitting data into train data and test data (70/30)\n",
    "def split_BOW_dataset(df, y_name='domain1_score',isPCA=False, n=2):\n",
    "    def get_count_bag_vector(essays, features = 10000):\n",
    "        vectorizer = CountVectorizer(max_features=features, ngram_range=(1,3),stop_words='english')\n",
    "        count_vectors = vectorizer.fit_transform(essays)\n",
    "        feature_names = vectorizer.get_feature_names()\n",
    "        return feature_names, count_vectors\n",
    "    feature_names_cv, count_vectors = get_count_bag_vector(df['essay'])\n",
    "    if isPCA == True:\n",
    "        pca = PCA(n_components = n)\n",
    "        dataset_BOW = pd.DataFrame.from_records(count_vectors.toarray())\n",
    "        dataset_pca = pca.fit_transform(dataset_BOW)\n",
    "        X_cv = dataset_pca\n",
    "    else:\n",
    "        X_cv = count_vectors.toarray()\n",
    "    y_cv = df[y_name].as_matrix()\n",
    "    X_train, X_test, y_train, y_test = train_test_split(X_cv, y_cv, test_size=0.3)\n",
    "    return X_train, X_test, y_train, y_test"
   ]
  },
  {
   "cell_type": "code",
   "execution_count": 68,
   "metadata": {
    "scrolled": true
   },
   "outputs": [
    {
     "name": "stderr",
     "output_type": "stream",
     "text": [
      "/home/chenming/anaconda3/lib/python3.7/site-packages/ipykernel_launcher.py:11: FutureWarning: Method .as_matrix will be removed in a future version. Use .values instead.\n",
      "  # This is added back by InteractiveShellApp.init_path()\n"
     ]
    }
   ],
   "source": [
    "#PCA for BOW\n",
    "X_train, X_test, y_train, y_test = split_BOW_dataset(train_d1, 'domain1_score', isPCA=True, n=8)"
   ]
  },
  {
   "cell_type": "code",
   "execution_count": 43,
   "metadata": {
    "scrolled": true
   },
   "outputs": [
    {
     "name": "stderr",
     "output_type": "stream",
     "text": [
      "/home/chenming/anaconda3/lib/python3.7/site-packages/ipykernel_launcher.py:11: FutureWarning: Method .as_matrix will be removed in a future version. Use .values instead.\n",
      "  # This is added back by InteractiveShellApp.init_path()\n"
     ]
    },
    {
     "name": "stdout",
     "output_type": "stream",
     "text": [
      "2\n",
      "Coefficients: \n",
      " [0.09998669 0.04868705]\n",
      "Mean squared error: 1.90\n",
      "Root Mean squared error: 1.38\n"
     ]
    },
    {
     "name": "stderr",
     "output_type": "stream",
     "text": [
      "/home/chenming/anaconda3/lib/python3.7/site-packages/ipykernel_launcher.py:11: FutureWarning: Method .as_matrix will be removed in a future version. Use .values instead.\n",
      "  # This is added back by InteractiveShellApp.init_path()\n"
     ]
    },
    {
     "name": "stdout",
     "output_type": "stream",
     "text": [
      "3\n",
      "Coefficients: \n",
      " [ 0.09619649  0.05229133 -0.10276531]\n",
      "Mean squared error: 1.79\n",
      "Root Mean squared error: 1.34\n"
     ]
    },
    {
     "name": "stderr",
     "output_type": "stream",
     "text": [
      "/home/chenming/anaconda3/lib/python3.7/site-packages/ipykernel_launcher.py:11: FutureWarning: Method .as_matrix will be removed in a future version. Use .values instead.\n",
      "  # This is added back by InteractiveShellApp.init_path()\n"
     ]
    },
    {
     "name": "stdout",
     "output_type": "stream",
     "text": [
      "4\n",
      "Coefficients: \n",
      " [ 0.09780663  0.05769414 -0.10234929  0.12047903]\n",
      "Mean squared error: 1.71\n",
      "Root Mean squared error: 1.31\n"
     ]
    },
    {
     "name": "stderr",
     "output_type": "stream",
     "text": [
      "/home/chenming/anaconda3/lib/python3.7/site-packages/ipykernel_launcher.py:11: FutureWarning: Method .as_matrix will be removed in a future version. Use .values instead.\n",
      "  # This is added back by InteractiveShellApp.init_path()\n"
     ]
    },
    {
     "name": "stdout",
     "output_type": "stream",
     "text": [
      "5\n",
      "Coefficients: \n",
      " [ 0.1038427   0.06065352 -0.10222466  0.13351893  0.03869418]\n",
      "Mean squared error: 1.59\n",
      "Root Mean squared error: 1.26\n"
     ]
    },
    {
     "name": "stderr",
     "output_type": "stream",
     "text": [
      "/home/chenming/anaconda3/lib/python3.7/site-packages/ipykernel_launcher.py:11: FutureWarning: Method .as_matrix will be removed in a future version. Use .values instead.\n",
      "  # This is added back by InteractiveShellApp.init_path()\n"
     ]
    },
    {
     "name": "stdout",
     "output_type": "stream",
     "text": [
      "6\n",
      "Coefficients: \n",
      " [ 0.10329081  0.05532346 -0.09222827  0.12174879  0.041284    0.23188883]\n",
      "Mean squared error: 1.37\n",
      "Root Mean squared error: 1.17\n"
     ]
    },
    {
     "name": "stderr",
     "output_type": "stream",
     "text": [
      "/home/chenming/anaconda3/lib/python3.7/site-packages/ipykernel_launcher.py:11: FutureWarning: Method .as_matrix will be removed in a future version. Use .values instead.\n",
      "  # This is added back by InteractiveShellApp.init_path()\n"
     ]
    },
    {
     "name": "stdout",
     "output_type": "stream",
     "text": [
      "7\n",
      "Coefficients: \n",
      " [ 0.10750368  0.05809701 -0.10073759  0.11603212  0.04071809  0.23264353\n",
      " -0.04095658]\n",
      "Mean squared error: 1.46\n",
      "Root Mean squared error: 1.21\n"
     ]
    },
    {
     "name": "stderr",
     "output_type": "stream",
     "text": [
      "/home/chenming/anaconda3/lib/python3.7/site-packages/ipykernel_launcher.py:11: FutureWarning: Method .as_matrix will be removed in a future version. Use .values instead.\n",
      "  # This is added back by InteractiveShellApp.init_path()\n"
     ]
    },
    {
     "name": "stdout",
     "output_type": "stream",
     "text": [
      "8\n",
      "Coefficients: \n",
      " [ 0.09899677  0.05876253 -0.10906566  0.121472    0.03919092  0.23803198\n",
      " -0.0309215   0.03229291]\n",
      "Mean squared error: 1.39\n",
      "Root Mean squared error: 1.18\n"
     ]
    },
    {
     "name": "stderr",
     "output_type": "stream",
     "text": [
      "/home/chenming/anaconda3/lib/python3.7/site-packages/ipykernel_launcher.py:11: FutureWarning: Method .as_matrix will be removed in a future version. Use .values instead.\n",
      "  # This is added back by InteractiveShellApp.init_path()\n"
     ]
    },
    {
     "name": "stdout",
     "output_type": "stream",
     "text": [
      "9\n",
      "Coefficients: \n",
      " [ 0.10106367  0.05728382 -0.09996886  0.13263419  0.04016966  0.23978124\n",
      " -0.03304856  0.04073714 -0.10556929]\n",
      "Mean squared error: 1.53\n",
      "Root Mean squared error: 1.24\n",
      "10\n",
      "Coefficients: \n",
      " [ 0.10562124  0.05808059 -0.10045817  0.11878757  0.04217142  0.24112361\n",
      " -0.03127808  0.03942337 -0.11162862  0.03011216]\n",
      "Mean squared error: 1.21\n",
      "Root Mean squared error: 1.10\n"
     ]
    },
    {
     "name": "stderr",
     "output_type": "stream",
     "text": [
      "/home/chenming/anaconda3/lib/python3.7/site-packages/ipykernel_launcher.py:11: FutureWarning: Method .as_matrix will be removed in a future version. Use .values instead.\n",
      "  # This is added back by InteractiveShellApp.init_path()\n"
     ]
    }
   ],
   "source": [
    "for n in range(2,11):\n",
    "    X_train, X_test, y_train, y_test = split_dataset(set_num=1, isPCA=True, n=n)\n",
    "    print(n)\n",
    "    lr(X_train, y_train,X_test)"
   ]
  },
  {
   "cell_type": "code",
   "execution_count": null,
   "metadata": {},
   "outputs": [],
   "source": [
    "#no PCA for BOW\n",
    "X_train, X_test, y_train, y_test = split_BOW_dataset(train_d1, 'domain1_score', isPCA=False)"
   ]
  },
  {
   "cell_type": "markdown",
   "metadata": {},
   "source": [
    "# Modeling"
   ]
  },
  {
   "cell_type": "code",
   "execution_count": 75,
   "metadata": {},
   "outputs": [
    {
     "data": {
      "text/plain": [
       "(1248,)"
      ]
     },
     "execution_count": 75,
     "metadata": {},
     "output_type": "execute_result"
    }
   ],
   "source": [
    "y_train.shape"
   ]
  },
  {
   "cell_type": "code",
   "execution_count": 76,
   "metadata": {},
   "outputs": [
    {
     "name": "stdout",
     "output_type": "stream",
     "text": [
      "Coefficients: \n",
      " [ 0.09907657  0.05602797 -0.09866069  0.12825838  0.04592011  0.23754523\n",
      " -0.02705084  0.04082513]\n",
      "Mean squared error: 1.33\n",
      "Root Mean squared error: 1.15\n"
     ]
    }
   ],
   "source": [
    "# Training a linear regression model using only Bag of Words (BOW)\n",
    "#model Linear regression\n",
    "linearRegression = LinearRegression()\n",
    "linearRegression.fit(X_train, y_train)\n",
    "y_lr = linearRegression.predict(X_test)\n",
    "#result\n",
    "\n",
    "print('Coefficients: \\n', linearRegression.coef_)\n",
    "print('Mean squared error: %.2f'%mean_squared_error(y_test, y_lr))\n",
    "print('Root Mean squared error: %.2f'%(mean_squared_error(y_test, y_lr))**0.5)"
   ]
  },
  {
   "cell_type": "code",
   "execution_count": 78,
   "metadata": {},
   "outputs": [],
   "source": [
    "# with PCA\n",
    "# Training a linear regression model using only Bag of Words (BOW)\n",
    "#model Linear regression\n",
    "\n",
    "def lr(X_train, y_train, X_test):\n",
    "    linearRegression = LinearRegression()\n",
    "    linearRegression.fit(X_train, y_train)\n",
    "    y_lr = linearRegression.predict(X_test)\n",
    "    #result\n",
    "\n",
    "    print('Coefficients: \\n', linearRegression.coef_)\n",
    "    print('Mean squared error: %.2f'%mean_squared_error(y_test, y_lr))\n",
    "    print('Root Mean squared error: %.2f'%(mean_squared_error(y_test, y_lr))**0.5)"
   ]
  },
  {
   "cell_type": "markdown",
   "metadata": {},
   "source": [
    "### this result seems not good enought, need to reduce RMSE"
   ]
  },
  {
   "cell_type": "code",
   "execution_count": 79,
   "metadata": {},
   "outputs": [],
   "source": [
    "from sklearn.linear_model import LinearRegression, Ridge, Lasso\n",
    "from sklearn.tree import DecisionTreeRegressor\n",
    "from sklearn.ensemble import RandomForestRegressor\n",
    "from sklearn.svm import SVC\n",
    "from sklearn.linear_model import SGDClassifier\n",
    "from sklearn.naive_bayes import GaussianNB"
   ]
  },
  {
   "cell_type": "code",
   "execution_count": 135,
   "metadata": {},
   "outputs": [],
   "source": [
    "# algorithms review, with PCA\n",
    "def evaluation_df(X_train, X_test, y_train, y_test):\n",
    "    #linear regression\n",
    "    linearRegression = LinearRegression()\n",
    "    linearRegression.fit(X_train, y_train)\n",
    "    y_lr = linearRegression.predict(X_test)\n",
    "    print('Linear Regression')\n",
    "    print('Mean squared error: %.2f'%mean_squared_error(y_test, y_lr))\n",
    "    print('Root Mean squared error: %.2f'%(mean_squared_error(y_test, y_lr))**0.5)\n",
    "    \n",
    "    sgd = SGDClassifier(penalty=None)\n",
    "    sgd.fit(X_train, y_train)\n",
    "    y_sgd = sgd.predict(X_test)\n",
    "    print('SGD')\n",
    "    print('Mean squared error: %.2f'%mean_squared_error(y_test, y_sgd))\n",
    "    print('Root Mean squared error: %.2f'%(mean_squared_error(y_test, y_sgd))**0.5)\n",
    "    \n",
    "    svc2 = SVC(C = 1.2, gamma =  0.9, kernel= 'rbf')\n",
    "    svc2.fit(X_train, y_train)\n",
    "    y_svc2 = svc2.predict(X_test)\n",
    "    print('SVC')   \n",
    "    print('Mean squared error: %.2f'%mean_squared_error(y_test, y_svc2))\n",
    "    print('Root Mean squared error: %.2f'%(mean_squared_error(y_test, y_svc2))**0.5)\n",
    "\n",
    "    randomforest = RandomForestRegressor(n_estimators=200,max_depth=5, min_samples_leaf=100,n_jobs=4)\n",
    "    randomforest.fit(X_train, y_train)\n",
    "    y_rf = randomforest.predict(X_test)\n",
    "    print('Random Forest')   \n",
    "    print('Mean squared error: %.2f'%mean_squared_error(y_test, y_rf))\n",
    "    print('Root Mean squared error: %.2f'%(mean_squared_error(y_test, y_rf))**0.5)\n",
    "    \n",
    "    #ensemble\n",
    "    y_avg = (y_lr + y_sgd + y_svc2 + y_rf)/4\n",
    "    print('ensemble: ')\n",
    "    print('Mean squared error: %.2f'%mean_squared_error(y_test, y_avg))\n",
    "    print('Root Mean squared error: %.2f'%(mean_squared_error(y_test, y_avg))**0.5)"
   ]
  },
  {
   "cell_type": "code",
   "execution_count": 141,
   "metadata": {},
   "outputs": [
    {
     "name": "stderr",
     "output_type": "stream",
     "text": [
      "/home/chenming/anaconda3/lib/python3.7/site-packages/ipykernel_launcher.py:11: FutureWarning: Method .as_matrix will be removed in a future version. Use .values instead.\n",
      "  # This is added back by InteractiveShellApp.init_path()\n"
     ]
    },
    {
     "name": "stdout",
     "output_type": "stream",
     "text": [
      "Linear Regression\n",
      "Mean squared error: 1.49\n",
      "Root Mean squared error: 1.22\n",
      "SGD\n",
      "Mean squared error: 3.10\n",
      "Root Mean squared error: 1.76\n",
      "SVC\n",
      "Mean squared error: 2.81\n",
      "Root Mean squared error: 1.67\n",
      "Random Forest\n",
      "Mean squared error: 1.73\n",
      "Root Mean squared error: 1.31\n",
      "ensemble: \n",
      "Mean squared error: 1.70\n",
      "Root Mean squared error: 1.30\n"
     ]
    }
   ],
   "source": [
    "#with PCA\n",
    "X_train, X_test, y_train, y_test = split_BOW_dataset(train_d1, 'domain1_score', isPCA=True, n=8)\n",
    "evaluation_df(X_train, X_test, y_train, y_test)"
   ]
  },
  {
   "cell_type": "code",
   "execution_count": 143,
   "metadata": {},
   "outputs": [
    {
     "name": "stdout",
     "output_type": "stream",
     "text": [
      "0.429552959012393\n",
      "0.01\n",
      "Mean squared error: 1.49\n"
     ]
    },
    {
     "name": "stderr",
     "output_type": "stream",
     "text": [
      "/home/chenming/anaconda3/lib/python3.7/site-packages/sklearn/model_selection/_split.py:1978: FutureWarning: The default value of cv will change from 3 to 5 in version 0.22. Specify it explicitly to silence this warning.\n",
      "  warnings.warn(CV_WARNING, FutureWarning)\n"
     ]
    }
   ],
   "source": [
    "alphas = np.array([3, 1, 0.3, 0.1, 0.03, 0.01])\n",
    "lasso_regressor = Lasso()\n",
    "grid = GridSearchCV(estimator = lasso_regressor, param_grid = dict(alpha=alphas))\n",
    "grid.fit(X_train, y_train)\n",
    "y_pred = grid.predict(X_test)\n",
    "# summarize the results of the grid search\n",
    "print(grid.best_score_)\n",
    "print(grid.best_estimator_.alpha)\n",
    "# The mean squared error\n",
    "print(\"Mean squared error: %.2f\" % mean_squared_error(y_test, y_pred))\n"
   ]
  },
  {
   "cell_type": "code",
   "execution_count": 137,
   "metadata": {
    "scrolled": true
   },
   "outputs": [
    {
     "name": "stderr",
     "output_type": "stream",
     "text": [
      "/home/chenming/anaconda3/lib/python3.7/site-packages/ipykernel_launcher.py:11: FutureWarning: Method .as_matrix will be removed in a future version. Use .values instead.\n",
      "  # This is added back by InteractiveShellApp.init_path()\n"
     ]
    },
    {
     "name": "stdout",
     "output_type": "stream",
     "text": [
      "Linear Regression\n",
      "Mean squared error: 1.90\n",
      "Root Mean squared error: 1.38\n",
      "SGD\n",
      "Mean squared error: 3.75\n",
      "Root Mean squared error: 1.94\n",
      "SVC\n",
      "Mean squared error: 2.35\n",
      "Root Mean squared error: 1.53\n",
      "Random Forest\n",
      "Mean squared error: 1.46\n",
      "Root Mean squared error: 1.21\n",
      "ensemble: \n",
      "Mean squared error: 1.18\n",
      "Root Mean squared error: 1.09\n"
     ]
    }
   ],
   "source": [
    "#not with PCA\n",
    "X_train, X_test, y_train, y_test = split_BOW_dataset(train_d1, 'domain1_score', isPCA=False)\n",
    "evaluation_df(X_train, X_test, y_train, y_test)"
   ]
  },
  {
   "cell_type": "code",
   "execution_count": null,
   "metadata": {},
   "outputs": [],
   "source": []
  },
  {
   "cell_type": "markdown",
   "metadata": {},
   "source": [
    "# TF-IDF"
   ]
  },
  {
   "cell_type": "code",
   "execution_count": 100,
   "metadata": {},
   "outputs": [],
   "source": [
    "#Tokenize a sentence into words\n",
    "def text_preparation(input_sentence):\n",
    "    REPLACE_BY_SPACE_RE = re.compile('[/(){}\\[\\]\\|@,;]')\n",
    "    BAD_SYMBOLS_RE = re.compile('[^0-9a-z #+_]')\n",
    "    input_sentence = input_sentence.lower()# lowercase text\n",
    "    input_sentence = REPLACE_BY_SPACE_RE.sub(r' ',input_sentence).strip()# replace REPLACE_BY_SPACE_RE symbols by space in text\n",
    "    input_sentence = BAD_SYMBOLS_RE.sub(r'',input_sentence)# delete symbols which are in BAD_SYMBOLS_RE from text\n",
    "    stop_words = set(stopwords.words(\"english\"))\n",
    "    output_sentence = \" \".join([word for word in input_sentence.split() if word not in stop_words])# delete stopwords from text\n",
    "    return output_sentence"
   ]
  },
  {
   "cell_type": "markdown",
   "metadata": {},
   "source": [
    "train = pd.read_csv('data/training_set_rel3.tsv',sep='\\t', encoding = 'latin-1')\n",
    "test = pd.read_csv('data/test_set.tsv',sep='\\t', encoding = 'latin-1')\n",
    "train['prepared_text'] = train['essay'].apply(text_preparation)\n",
    "set_num = 1\n",
    "X_cv = train[train['essay_set'] == set_num]['prepared_text'].as_matrix()\n",
    "y_cv = train[train['essay_set'] == set_num]['domain1_score'].as_matrix()\n",
    "X_tf_train, X_tf_test, y_tf_train, y_tf_test = train_test_split(X_cv, y_cv, test_size=0.3)"
   ]
  },
  {
   "cell_type": "markdown",
   "metadata": {},
   "source": [
    "#WordsTagsCount for training\n",
    "word_counts = {}\n",
    "for i in X_tf_train:\n",
    "    for j in i.split():\n",
    "        if j not in word_counts:\n",
    "            word_counts[j] = 1\n",
    "        else:\n",
    "            word_counts[j] += 1"
   ]
  },
  {
   "cell_type": "code",
   "execution_count": 140,
   "metadata": {},
   "outputs": [
    {
     "data": {
      "text/plain": [
       "[('computers', 7428),\n",
       " ('people', 7134),\n",
       " ('computer', 6386),\n",
       " ('time', 2811),\n",
       " ('friends', 2039),\n",
       " ('get', 2009),\n",
       " ('also', 2001),\n",
       " ('caps1', 1851),\n",
       " ('go', 1829),\n",
       " ('family', 1766)]"
      ]
     },
     "execution_count": 140,
     "metadata": {},
     "output_type": "execute_result"
    }
   ],
   "source": [
    "most_common_words = sorted(word_counts.items(), key=lambda x: x[1], reverse=True)[:10]\n",
    "most_common_words"
   ]
  },
  {
   "cell_type": "code",
   "execution_count": 108,
   "metadata": {},
   "outputs": [
    {
     "data": {
      "text/plain": [
       "[('computers', 3278),\n",
       " ('people', 3115),\n",
       " ('computer', 2796),\n",
       " ('time', 1221),\n",
       " ('get', 887),\n",
       " ('also', 884),\n",
       " ('use', 817),\n",
       " ('friends', 803),\n",
       " ('go', 798),\n",
       " ('caps1', 785)]"
      ]
     },
     "execution_count": 108,
     "metadata": {},
     "output_type": "execute_result"
    }
   ],
   "source": [
    "#WordsTagsCount for test\n",
    "word_counts_test = {}\n",
    "for i in X_tf_test:\n",
    "    for j in i.split():\n",
    "        if j not in word_counts_test:\n",
    "            word_counts_test[j] = 1\n",
    "        else:\n",
    "            word_counts_test[j] += 1\n",
    "most_common_words_test = sorted(word_counts_test.items(), key=lambda x: x[1], reverse=True)[:10]\n",
    "most_common_words_test"
   ]
  },
  {
   "cell_type": "markdown",
   "metadata": {},
   "source": [
    "X_train_mybag = sp_sparse.vstack([sp_sparse.csr_matrix(my_bag_of_words(text, WORDS_TO_INDEX, DICT_SIZE)) for text in X_tf_train])\n",
    "X_test_mybag = sp_sparse.vstack([sp_sparse.csr_matrix(my_bag_of_words(text, WORDS_TO_INDEX, DICT_SIZE)) for text in X_tf_test])\n",
    "print('X_train shape ', X_train_mybag.shape)\n",
    "print('X_test shape ', X_test_mybag.shape)"
   ]
  },
  {
   "cell_type": "markdown",
   "metadata": {},
   "source": [
    "X_train_tfidf, X_test_tfidf, tfidf_vocab = tfidf_features(X_tf_train, X_tf_test)\n",
    "tfidf_reversed_vocab = {i:word for word,i in tfidf_vocab.items()}"
   ]
  },
  {
   "cell_type": "code",
   "execution_count": 138,
   "metadata": {},
   "outputs": [],
   "source": [
    "def TF_IDF_model(df,column_name):\n",
    "    df['prepared_text'] = df['essay'].apply(text_preparation)\n",
    "    X_cv = df['prepared_text'].as_matrix()\n",
    "    y_cv = df[column_name].as_matrix()\n",
    "    X_tf_train, X_tf_test, y_tf_train, y_tf_test = train_test_split(X_cv, y_cv, test_size=0.3)\n",
    "    word_counts = {}\n",
    "    for i in X_tf_train:\n",
    "        for j in i.split():\n",
    "            if j not in word_counts:\n",
    "                word_counts[j] = 1\n",
    "            else:\n",
    "                word_counts[j] += 1\n",
    "    DICT_SIZE = 5000\n",
    "    WORDS_TO_INDEX = {v[0]:k for k,v in enumerate(sorted(word_counts.items(), key=lambda x: x[1], reverse=True)[:DICT_SIZE])}\n",
    "    INDEX_TO_WORDS = {k:v[0] for k,v in enumerate(sorted(word_counts.items(), key=lambda x: x[1], reverse=True)[:DICT_SIZE])}\n",
    "    ALL_WORDS = WORDS_TO_INDEX.keys()\n",
    "    def my_bag_of_words(text, words_to_index, dict_size):\n",
    "        result_vector = np.zeros(dict_size)\n",
    "        for word in text.split():\n",
    "            if word in words_to_index:\n",
    "                result_vector[words_to_index[word]] += 1  \n",
    "        return result_vector\n",
    "    X_train_mybag = sp_sparse.vstack([sp_sparse.csr_matrix(my_bag_of_words(text, WORDS_TO_INDEX, DICT_SIZE)) for text in X_tf_train])\n",
    "    X_test_mybag = sp_sparse.vstack([sp_sparse.csr_matrix(my_bag_of_words(text, WORDS_TO_INDEX, DICT_SIZE)) for text in X_tf_test])\n",
    "    \n",
    "    def tfidf_features(X_train, X_test):\n",
    "        tfidf_vectorizer = TfidfVectorizer(max_df=0.9, min_df=5, stop_words='english', ngram_range=(1,2), token_pattern='(\\S+)')\n",
    "        tfidf_vectorizer.fit(X_train)\n",
    "        X_train = tfidf_vectorizer.transform(X_train)\n",
    "        X_test = tfidf_vectorizer.transform(X_test)\n",
    "        return X_train, X_test, tfidf_vectorizer.vocabulary_\n",
    "    \n",
    "    X_train_tfidf, X_test_tfidf, tfidf_vocab = tfidf_features(X_tf_train, X_tf_test)\n",
    "    tfidf_reversed_vocab = {i:word for word,i in tfidf_vocab.items()}\n",
    "    \n",
    "    evaluation_df(X_train_tfidf, X_test_tfidf, y_tf_train, y_tf_test)"
   ]
  },
  {
   "cell_type": "code",
   "execution_count": 139,
   "metadata": {},
   "outputs": [
    {
     "name": "stderr",
     "output_type": "stream",
     "text": [
      "/home/chenming/anaconda3/lib/python3.7/site-packages/ipykernel_launcher.py:3: FutureWarning: Method .as_matrix will be removed in a future version. Use .values instead.\n",
      "  This is separate from the ipykernel package so we can avoid doing imports until\n",
      "/home/chenming/anaconda3/lib/python3.7/site-packages/ipykernel_launcher.py:4: FutureWarning: Method .as_matrix will be removed in a future version. Use .values instead.\n",
      "  after removing the cwd from sys.path.\n"
     ]
    },
    {
     "name": "stdout",
     "output_type": "stream",
     "text": [
      "Linear Regression\n",
      "Mean squared error: 1.29\n",
      "Root Mean squared error: 1.14\n",
      "SGD\n",
      "Mean squared error: 2.80\n",
      "Root Mean squared error: 1.67\n",
      "SVC\n",
      "Mean squared error: 2.41\n",
      "Root Mean squared error: 1.55\n",
      "Random Forest\n",
      "Mean squared error: 1.78\n",
      "Root Mean squared error: 1.33\n",
      "ensemble: \n",
      "Mean squared error: 1.56\n",
      "Root Mean squared error: 1.25\n"
     ]
    }
   ],
   "source": [
    "TF_IDF_model(train_d1,'domain1_score')"
   ]
  },
  {
   "cell_type": "markdown",
   "metadata": {},
   "source": [
    "# include other features\n",
    "## add other features to the dataset"
   ]
  },
  {
   "cell_type": "code",
   "execution_count": 153,
   "metadata": {},
   "outputs": [],
   "source": [
    "# calculating average word length in an essay\n",
    "\n",
    "def avg_word_len(essay):\n",
    "    \n",
    "    clean_essay = re.sub(r'\\W', ' ', essay)\n",
    "    words = nltk.word_tokenize(clean_essay)\n",
    "    \n",
    "    return sum(len(word) for word in words) / len(words)\n",
    "# calculating number of words in an essay\n",
    "\n",
    "def word_count(essay):\n",
    "    \n",
    "    clean_essay = re.sub(r'\\W', ' ', essay)\n",
    "    words = nltk.word_tokenize(clean_essay)\n",
    "    \n",
    "    return len(words)\n",
    "# calculating number of characters in an essay\n",
    "\n",
    "def char_count(essay):\n",
    "    \n",
    "    clean_essay = re.sub(r'\\s', '', str(essay).lower())\n",
    "    \n",
    "    return len(clean_essay)\n",
    "# calculating number of sentences in an essay\n",
    "\n",
    "def sent_count(essay):\n",
    "    \n",
    "    sentences = nltk.sent_tokenize(essay)\n",
    "    \n",
    "    return len(sentences)\n",
    "# calculating number of lemmas per essay\n",
    "\n",
    "def count_lemmas(essay):\n",
    "    tokenizer = nltk.data.load('tokenizers/punkt/english.pickle')\n",
    "    tokenized_sentences = tokenizer.tokenize(essay)      \n",
    "    \n",
    "    lemmas = []\n",
    "    wordnet_lemmatizer = WordNetLemmatizer()\n",
    "    \n",
    "    for sentence in tokenized_sentences:\n",
    "        tagged_tokens = nltk.pos_tag(sentence) \n",
    "        \n",
    "        for token_tuple in tagged_tokens:\n",
    "        \n",
    "            pos_tag = token_tuple[1]\n",
    "        \n",
    "            if pos_tag.startswith('N'): \n",
    "                pos = wordnet.NOUN\n",
    "                lemmas.append(wordnet_lemmatizer.lemmatize(token_tuple[0], pos))\n",
    "            elif pos_tag.startswith('J'):\n",
    "                pos = wordnet.ADJ\n",
    "                lemmas.append(wordnet_lemmatizer.lemmatize(token_tuple[0], pos))\n",
    "            elif pos_tag.startswith('V'):\n",
    "                pos = wordnet.VERB\n",
    "                lemmas.append(wordnet_lemmatizer.lemmatize(token_tuple[0], pos))\n",
    "            elif pos_tag.startswith('R'):\n",
    "                pos = wordnet.ADV\n",
    "                lemmas.append(wordnet_lemmatizer.lemmatize(token_tuple[0], pos))\n",
    "            else:\n",
    "                pos = wordnet.NOUN\n",
    "                lemmas.append(wordnet_lemmatizer.lemmatize(token_tuple[0], pos))\n",
    "    \n",
    "    lemma_count = len(set(lemmas))\n",
    "    \n",
    "    return lemma_count\n",
    "# checking number of misspelled words\n",
    "\n",
    "def count_spell_error(essay):\n",
    "    \n",
    "    clean_essay = re.sub(r'\\W', ' ', str(essay).lower())\n",
    "    clean_essay = re.sub(r'[0-9]', '', clean_essay)\n",
    "    \n",
    "    #big.txt: It is a concatenation of public domain book excerpts from Project Gutenberg \n",
    "    #         and lists of most frequent words from Wiktionary and the British National Corpus.\n",
    "    #         It contains about a million words.\n",
    "    data = open('big.txt').read()\n",
    "    \n",
    "    words_ = re.findall('[a-z]+', data.lower())\n",
    "    \n",
    "    word_dict = collections.defaultdict(lambda: 0)\n",
    "                       \n",
    "    for word in words_:\n",
    "        word_dict[word] += 1\n",
    "                       \n",
    "    clean_essay = re.sub(r'\\W', ' ', str(essay).lower())\n",
    "    clean_essay = re.sub(r'[0-9]', '', clean_essay)\n",
    "                        \n",
    "    mispell_count = 0\n",
    "    \n",
    "    words = clean_essay.split()\n",
    "                        \n",
    "    for word in words:\n",
    "        if not word in word_dict:\n",
    "            mispell_count += 1\n",
    "    \n",
    "    return mispell_count\n",
    "# calculating number of nouns, adjectives, verbs and adverbs in an essay\n",
    "\n",
    "def count_pos(essay):\n",
    "    tokenizer = nltk.data.load('tokenizers/punkt/english.pickle')    \n",
    "    tokenized_sentences = tokenizer.tokenize(essay)\n",
    "    \n",
    "    noun_count = 0\n",
    "    adj_count = 0\n",
    "    verb_count = 0\n",
    "    adv_count = 0\n",
    "    \n",
    "    for sentence in tokenized_sentences:\n",
    "        tagged_tokens = nltk.pos_tag(sentence)\n",
    "        \n",
    "        for token_tuple in tagged_tokens:\n",
    "            pos_tag = token_tuple[1]\n",
    "        \n",
    "            if pos_tag.startswith('N'): \n",
    "                noun_count += 1\n",
    "            elif pos_tag.startswith('J'):\n",
    "                adj_count += 1\n",
    "            elif pos_tag.startswith('V'):\n",
    "                verb_count += 1\n",
    "            elif pos_tag.startswith('R'):\n",
    "                adv_count += 1\n",
    "            \n",
    "    return noun_count, adj_count, verb_count, adv_count\n",
    "# getiing Bag of Words (BOW) counts\n",
    "\n",
    "def get_count_vectors(essays):\n",
    "    \n",
    "    vectorizer = CountVectorizer(max_features = 10000, ngram_range=(1, 3), stop_words='english')\n",
    "    \n",
    "    count_vectors = vectorizer.fit_transform(essays)\n",
    "    \n",
    "    feature_names = vectorizer.get_feature_names()\n",
    "    \n",
    "    return feature_names, count_vectors"
   ]
  },
  {
   "cell_type": "code",
   "execution_count": 154,
   "metadata": {},
   "outputs": [],
   "source": [
    "def extract_features(df):\n",
    "\n",
    "    features = df.copy()\n",
    "    \n",
    "    features['char_count'] = features['essay'].apply(char_count)\n",
    "    \n",
    "    features['word_count'] = features['essay'].apply(word_count)\n",
    "    \n",
    "    features['sent_count'] = features['essay'].apply(sent_count)\n",
    "    \n",
    "    features['avg_word_len'] = features['essay'].apply(avg_word_len)\n",
    "    \n",
    "    features['lemma_count'] = features['essay'].apply(count_lemmas)\n",
    "    \n",
    "    features['spell_err_count'] = features['essay'].apply(count_spell_error)\n",
    "    \n",
    "    features['noun_count'], features['adj_count'], features['verb_count'], features['adv_count'] = zip(*features['essay'].map(count_pos))\n",
    "    \n",
    "    return features"
   ]
  },
  {
   "cell_type": "code",
   "execution_count": 155,
   "metadata": {},
   "outputs": [],
   "source": [
    "features_set1 = extract_features(train_d1)\n"
   ]
  },
  {
   "cell_type": "code",
   "execution_count": 156,
   "metadata": {},
   "outputs": [
    {
     "data": {
      "text/plain": [
       "<matplotlib.axes._subplots.AxesSubplot at 0x7ff7fce6e828>"
      ]
     },
     "execution_count": 156,
     "metadata": {},
     "output_type": "execute_result"
    },
    {
     "data": {
      "image/png": "[encoded data removed]",
      "text/plain": [
       "<Figure size 432x288 with 1 Axes>"
      ]
     },
     "metadata": {
      "needs_background": "light"
     },
     "output_type": "display_data"
    },
    {
     "data": {
      "image/png": "[encoded data removed]",
      "text/plain": [
       "<Figure size 432x288 with 1 Axes>"
      ]
     },
     "metadata": {
      "needs_background": "light"
     },
     "output_type": "display_data"
    },
    {
     "data": {
      "image/png": "[encoded data removed]",
      "text/plain": [
       "<Figure size 432x288 with 1 Axes>"
      ]
     },
     "metadata": {
      "needs_background": "light"
     },
     "output_type": "display_data"
    },
    {
     "data": {
      "image/png": "[encoded data removed]",
      "text/plain": [
       "<Figure size 432x288 with 1 Axes>"
      ]
     },
     "metadata": {
      "needs_background": "light"
     },
     "output_type": "display_data"
    },
    {
     "data": {
      "image/png": "[encoded data removed]",
      "text/plain": [
       "<Figure size 432x288 with 1 Axes>"
      ]
     },
     "metadata": {
      "needs_background": "light"
     },
     "output_type": "display_data"
    },
    {
     "data": {
      "image/png": "[encoded data removed]",
      "text/plain": [
       "<Figure size 432x288 with 1 Axes>"
      ]
     },
     "metadata": {
      "needs_background": "light"
     },
     "output_type": "display_data"
    },
    {
     "data": {
      "image/png": "[encoded data removed]",
      "text/plain": [
       "<Figure size 432x288 with 1 Axes>"
      ]
     },
     "metadata": {
      "needs_background": "light"
     },
     "output_type": "display_data"
    },
    {
     "data": {
      "image/png": "[encoded data removed]",
      "text/plain": [
       "<Figure size 432x288 with 1 Axes>"
      ]
     },
     "metadata": {
      "needs_background": "light"
     },
     "output_type": "display_data"
    },
    {
     "data": {
      "image/png": "[encoded data removed]",
      "text/plain": [
       "<Figure size 432x288 with 1 Axes>"
      ]
     },
     "metadata": {
      "needs_background": "light"
     },
     "output_type": "display_data"
    },
    {
     "data": {
      "image/png": "[encoded data removed]",
      "text/plain": [
       "<Figure size 432x288 with 1 Axes>"
      ]
     },
     "metadata": {
      "needs_background": "light"
     },
     "output_type": "display_data"
    }
   ],
   "source": [
    "# Exploratory Data Analysis (EDA) on the data\n",
    "\n",
    "%matplotlib inline\n",
    "features_set1.plot.scatter(x = 'char_count', y = 'domain1_score', s=10)\n",
    "features_set1.plot.scatter(x = 'word_count', y = 'domain1_score', s=10)\n",
    "features_set1.plot.scatter(x = 'sent_count', y = 'domain1_score', s=10)\n",
    "features_set1.plot.scatter(x = 'avg_word_len', y = 'domain1_score', s=10)\n",
    "features_set1.plot.scatter(x = 'lemma_count', y = 'domain1_score', s=10)\n",
    "features_set1.plot.scatter(x = 'spell_err_count', y = 'domain1_score', s=10)\n",
    "features_set1.plot.scatter(x = 'noun_count', y = 'domain1_score', s=10)\n",
    "features_set1.plot.scatter(x = 'adj_count', y = 'domain1_score', s=10)\n",
    "features_set1.plot.scatter(x = 'verb_count', y = 'domain1_score', s=10)\n",
    "features_set1.plot.scatter(x = 'adv_count', y = 'domain1_score', s=10)"
   ]
  },
  {
   "cell_type": "code",
   "execution_count": 160,
   "metadata": {},
   "outputs": [],
   "source": [
    "features_set = features_set1[['char_count', 'word_count', 'sent_count', 'avg_word_len', 'lemma_count',\n",
    "       'spell_err_count', 'noun_count', 'adj_count', 'verb_count',\n",
    "       'adv_count']]"
   ]
  },
  {
   "cell_type": "code",
   "execution_count": 189,
   "metadata": {},
   "outputs": [],
   "source": [
    "#splitting data into train data and test data (70/30)\n",
    "def split_BOW_extrafeature_dataset(df, y_name='domain1_score',isPCA=False, n=2):\n",
    "    features_set = extract_features(df)\n",
    "    features_set = features_set[['char_count', 'word_count', 'sent_count', 'avg_word_len', 'lemma_count',\n",
    "       'spell_err_count', 'noun_count', 'adj_count', 'verb_count',\n",
    "       'adv_count']]\n",
    "    feature_names_cv, count_vectors = get_count_bag_vector(df['essay'])\n",
    "    if isPCA == True:\n",
    "        pca = PCA(n_components = n)\n",
    "        dataset_BOW = pd.DataFrame.from_records(count_vectors.toarray())\n",
    "        dataset_pca = pca.fit_transform(dataset_BOW)\n",
    "        X_cv = dataset_pca\n",
    "    else:\n",
    "        X_cv = count_vectors.toarray()\n",
    "    X_cv = np.concatenate((features_set.as_matrix(), X_cv), axis = 1)\n",
    "    y_cv = df[y_name].as_matrix()\n",
    "    X_train, X_test, y_train, y_test = train_test_split(X_cv, y_cv, test_size=0.3)\n",
    "    return X_train, X_test, y_train, y_test"
   ]
  },
  {
   "cell_type": "code",
   "execution_count": 163,
   "metadata": {},
   "outputs": [
    {
     "name": "stderr",
     "output_type": "stream",
     "text": [
      "/home/chenming/anaconda3/lib/python3.7/site-packages/ipykernel_launcher.py:12: FutureWarning: Method .as_matrix will be removed in a future version. Use .values instead.\n",
      "  if sys.path[0] == '':\n",
      "/home/chenming/anaconda3/lib/python3.7/site-packages/ipykernel_launcher.py:13: FutureWarning: Method .as_matrix will be removed in a future version. Use .values instead.\n",
      "  del sys.path[0]\n"
     ]
    },
    {
     "name": "stdout",
     "output_type": "stream",
     "text": [
      "Linear Regression\n",
      "Mean squared error: 0.74\n",
      "Root Mean squared error: 0.86\n",
      "SGD\n",
      "Mean squared error: 1.47\n",
      "Root Mean squared error: 1.21\n",
      "SVC\n",
      "Mean squared error: 2.61\n",
      "Root Mean squared error: 1.62\n",
      "Random Forest\n",
      "Mean squared error: 0.88\n",
      "Root Mean squared error: 0.94\n",
      "ensemble: \n",
      "Mean squared error: 1.04\n",
      "Root Mean squared error: 1.02\n"
     ]
    }
   ],
   "source": [
    "X_ex_train, X_ex_test, y_ex_train, y_ex_test = split_BOW_extrafeature_dataset(train_d1,features_set , y_name='domain1_score',isPCA=True, n=8)\n",
    "evaluation_df(X_ex_train, X_ex_test, y_ex_train, y_ex_test)"
   ]
  },
  {
   "cell_type": "code",
   "execution_count": 166,
   "metadata": {},
   "outputs": [
    {
     "name": "stderr",
     "output_type": "stream",
     "text": [
      "/home/chenming/anaconda3/lib/python3.7/site-packages/ipykernel_launcher.py:12: FutureWarning: Method .as_matrix will be removed in a future version. Use .values instead.\n",
      "  if sys.path[0] == '':\n",
      "/home/chenming/anaconda3/lib/python3.7/site-packages/ipykernel_launcher.py:13: FutureWarning: Method .as_matrix will be removed in a future version. Use .values instead.\n",
      "  del sys.path[0]\n"
     ]
    },
    {
     "name": "stdout",
     "output_type": "stream",
     "text": [
      "Linear Regression\n",
      "Mean squared error: 1.30\n",
      "Root Mean squared error: 1.14\n"
     ]
    },
    {
     "name": "stderr",
     "output_type": "stream",
     "text": [
      "/home/chenming/anaconda3/lib/python3.7/site-packages/sklearn/linear_model/stochastic_gradient.py:561: ConvergenceWarning: Maximum number of iteration reached before convergence. Consider increasing max_iter to improve the fit.\n",
      "  ConvergenceWarning)\n"
     ]
    },
    {
     "name": "stdout",
     "output_type": "stream",
     "text": [
      "SGD\n",
      "Mean squared error: 1.81\n",
      "Root Mean squared error: 1.35\n",
      "SVC\n",
      "Mean squared error: 2.47\n",
      "Root Mean squared error: 1.57\n",
      "Random Forest\n",
      "Mean squared error: 0.83\n",
      "Root Mean squared error: 0.91\n",
      "ensemble: \n",
      "Mean squared error: 0.92\n",
      "Root Mean squared error: 0.96\n"
     ]
    }
   ],
   "source": [
    "X_ex_train, X_ex_test, y_ex_train, y_ex_test = split_BOW_extrafeature_dataset(train_d1,features_set , y_name='domain1_score',isPCA=False, n=8)\n",
    "evaluation_df(X_ex_train, X_ex_test, y_ex_train, y_ex_test)"
   ]
  },
  {
   "cell_type": "code",
   "execution_count": null,
   "metadata": {},
   "outputs": [],
   "source": []
  },
  {
   "cell_type": "markdown",
   "metadata": {},
   "source": [
    "# dataset 2"
   ]
  },
  {
   "cell_type": "code",
   "execution_count": 177,
   "metadata": {
    "scrolled": true
   },
   "outputs": [
    {
     "name": "stdout",
     "output_type": "stream",
     "text": [
      "(1800, 28)\n"
     ]
    },
    {
     "data": {
      "text/html": [
       "<div>\n",
       "<style scoped>\n",
       "    .dataframe tbody tr th:only-of-type {\n",
       "        vertical-align: middle;\n",
       "    }\n",
       "\n",
       "    .dataframe tbody tr th {\n",
       "        vertical-align: top;\n",
       "    }\n",
       "\n",
       "    .dataframe thead th {\n",
       "        text-align: right;\n",
       "    }\n",
       "</style>\n",
       "<table border=\"1\" class=\"dataframe\">\n",
       "  <thead>\n",
       "    <tr style=\"text-align: right;\">\n",
       "      <th></th>\n",
       "      <th>essay_id</th>\n",
       "      <th>essay_set</th>\n",
       "      <th>essay</th>\n",
       "      <th>rater1_domain1</th>\n",
       "      <th>rater2_domain1</th>\n",
       "      <th>rater3_domain1</th>\n",
       "      <th>domain1_score</th>\n",
       "      <th>rater1_domain2</th>\n",
       "      <th>rater2_domain2</th>\n",
       "      <th>domain2_score</th>\n",
       "      <th>...</th>\n",
       "      <th>rater2_trait3</th>\n",
       "      <th>rater2_trait4</th>\n",
       "      <th>rater2_trait5</th>\n",
       "      <th>rater2_trait6</th>\n",
       "      <th>rater3_trait1</th>\n",
       "      <th>rater3_trait2</th>\n",
       "      <th>rater3_trait3</th>\n",
       "      <th>rater3_trait4</th>\n",
       "      <th>rater3_trait5</th>\n",
       "      <th>rater3_trait6</th>\n",
       "    </tr>\n",
       "  </thead>\n",
       "  <tbody>\n",
       "    <tr>\n",
       "      <th>1783</th>\n",
       "      <td>2978</td>\n",
       "      <td>2</td>\n",
       "      <td>Certain materials being removed from libraries...</td>\n",
       "      <td>4</td>\n",
       "      <td>4</td>\n",
       "      <td>NaN</td>\n",
       "      <td>4</td>\n",
       "      <td>4.0</td>\n",
       "      <td>4.0</td>\n",
       "      <td>4.0</td>\n",
       "      <td>...</td>\n",
       "      <td>NaN</td>\n",
       "      <td>NaN</td>\n",
       "      <td>NaN</td>\n",
       "      <td>NaN</td>\n",
       "      <td>NaN</td>\n",
       "      <td>NaN</td>\n",
       "      <td>NaN</td>\n",
       "      <td>NaN</td>\n",
       "      <td>NaN</td>\n",
       "      <td>NaN</td>\n",
       "    </tr>\n",
       "    <tr>\n",
       "      <th>1784</th>\n",
       "      <td>2979</td>\n",
       "      <td>2</td>\n",
       "      <td>Write a persuasive essay to a newspaper reflec...</td>\n",
       "      <td>1</td>\n",
       "      <td>2</td>\n",
       "      <td>NaN</td>\n",
       "      <td>1</td>\n",
       "      <td>1.0</td>\n",
       "      <td>2.0</td>\n",
       "      <td>1.0</td>\n",
       "      <td>...</td>\n",
       "      <td>NaN</td>\n",
       "      <td>NaN</td>\n",
       "      <td>NaN</td>\n",
       "      <td>NaN</td>\n",
       "      <td>NaN</td>\n",
       "      <td>NaN</td>\n",
       "      <td>NaN</td>\n",
       "      <td>NaN</td>\n",
       "      <td>NaN</td>\n",
       "      <td>NaN</td>\n",
       "    </tr>\n",
       "    <tr>\n",
       "      <th>1785</th>\n",
       "      <td>2980</td>\n",
       "      <td>2</td>\n",
       "      <td>Do you think that libraries should remove cert...</td>\n",
       "      <td>2</td>\n",
       "      <td>3</td>\n",
       "      <td>NaN</td>\n",
       "      <td>2</td>\n",
       "      <td>3.0</td>\n",
       "      <td>3.0</td>\n",
       "      <td>3.0</td>\n",
       "      <td>...</td>\n",
       "      <td>NaN</td>\n",
       "      <td>NaN</td>\n",
       "      <td>NaN</td>\n",
       "      <td>NaN</td>\n",
       "      <td>NaN</td>\n",
       "      <td>NaN</td>\n",
       "      <td>NaN</td>\n",
       "      <td>NaN</td>\n",
       "      <td>NaN</td>\n",
       "      <td>NaN</td>\n",
       "    </tr>\n",
       "    <tr>\n",
       "      <th>1786</th>\n",
       "      <td>2981</td>\n",
       "      <td>2</td>\n",
       "      <td>In @DATE1's world, there are many things found...</td>\n",
       "      <td>4</td>\n",
       "      <td>4</td>\n",
       "      <td>NaN</td>\n",
       "      <td>4</td>\n",
       "      <td>4.0</td>\n",
       "      <td>4.0</td>\n",
       "      <td>4.0</td>\n",
       "      <td>...</td>\n",
       "      <td>NaN</td>\n",
       "      <td>NaN</td>\n",
       "      <td>NaN</td>\n",
       "      <td>NaN</td>\n",
       "      <td>NaN</td>\n",
       "      <td>NaN</td>\n",
       "      <td>NaN</td>\n",
       "      <td>NaN</td>\n",
       "      <td>NaN</td>\n",
       "      <td>NaN</td>\n",
       "    </tr>\n",
       "    <tr>\n",
       "      <th>1787</th>\n",
       "      <td>2982</td>\n",
       "      <td>2</td>\n",
       "      <td>In life you have the 'offensive things'. The l...</td>\n",
       "      <td>4</td>\n",
       "      <td>4</td>\n",
       "      <td>NaN</td>\n",
       "      <td>4</td>\n",
       "      <td>4.0</td>\n",
       "      <td>4.0</td>\n",
       "      <td>4.0</td>\n",
       "      <td>...</td>\n",
       "      <td>NaN</td>\n",
       "      <td>NaN</td>\n",
       "      <td>NaN</td>\n",
       "      <td>NaN</td>\n",
       "      <td>NaN</td>\n",
       "      <td>NaN</td>\n",
       "      <td>NaN</td>\n",
       "      <td>NaN</td>\n",
       "      <td>NaN</td>\n",
       "      <td>NaN</td>\n",
       "    </tr>\n",
       "  </tbody>\n",
       "</table>\n",
       "<p>5 rows × 28 columns</p>\n",
       "</div>"
      ],
      "text/plain": [
       "      essay_id  essay_set                                              essay  \\\n",
       "1783      2978          2  Certain materials being removed from libraries...   \n",
       "1784      2979          2  Write a persuasive essay to a newspaper reflec...   \n",
       "1785      2980          2  Do you think that libraries should remove cert...   \n",
       "1786      2981          2  In @DATE1's world, there are many things found...   \n",
       "1787      2982          2  In life you have the 'offensive things'. The l...   \n",
       "\n",
       "      rater1_domain1  rater2_domain1  rater3_domain1  domain1_score  \\\n",
       "1783               4               4             NaN              4   \n",
       "1784               1               2             NaN              1   \n",
       "1785               2               3             NaN              2   \n",
       "1786               4               4             NaN              4   \n",
       "1787               4               4             NaN              4   \n",
       "\n",
       "      rater1_domain2  rater2_domain2  domain2_score  ...  rater2_trait3  \\\n",
       "1783             4.0             4.0            4.0  ...            NaN   \n",
       "1784             1.0             2.0            1.0  ...            NaN   \n",
       "1785             3.0             3.0            3.0  ...            NaN   \n",
       "1786             4.0             4.0            4.0  ...            NaN   \n",
       "1787             4.0             4.0            4.0  ...            NaN   \n",
       "\n",
       "      rater2_trait4  rater2_trait5  rater2_trait6  rater3_trait1  \\\n",
       "1783            NaN            NaN            NaN            NaN   \n",
       "1784            NaN            NaN            NaN            NaN   \n",
       "1785            NaN            NaN            NaN            NaN   \n",
       "1786            NaN            NaN            NaN            NaN   \n",
       "1787            NaN            NaN            NaN            NaN   \n",
       "\n",
       "      rater3_trait2  rater3_trait3  rater3_trait4  rater3_trait5  \\\n",
       "1783            NaN            NaN            NaN            NaN   \n",
       "1784            NaN            NaN            NaN            NaN   \n",
       "1785            NaN            NaN            NaN            NaN   \n",
       "1786            NaN            NaN            NaN            NaN   \n",
       "1787            NaN            NaN            NaN            NaN   \n",
       "\n",
       "      rater3_trait6  \n",
       "1783            NaN  \n",
       "1784            NaN  \n",
       "1785            NaN  \n",
       "1786            NaN  \n",
       "1787            NaN  \n",
       "\n",
       "[5 rows x 28 columns]"
      ]
     },
     "execution_count": 177,
     "metadata": {},
     "output_type": "execute_result"
    }
   ],
   "source": [
    "#domain 2, y1 = domain1_score (1-6), y2 = domain2_score (1-4)\n",
    "train_d2 = train[train['essay_set']==2]\n",
    "test_d2 = test[test['essay_set']==2]\n",
    "print(train_d2.shape)\n",
    "train_d2.head()"
   ]
  },
  {
   "cell_type": "code",
   "execution_count": 178,
   "metadata": {},
   "outputs": [],
   "source": [
    "train_d2 = train_d2[['essay_id', 'essay', 'domain1_score', 'domain2_score']]\n",
    "train_d2.name = 'dataset 2'"
   ]
  },
  {
   "cell_type": "code",
   "execution_count": 179,
   "metadata": {},
   "outputs": [
    {
     "data": {
      "image/png": "[encoded data removed]",
      "text/plain": [
       "<Figure size 720x720 with 1 Axes>"
      ]
     },
     "metadata": {
      "needs_background": "light"
     },
     "output_type": "display_data"
    },
    {
     "name": "stdout",
     "output_type": "stream",
     "text": [
      "dataset 2  average word length:  4.247748099259484\n",
      "dataset 2  average word count:  386.3933333333333\n",
      "dataset 2  average char count:  1694.7422222222222\n",
      "dataset 2  average setence count:  20.36111111111111\n",
      "dataset 2  average lemma count:  109.95055555555555\n",
      "dataset 2  average noun count:  115.1361111111111\n",
      "dataset 2 average adj count:  16.086666666666666\n",
      "dataset 2 average verb count:  24.788888888888888\n",
      "dataset 2 average adv count:  10.584444444444445\n"
     ]
    }
   ],
   "source": [
    "essay_analysis(train_d2, 'domain1_score')"
   ]
  },
  {
   "cell_type": "code",
   "execution_count": 180,
   "metadata": {
    "scrolled": true
   },
   "outputs": [
    {
     "name": "stderr",
     "output_type": "stream",
     "text": [
      "/home/chenming/anaconda3/lib/python3.7/site-packages/ipykernel_launcher.py:16: FutureWarning: Method .as_matrix will be removed in a future version. Use .values instead.\n",
      "  app.launch_new_instance()\n"
     ]
    },
    {
     "name": "stdout",
     "output_type": "stream",
     "text": [
      "Linear Regression\n",
      "Mean squared error: 0.38\n",
      "Root Mean squared error: 0.62\n",
      "SGD\n",
      "Mean squared error: 0.64\n",
      "Root Mean squared error: 0.80\n",
      "SVC\n",
      "Mean squared error: 0.77\n",
      "Root Mean squared error: 0.88\n",
      "Random Forest\n",
      "Mean squared error: 0.40\n",
      "Root Mean squared error: 0.63\n",
      "ensemble: \n",
      "Mean squared error: 0.43\n",
      "Root Mean squared error: 0.65\n"
     ]
    }
   ],
   "source": [
    "X_train, X_test, y_train, y_test = split_BOW_dataset(train_d2, 'domain1_score', isPCA=True, n=8)\n",
    "evaluation_df(X_train, X_test, y_train, y_test)"
   ]
  },
  {
   "cell_type": "code",
   "execution_count": 181,
   "metadata": {},
   "outputs": [
    {
     "name": "stderr",
     "output_type": "stream",
     "text": [
      "/home/chenming/anaconda3/lib/python3.7/site-packages/ipykernel_launcher.py:16: FutureWarning: Method .as_matrix will be removed in a future version. Use .values instead.\n",
      "  app.launch_new_instance()\n"
     ]
    },
    {
     "name": "stdout",
     "output_type": "stream",
     "text": [
      "Linear Regression\n",
      "Mean squared error: 0.56\n",
      "Root Mean squared error: 0.75\n",
      "SGD\n",
      "Mean squared error: 0.58\n",
      "Root Mean squared error: 0.76\n",
      "SVC\n",
      "Mean squared error: 0.93\n",
      "Root Mean squared error: 0.97\n",
      "Random Forest\n",
      "Mean squared error: 0.41\n",
      "Root Mean squared error: 0.64\n",
      "ensemble: \n",
      "Mean squared error: 0.39\n",
      "Root Mean squared error: 0.63\n"
     ]
    }
   ],
   "source": [
    "X_train, X_test, y_train, y_test = split_BOW_dataset(train_d2, 'domain1_score', isPCA=False, n=8)\n",
    "evaluation_df(X_train, X_test, y_train, y_test)"
   ]
  },
  {
   "cell_type": "code",
   "execution_count": 182,
   "metadata": {},
   "outputs": [
    {
     "name": "stderr",
     "output_type": "stream",
     "text": [
      "/home/chenming/anaconda3/lib/python3.7/site-packages/ipykernel_launcher.py:3: FutureWarning: Method .as_matrix will be removed in a future version. Use .values instead.\n",
      "  This is separate from the ipykernel package so we can avoid doing imports until\n",
      "/home/chenming/anaconda3/lib/python3.7/site-packages/ipykernel_launcher.py:4: FutureWarning: Method .as_matrix will be removed in a future version. Use .values instead.\n",
      "  after removing the cwd from sys.path.\n"
     ]
    },
    {
     "name": "stdout",
     "output_type": "stream",
     "text": [
      "Linear Regression\n",
      "Mean squared error: 0.37\n",
      "Root Mean squared error: 0.61\n",
      "SGD\n",
      "Mean squared error: 0.74\n",
      "Root Mean squared error: 0.86\n",
      "SVC\n",
      "Mean squared error: 0.42\n",
      "Root Mean squared error: 0.65\n",
      "Random Forest\n",
      "Mean squared error: 0.48\n",
      "Root Mean squared error: 0.69\n",
      "ensemble: \n",
      "Mean squared error: 0.38\n",
      "Root Mean squared error: 0.62\n"
     ]
    }
   ],
   "source": [
    "TF_IDF_model(train_d2,'domain1_score')"
   ]
  },
  {
   "cell_type": "code",
   "execution_count": 190,
   "metadata": {
    "scrolled": true
   },
   "outputs": [
    {
     "name": "stderr",
     "output_type": "stream",
     "text": [
      "/home/chenming/anaconda3/lib/python3.7/site-packages/ipykernel_launcher.py:15: FutureWarning: Method .as_matrix will be removed in a future version. Use .values instead.\n",
      "  from ipykernel import kernelapp as app\n",
      "/home/chenming/anaconda3/lib/python3.7/site-packages/ipykernel_launcher.py:16: FutureWarning: Method .as_matrix will be removed in a future version. Use .values instead.\n",
      "  app.launch_new_instance()\n"
     ]
    },
    {
     "name": "stdout",
     "output_type": "stream",
     "text": [
      "Linear Regression\n",
      "Mean squared error: 0.28\n",
      "Root Mean squared error: 0.53\n",
      "SGD\n",
      "Mean squared error: 0.45\n",
      "Root Mean squared error: 0.67\n",
      "SVC\n",
      "Mean squared error: 0.80\n",
      "Root Mean squared error: 0.90\n",
      "Random Forest\n",
      "Mean squared error: 0.28\n",
      "Root Mean squared error: 0.53\n",
      "ensemble: \n",
      "Mean squared error: 0.35\n",
      "Root Mean squared error: 0.59\n"
     ]
    }
   ],
   "source": [
    "X_ex_train, X_ex_test, y_ex_train, y_ex_test = split_BOW_extrafeature_dataset(train_d2, y_name='domain1_score',isPCA=True, n=8)\n",
    "evaluation_df(X_ex_train, X_ex_test, y_ex_train, y_ex_test)"
   ]
  },
  {
   "cell_type": "code",
   "execution_count": 193,
   "metadata": {},
   "outputs": [
    {
     "data": {
      "image/png": "[encoded data removed]",
      "text/plain": [
       "<Figure size 720x720 with 1 Axes>"
      ]
     },
     "metadata": {
      "needs_background": "light"
     },
     "output_type": "display_data"
    },
    {
     "name": "stdout",
     "output_type": "stream",
     "text": [
      "dataset 2  average word length:  4.247748099259484\n",
      "dataset 2  average word count:  386.3933333333333\n",
      "dataset 2  average char count:  1694.7422222222222\n",
      "dataset 2  average setence count:  20.36111111111111\n",
      "dataset 2  average lemma count:  109.95055555555555\n",
      "dataset 2  average noun count:  115.1361111111111\n",
      "dataset 2 average adj count:  16.086666666666666\n",
      "dataset 2 average verb count:  24.788888888888888\n",
      "dataset 2 average adv count:  10.584444444444445\n",
      "use PCA in BOW evaluation\n"
     ]
    },
    {
     "name": "stderr",
     "output_type": "stream",
     "text": [
      "/home/chenming/anaconda3/lib/python3.7/site-packages/ipykernel_launcher.py:16: FutureWarning: Method .as_matrix will be removed in a future version. Use .values instead.\n",
      "  app.launch_new_instance()\n"
     ]
    },
    {
     "name": "stdout",
     "output_type": "stream",
     "text": [
      "Linear Regression\n",
      "Mean squared error: 0.38\n",
      "Root Mean squared error: 0.62\n",
      "SGD\n",
      "Mean squared error: 0.67\n",
      "Root Mean squared error: 0.82\n",
      "SVC\n",
      "Mean squared error: 0.99\n",
      "Root Mean squared error: 1.00\n",
      "Random Forest\n",
      "Mean squared error: 0.41\n",
      "Root Mean squared error: 0.64\n",
      "ensemble: \n",
      "Mean squared error: 0.42\n",
      "Root Mean squared error: 0.65\n",
      "TF-IDF\n"
     ]
    },
    {
     "name": "stderr",
     "output_type": "stream",
     "text": [
      "/home/chenming/anaconda3/lib/python3.7/site-packages/ipykernel_launcher.py:3: FutureWarning: Method .as_matrix will be removed in a future version. Use .values instead.\n",
      "  This is separate from the ipykernel package so we can avoid doing imports until\n",
      "/home/chenming/anaconda3/lib/python3.7/site-packages/ipykernel_launcher.py:4: FutureWarning: Method .as_matrix will be removed in a future version. Use .values instead.\n",
      "  after removing the cwd from sys.path.\n"
     ]
    },
    {
     "name": "stdout",
     "output_type": "stream",
     "text": [
      "Linear Regression\n",
      "Mean squared error: 0.39\n",
      "Root Mean squared error: 0.62\n",
      "SGD\n",
      "Mean squared error: 0.53\n",
      "Root Mean squared error: 0.73\n",
      "SVC\n",
      "Mean squared error: 0.45\n",
      "Root Mean squared error: 0.67\n",
      "Random Forest\n",
      "Mean squared error: 0.45\n",
      "Root Mean squared error: 0.67\n",
      "ensemble: \n",
      "Mean squared error: 0.36\n",
      "Root Mean squared error: 0.60\n",
      "add feature to PCA BOW\n"
     ]
    },
    {
     "name": "stderr",
     "output_type": "stream",
     "text": [
      "/home/chenming/anaconda3/lib/python3.7/site-packages/ipykernel_launcher.py:15: FutureWarning: Method .as_matrix will be removed in a future version. Use .values instead.\n",
      "  from ipykernel import kernelapp as app\n",
      "/home/chenming/anaconda3/lib/python3.7/site-packages/ipykernel_launcher.py:16: FutureWarning: Method .as_matrix will be removed in a future version. Use .values instead.\n",
      "  app.launch_new_instance()\n"
     ]
    },
    {
     "name": "stdout",
     "output_type": "stream",
     "text": [
      "Linear Regression\n",
      "Mean squared error: 0.27\n",
      "Root Mean squared error: 0.52\n",
      "SGD\n",
      "Mean squared error: 0.36\n",
      "Root Mean squared error: 0.60\n",
      "SVC\n",
      "Mean squared error: 0.94\n",
      "Root Mean squared error: 0.97\n",
      "Random Forest\n",
      "Mean squared error: 0.30\n",
      "Root Mean squared error: 0.55\n",
      "ensemble: \n",
      "Mean squared error: 0.32\n",
      "Root Mean squared error: 0.57\n"
     ]
    }
   ],
   "source": [
    "# dataset 2, domain2 score\n",
    "essay_analysis(train_d2, 'domain2_score')\n",
    "print('use PCA in BOW evaluation')\n",
    "X_train, X_test, y_train, y_test = split_BOW_dataset(train_d2, 'domain2_score', isPCA=True, n=8)\n",
    "evaluation_df(X_train, X_test, y_train, y_test)\n",
    "\n",
    "print('TF-IDF')\n",
    "TF_IDF_model(train_d2,'domain2_score')\n",
    "\n",
    "print('add feature to PCA BOW')\n",
    "X_ex_train, X_ex_test, y_ex_train, y_ex_test = split_BOW_extrafeature_dataset(train_d2, y_name='domain2_score',isPCA=True, n=8)\n",
    "evaluation_df(X_ex_train, X_ex_test, y_ex_train, y_ex_test)"
   ]
  },
  {
   "cell_type": "code",
   "execution_count": 195,
   "metadata": {},
   "outputs": [
    {
     "name": "stdout",
     "output_type": "stream",
     "text": [
      "(1726, 28)\n"
     ]
    },
    {
     "data": {
      "image/png": "[encoded data removed]",
      "text/plain": [
       "<Figure size 720x720 with 1 Axes>"
      ]
     },
     "metadata": {
      "needs_background": "light"
     },
     "output_type": "display_data"
    },
    {
     "name": "stdout",
     "output_type": "stream",
     "text": [
      "dataset 3  average word length:  4.218625907848949\n",
      "dataset 3  average word count:  109.60834298957127\n",
      "dataset 3  average char count:  478.83719582850523\n",
      "dataset 3  average setence count:  5.936848203939745\n",
      "dataset 3  average lemma count:  46.584009269988414\n",
      "dataset 3  average noun count:  32.006373117033604\n",
      "dataset 3 average adj count:  4.742757821552723\n",
      "dataset 3 average verb count:  10.539397450753187\n",
      "dataset 3 average adv count:  3.6199304750869064\n",
      "use PCA in BOW evaluation\n"
     ]
    },
    {
     "name": "stderr",
     "output_type": "stream",
     "text": [
      "/home/chenming/anaconda3/lib/python3.7/site-packages/ipykernel_launcher.py:16: FutureWarning: Method .as_matrix will be removed in a future version. Use .values instead.\n",
      "  app.launch_new_instance()\n"
     ]
    },
    {
     "name": "stdout",
     "output_type": "stream",
     "text": [
      "Linear Regression\n",
      "Mean squared error: 0.42\n",
      "Root Mean squared error: 0.65\n",
      "SGD\n",
      "Mean squared error: 0.67\n",
      "Root Mean squared error: 0.82\n",
      "SVC\n",
      "Mean squared error: 0.57\n",
      "Root Mean squared error: 0.76\n",
      "Random Forest\n",
      "Mean squared error: 0.44\n",
      "Root Mean squared error: 0.66\n",
      "ensemble: \n",
      "Mean squared error: 0.42\n",
      "Root Mean squared error: 0.65\n",
      "TF-IDF\n"
     ]
    },
    {
     "name": "stderr",
     "output_type": "stream",
     "text": [
      "/home/chenming/anaconda3/lib/python3.7/site-packages/ipykernel_launcher.py:3: FutureWarning: Method .as_matrix will be removed in a future version. Use .values instead.\n",
      "  This is separate from the ipykernel package so we can avoid doing imports until\n",
      "/home/chenming/anaconda3/lib/python3.7/site-packages/ipykernel_launcher.py:4: FutureWarning: Method .as_matrix will be removed in a future version. Use .values instead.\n",
      "  after removing the cwd from sys.path.\n"
     ]
    },
    {
     "name": "stdout",
     "output_type": "stream",
     "text": [
      "Linear Regression\n",
      "Mean squared error: 1.09\n",
      "Root Mean squared error: 1.04\n",
      "SGD\n",
      "Mean squared error: 0.82\n",
      "Root Mean squared error: 0.91\n",
      "SVC\n",
      "Mean squared error: 0.57\n",
      "Root Mean squared error: 0.75\n",
      "Random Forest\n",
      "Mean squared error: 0.57\n",
      "Root Mean squared error: 0.75\n",
      "ensemble: \n",
      "Mean squared error: 0.52\n",
      "Root Mean squared error: 0.72\n",
      "add feature to PCA BOW\n"
     ]
    },
    {
     "name": "stderr",
     "output_type": "stream",
     "text": [
      "/home/chenming/anaconda3/lib/python3.7/site-packages/ipykernel_launcher.py:15: FutureWarning: Method .as_matrix will be removed in a future version. Use .values instead.\n",
      "  from ipykernel import kernelapp as app\n",
      "/home/chenming/anaconda3/lib/python3.7/site-packages/ipykernel_launcher.py:16: FutureWarning: Method .as_matrix will be removed in a future version. Use .values instead.\n",
      "  app.launch_new_instance()\n"
     ]
    },
    {
     "name": "stdout",
     "output_type": "stream",
     "text": [
      "Linear Regression\n",
      "Mean squared error: 0.31\n",
      "Root Mean squared error: 0.56\n",
      "SGD\n",
      "Mean squared error: 0.47\n",
      "Root Mean squared error: 0.69\n",
      "SVC\n",
      "Mean squared error: 1.41\n",
      "Root Mean squared error: 1.19\n",
      "Random Forest\n",
      "Mean squared error: 0.31\n",
      "Root Mean squared error: 0.55\n",
      "ensemble: \n",
      "Mean squared error: 0.38\n",
      "Root Mean squared error: 0.62\n"
     ]
    }
   ],
   "source": [
    "# dataset 3\n",
    "train_d3 = train[train['essay_set']==3]\n",
    "test_d3 = test[test['essay_set']==3]\n",
    "print(train_d3.shape)\n",
    "train_d3 = train_d3[['essay_id', 'essay', 'domain1_score']]\n",
    "train_d3.name = 'dataset 3'\n",
    "\n",
    "essay_analysis(train_d3, 'domain1_score')\n",
    "print('use PCA in BOW evaluation')\n",
    "X_train, X_test, y_train, y_test = split_BOW_dataset(train_d3, 'domain1_score', isPCA=True, n=8)\n",
    "evaluation_df(X_train, X_test, y_train, y_test)\n",
    "\n",
    "print('TF-IDF')\n",
    "TF_IDF_model(train_d3,'domain1_score')\n",
    "\n",
    "print('add feature to PCA BOW')\n",
    "X_ex_train, X_ex_test, y_ex_train, y_ex_test = split_BOW_extrafeature_dataset(train_d3, y_name='domain1_score',isPCA=True, n=8)\n",
    "evaluation_df(X_ex_train, X_ex_test, y_ex_train, y_ex_test)"
   ]
  },
  {
   "cell_type": "code",
   "execution_count": 196,
   "metadata": {},
   "outputs": [
    {
     "name": "stdout",
     "output_type": "stream",
     "text": [
      "(1770, 28)\n"
     ]
    },
    {
     "data": {
      "image/png": "[encoded data removed]",
      "text/plain": [
       "<Figure size 720x720 with 1 Axes>"
      ]
     },
     "metadata": {
      "needs_background": "light"
     },
     "output_type": "display_data"
    },
    {
     "name": "stdout",
     "output_type": "stream",
     "text": [
      "dataset 4  average word length:  4.238999201806222\n",
      "dataset 4  average word count:  95.24293785310735\n",
      "dataset 4  average char count:  415.6593220338983\n",
      "dataset 4  average setence count:  4.459887005649717\n",
      "dataset 4  average lemma count:  36.30734463276836\n",
      "dataset 4  average noun count:  29.005649717514125\n",
      "dataset 4 average adj count:  3.397175141242938\n",
      "dataset 4 average verb count:  7.410169491525424\n",
      "dataset 4 average adv count:  2.5627118644067797\n",
      "use PCA in BOW evaluation\n"
     ]
    },
    {
     "name": "stderr",
     "output_type": "stream",
     "text": [
      "/home/chenming/anaconda3/lib/python3.7/site-packages/ipykernel_launcher.py:16: FutureWarning: Method .as_matrix will be removed in a future version. Use .values instead.\n",
      "  app.launch_new_instance()\n"
     ]
    },
    {
     "name": "stdout",
     "output_type": "stream",
     "text": [
      "Linear Regression\n",
      "Mean squared error: 0.37\n",
      "Root Mean squared error: 0.61\n",
      "SGD\n",
      "Mean squared error: 0.52\n",
      "Root Mean squared error: 0.72\n",
      "SVC\n",
      "Mean squared error: 0.51\n",
      "Root Mean squared error: 0.71\n",
      "Random Forest\n",
      "Mean squared error: 0.39\n",
      "Root Mean squared error: 0.63\n",
      "ensemble: \n",
      "Mean squared error: 0.34\n",
      "Root Mean squared error: 0.58\n",
      "TF-IDF\n"
     ]
    },
    {
     "name": "stderr",
     "output_type": "stream",
     "text": [
      "/home/chenming/anaconda3/lib/python3.7/site-packages/ipykernel_launcher.py:3: FutureWarning: Method .as_matrix will be removed in a future version. Use .values instead.\n",
      "  This is separate from the ipykernel package so we can avoid doing imports until\n",
      "/home/chenming/anaconda3/lib/python3.7/site-packages/ipykernel_launcher.py:4: FutureWarning: Method .as_matrix will be removed in a future version. Use .values instead.\n",
      "  after removing the cwd from sys.path.\n"
     ]
    },
    {
     "name": "stdout",
     "output_type": "stream",
     "text": [
      "Linear Regression\n",
      "Mean squared error: 0.83\n",
      "Root Mean squared error: 0.91\n",
      "SGD\n",
      "Mean squared error: 0.79\n",
      "Root Mean squared error: 0.89\n",
      "SVC\n",
      "Mean squared error: 0.50\n",
      "Root Mean squared error: 0.71\n",
      "Random Forest\n",
      "Mean squared error: 0.49\n",
      "Root Mean squared error: 0.70\n",
      "ensemble: \n",
      "Mean squared error: 0.42\n",
      "Root Mean squared error: 0.64\n",
      "add feature to PCA BOW\n"
     ]
    },
    {
     "name": "stderr",
     "output_type": "stream",
     "text": [
      "/home/chenming/anaconda3/lib/python3.7/site-packages/ipykernel_launcher.py:15: FutureWarning: Method .as_matrix will be removed in a future version. Use .values instead.\n",
      "  from ipykernel import kernelapp as app\n",
      "/home/chenming/anaconda3/lib/python3.7/site-packages/ipykernel_launcher.py:16: FutureWarning: Method .as_matrix will be removed in a future version. Use .values instead.\n",
      "  app.launch_new_instance()\n"
     ]
    },
    {
     "name": "stdout",
     "output_type": "stream",
     "text": [
      "Linear Regression\n",
      "Mean squared error: 0.30\n",
      "Root Mean squared error: 0.54\n",
      "SGD\n",
      "Mean squared error: 0.82\n",
      "Root Mean squared error: 0.91\n",
      "SVC\n",
      "Mean squared error: 1.04\n",
      "Root Mean squared error: 1.02\n",
      "Random Forest\n",
      "Mean squared error: 0.31\n",
      "Root Mean squared error: 0.56\n",
      "ensemble: \n",
      "Mean squared error: 0.38\n",
      "Root Mean squared error: 0.62\n"
     ]
    }
   ],
   "source": [
    "# dataset 4\n",
    "train_d4 = train[train['essay_set']==4]\n",
    "test_d4 = test[test['essay_set']==4]\n",
    "print(train_d4.shape)\n",
    "train_d4 = train_d4[['essay_id', 'essay', 'domain1_score']]\n",
    "train_d4.name = 'dataset 4'\n",
    "\n",
    "essay_analysis(train_d4, 'domain1_score')\n",
    "print('use PCA in BOW evaluation')\n",
    "X_train, X_test, y_train, y_test = split_BOW_dataset(train_d4, 'domain1_score', isPCA=True, n=8)\n",
    "evaluation_df(X_train, X_test, y_train, y_test)\n",
    "\n",
    "print('TF-IDF')\n",
    "TF_IDF_model(train_d4,'domain1_score')\n",
    "\n",
    "print('add feature to PCA BOW')\n",
    "X_ex_train, X_ex_test, y_ex_train, y_ex_test = split_BOW_extrafeature_dataset(train_d4, y_name='domain1_score',isPCA=True, n=8)\n",
    "evaluation_df(X_ex_train, X_ex_test, y_ex_train, y_ex_test)"
   ]
  },
  {
   "cell_type": "code",
   "execution_count": 197,
   "metadata": {},
   "outputs": [
    {
     "name": "stdout",
     "output_type": "stream",
     "text": [
      "(1805, 28)\n"
     ]
    },
    {
     "data": {
      "image/png": "[encoded data removed]",
      "text/plain": [
       "<Figure size 720x720 with 1 Axes>"
      ]
     },
     "metadata": {
      "needs_background": "light"
     },
     "output_type": "display_data"
    },
    {
     "name": "stdout",
     "output_type": "stream",
     "text": [
      "dataset 5  average word length:  4.358046268184359\n",
      "dataset 5  average word count:  123.2404432132964\n",
      "dataset 5  average char count:  562.0454293628809\n",
      "dataset 5  average setence count:  6.6415512465373965\n",
      "dataset 5  average lemma count:  47.06094182825485\n",
      "dataset 5  average noun count:  39.802216066481996\n",
      "dataset 5 average adj count:  4.522991689750692\n",
      "dataset 5 average verb count:  8.240443213296398\n",
      "dataset 5 average adv count:  4.207756232686981\n",
      "use PCA in BOW evaluation\n"
     ]
    },
    {
     "name": "stderr",
     "output_type": "stream",
     "text": [
      "/home/chenming/anaconda3/lib/python3.7/site-packages/ipykernel_launcher.py:16: FutureWarning: Method .as_matrix will be removed in a future version. Use .values instead.\n",
      "  app.launch_new_instance()\n"
     ]
    },
    {
     "name": "stdout",
     "output_type": "stream",
     "text": [
      "Linear Regression\n",
      "Mean squared error: 0.36\n",
      "Root Mean squared error: 0.60\n",
      "SGD\n",
      "Mean squared error: 0.67\n",
      "Root Mean squared error: 0.82\n",
      "SVC\n",
      "Mean squared error: 0.55\n",
      "Root Mean squared error: 0.74\n",
      "Random Forest\n",
      "Mean squared error: 0.37\n",
      "Root Mean squared error: 0.61\n",
      "ensemble: \n",
      "Mean squared error: 0.37\n",
      "Root Mean squared error: 0.61\n",
      "TF-IDF\n"
     ]
    },
    {
     "name": "stderr",
     "output_type": "stream",
     "text": [
      "/home/chenming/anaconda3/lib/python3.7/site-packages/ipykernel_launcher.py:3: FutureWarning: Method .as_matrix will be removed in a future version. Use .values instead.\n",
      "  This is separate from the ipykernel package so we can avoid doing imports until\n",
      "/home/chenming/anaconda3/lib/python3.7/site-packages/ipykernel_launcher.py:4: FutureWarning: Method .as_matrix will be removed in a future version. Use .values instead.\n",
      "  after removing the cwd from sys.path.\n"
     ]
    },
    {
     "name": "stdout",
     "output_type": "stream",
     "text": [
      "Linear Regression\n",
      "Mean squared error: 0.64\n",
      "Root Mean squared error: 0.80\n",
      "SGD\n",
      "Mean squared error: 0.97\n",
      "Root Mean squared error: 0.98\n",
      "SVC\n",
      "Mean squared error: 0.56\n",
      "Root Mean squared error: 0.75\n",
      "Random Forest\n",
      "Mean squared error: 0.60\n",
      "Root Mean squared error: 0.78\n",
      "ensemble: \n",
      "Mean squared error: 0.47\n",
      "Root Mean squared error: 0.68\n",
      "add feature to PCA BOW\n"
     ]
    },
    {
     "name": "stderr",
     "output_type": "stream",
     "text": [
      "/home/chenming/anaconda3/lib/python3.7/site-packages/ipykernel_launcher.py:15: FutureWarning: Method .as_matrix will be removed in a future version. Use .values instead.\n",
      "  from ipykernel import kernelapp as app\n",
      "/home/chenming/anaconda3/lib/python3.7/site-packages/ipykernel_launcher.py:16: FutureWarning: Method .as_matrix will be removed in a future version. Use .values instead.\n",
      "  app.launch_new_instance()\n"
     ]
    },
    {
     "name": "stdout",
     "output_type": "stream",
     "text": [
      "Linear Regression\n",
      "Mean squared error: 0.28\n",
      "Root Mean squared error: 0.53\n",
      "SGD\n",
      "Mean squared error: 0.68\n",
      "Root Mean squared error: 0.83\n",
      "SVC\n",
      "Mean squared error: 1.20\n",
      "Root Mean squared error: 1.09\n",
      "Random Forest\n",
      "Mean squared error: 0.29\n",
      "Root Mean squared error: 0.53\n",
      "ensemble: \n",
      "Mean squared error: 0.41\n",
      "Root Mean squared error: 0.64\n"
     ]
    }
   ],
   "source": [
    "# dataset 5\n",
    "train_d5 = train[train['essay_set']==5]\n",
    "test_d5 = test[test['essay_set']==5]\n",
    "print(train_d5.shape)\n",
    "train_d5 = train_d5[['essay_id', 'essay', 'domain1_score']]\n",
    "train_d5.name = 'dataset 5'\n",
    "\n",
    "essay_analysis(train_d5, 'domain1_score')\n",
    "print('use PCA in BOW evaluation')\n",
    "X_train, X_test, y_train, y_test = split_BOW_dataset(train_d5, 'domain1_score', isPCA=True, n=8)\n",
    "evaluation_df(X_train, X_test, y_train, y_test)\n",
    "\n",
    "print('TF-IDF')\n",
    "TF_IDF_model(train_d5,'domain1_score')\n",
    "\n",
    "print('add feature to PCA BOW')\n",
    "X_ex_train, X_ex_test, y_ex_train, y_ex_test = split_BOW_extrafeature_dataset(train_d5, y_name='domain1_score',isPCA=True, n=8)\n",
    "evaluation_df(X_ex_train, X_ex_test, y_ex_train, y_ex_test)"
   ]
  },
  {
   "cell_type": "code",
   "execution_count": 198,
   "metadata": {},
   "outputs": [
    {
     "name": "stdout",
     "output_type": "stream",
     "text": [
      "(1800, 28)\n"
     ]
    },
    {
     "data": {
      "image/png": "[encoded data removed]",
      "text/plain": [
       "<Figure size 720x720 with 1 Axes>"
      ]
     },
     "metadata": {
      "needs_background": "light"
     },
     "output_type": "display_data"
    },
    {
     "name": "stdout",
     "output_type": "stream",
     "text": [
      "dataset 6  average word length:  4.6434853927469195\n",
      "dataset 6  average word count:  154.81444444444443\n",
      "dataset 6  average char count:  739.6461111111112\n",
      "dataset 6  average setence count:  7.802777777777778\n",
      "dataset 6  average lemma count:  65.64666666666666\n",
      "dataset 6  average noun count:  50.227222222222224\n",
      "dataset 6 average adj count:  9.21888888888889\n",
      "dataset 6 average verb count:  13.188333333333333\n",
      "dataset 6 average adv count:  4.897777777777778\n",
      "use PCA in BOW evaluation\n"
     ]
    },
    {
     "name": "stderr",
     "output_type": "stream",
     "text": [
      "/home/chenming/anaconda3/lib/python3.7/site-packages/ipykernel_launcher.py:16: FutureWarning: Method .as_matrix will be removed in a future version. Use .values instead.\n",
      "  app.launch_new_instance()\n"
     ]
    },
    {
     "name": "stdout",
     "output_type": "stream",
     "text": [
      "Linear Regression\n",
      "Mean squared error: 0.44\n",
      "Root Mean squared error: 0.66\n",
      "SGD\n",
      "Mean squared error: 0.71\n",
      "Root Mean squared error: 0.85\n",
      "SVC\n",
      "Mean squared error: 0.80\n",
      "Root Mean squared error: 0.89\n",
      "Random Forest\n",
      "Mean squared error: 0.62\n",
      "Root Mean squared error: 0.79\n",
      "ensemble: \n",
      "Mean squared error: 0.49\n",
      "Root Mean squared error: 0.70\n",
      "TF-IDF\n"
     ]
    },
    {
     "name": "stderr",
     "output_type": "stream",
     "text": [
      "/home/chenming/anaconda3/lib/python3.7/site-packages/ipykernel_launcher.py:3: FutureWarning: Method .as_matrix will be removed in a future version. Use .values instead.\n",
      "  This is separate from the ipykernel package so we can avoid doing imports until\n",
      "/home/chenming/anaconda3/lib/python3.7/site-packages/ipykernel_launcher.py:4: FutureWarning: Method .as_matrix will be removed in a future version. Use .values instead.\n",
      "  after removing the cwd from sys.path.\n"
     ]
    },
    {
     "name": "stdout",
     "output_type": "stream",
     "text": [
      "Linear Regression\n",
      "Mean squared error: 0.49\n",
      "Root Mean squared error: 0.70\n",
      "SGD\n",
      "Mean squared error: 0.88\n",
      "Root Mean squared error: 0.94\n",
      "SVC\n",
      "Mean squared error: 0.61\n",
      "Root Mean squared error: 0.78\n",
      "Random Forest\n",
      "Mean squared error: 0.52\n",
      "Root Mean squared error: 0.72\n",
      "ensemble: \n",
      "Mean squared error: 0.44\n",
      "Root Mean squared error: 0.66\n",
      "add feature to PCA BOW\n"
     ]
    },
    {
     "name": "stderr",
     "output_type": "stream",
     "text": [
      "/home/chenming/anaconda3/lib/python3.7/site-packages/ipykernel_launcher.py:15: FutureWarning: Method .as_matrix will be removed in a future version. Use .values instead.\n",
      "  from ipykernel import kernelapp as app\n",
      "/home/chenming/anaconda3/lib/python3.7/site-packages/ipykernel_launcher.py:16: FutureWarning: Method .as_matrix will be removed in a future version. Use .values instead.\n",
      "  app.launch_new_instance()\n"
     ]
    },
    {
     "name": "stdout",
     "output_type": "stream",
     "text": [
      "Linear Regression\n",
      "Mean squared error: 0.35\n",
      "Root Mean squared error: 0.60\n",
      "SGD\n",
      "Mean squared error: 0.71\n",
      "Root Mean squared error: 0.84\n",
      "SVC\n",
      "Mean squared error: 0.95\n",
      "Root Mean squared error: 0.98\n",
      "Random Forest\n",
      "Mean squared error: 0.41\n",
      "Root Mean squared error: 0.64\n",
      "ensemble: \n",
      "Mean squared error: 0.41\n",
      "Root Mean squared error: 0.64\n"
     ]
    }
   ],
   "source": [
    "# dataset 6\n",
    "train_d6 = train[train['essay_set']==6]\n",
    "test_d6 = test[test['essay_set']==6]\n",
    "print(train_d6.shape)\n",
    "train_d6 = train_d6[['essay_id', 'essay', 'domain1_score']]\n",
    "train_d6.name = 'dataset 6'\n",
    "\n",
    "essay_analysis(train_d6, 'domain1_score')\n",
    "print('use PCA in BOW evaluation')\n",
    "X_train, X_test, y_train, y_test = split_BOW_dataset(train_d6, 'domain1_score', isPCA=True, n=8)\n",
    "evaluation_df(X_train, X_test, y_train, y_test)\n",
    "\n",
    "print('TF-IDF')\n",
    "TF_IDF_model(train_d6,'domain1_score')\n",
    "\n",
    "print('add feature to PCA BOW')\n",
    "X_ex_train, X_ex_test, y_ex_train, y_ex_test = split_BOW_extrafeature_dataset(train_d6, y_name='domain1_score',isPCA=True, n=8)\n",
    "evaluation_df(X_ex_train, X_ex_test, y_ex_train, y_ex_test)"
   ]
  },
  {
   "cell_type": "code",
   "execution_count": 199,
   "metadata": {},
   "outputs": [
    {
     "name": "stdout",
     "output_type": "stream",
     "text": [
      "(1569, 28)\n"
     ]
    },
    {
     "data": {
      "image/png": "[encoded data removed]",
      "text/plain": [
       "<Figure size 720x720 with 1 Axes>"
      ]
     },
     "metadata": {
      "needs_background": "light"
     },
     "output_type": "display_data"
    },
    {
     "name": "stdout",
     "output_type": "stream",
     "text": [
      "dataset 7  average word length:  3.7682038929314703\n",
      "dataset 7  average word count:  170.2734225621415\n",
      "dataset 7  average char count:  676.1121733588272\n",
      "dataset 7  average setence count:  11.698534098151688\n",
      "dataset 7  average lemma count:  58.67240280433397\n",
      "dataset 7  average noun count:  48.323773103887824\n",
      "dataset 7 average adj count:  3.8712555768005097\n",
      "dataset 7 average verb count:  16.003824091778203\n",
      "dataset 7 average adv count:  5.835564053537285\n",
      "use PCA in BOW evaluation\n"
     ]
    },
    {
     "name": "stderr",
     "output_type": "stream",
     "text": [
      "/home/chenming/anaconda3/lib/python3.7/site-packages/ipykernel_launcher.py:16: FutureWarning: Method .as_matrix will be removed in a future version. Use .values instead.\n",
      "  app.launch_new_instance()\n"
     ]
    },
    {
     "name": "stdout",
     "output_type": "stream",
     "text": [
      "Linear Regression\n",
      "Mean squared error: 15.17\n",
      "Root Mean squared error: 3.90\n",
      "SGD\n",
      "Mean squared error: 25.01\n",
      "Root Mean squared error: 5.00\n",
      "SVC\n",
      "Mean squared error: 20.19\n",
      "Root Mean squared error: 4.49\n",
      "Random Forest\n",
      "Mean squared error: 13.93\n",
      "Root Mean squared error: 3.73\n",
      "ensemble: \n",
      "Mean squared error: 14.74\n",
      "Root Mean squared error: 3.84\n",
      "TF-IDF\n"
     ]
    },
    {
     "name": "stderr",
     "output_type": "stream",
     "text": [
      "/home/chenming/anaconda3/lib/python3.7/site-packages/ipykernel_launcher.py:3: FutureWarning: Method .as_matrix will be removed in a future version. Use .values instead.\n",
      "  This is separate from the ipykernel package so we can avoid doing imports until\n",
      "/home/chenming/anaconda3/lib/python3.7/site-packages/ipykernel_launcher.py:4: FutureWarning: Method .as_matrix will be removed in a future version. Use .values instead.\n",
      "  after removing the cwd from sys.path.\n"
     ]
    },
    {
     "name": "stdout",
     "output_type": "stream",
     "text": [
      "Linear Regression\n",
      "Mean squared error: 15.88\n",
      "Root Mean squared error: 3.98\n",
      "SGD\n",
      "Mean squared error: 24.90\n",
      "Root Mean squared error: 4.99\n",
      "SVC\n",
      "Mean squared error: 20.24\n",
      "Root Mean squared error: 4.50\n",
      "Random Forest\n",
      "Mean squared error: 14.24\n",
      "Root Mean squared error: 3.77\n",
      "ensemble: \n",
      "Mean squared error: 13.02\n",
      "Root Mean squared error: 3.61\n",
      "add feature to PCA BOW\n"
     ]
    },
    {
     "name": "stderr",
     "output_type": "stream",
     "text": [
      "/home/chenming/anaconda3/lib/python3.7/site-packages/ipykernel_launcher.py:15: FutureWarning: Method .as_matrix will be removed in a future version. Use .values instead.\n",
      "  from ipykernel import kernelapp as app\n",
      "/home/chenming/anaconda3/lib/python3.7/site-packages/ipykernel_launcher.py:16: FutureWarning: Method .as_matrix will be removed in a future version. Use .values instead.\n",
      "  app.launch_new_instance()\n",
      "/home/chenming/anaconda3/lib/python3.7/site-packages/sklearn/linear_model/stochastic_gradient.py:561: ConvergenceWarning: Maximum number of iteration reached before convergence. Consider increasing max_iter to improve the fit.\n",
      "  ConvergenceWarning)\n"
     ]
    },
    {
     "name": "stdout",
     "output_type": "stream",
     "text": [
      "Linear Regression\n",
      "Mean squared error: 8.68\n",
      "Root Mean squared error: 2.95\n",
      "SGD\n",
      "Mean squared error: 14.94\n",
      "Root Mean squared error: 3.87\n",
      "SVC\n",
      "Mean squared error: 19.56\n",
      "Root Mean squared error: 4.42\n",
      "Random Forest\n",
      "Mean squared error: 9.20\n",
      "Root Mean squared error: 3.03\n",
      "ensemble: \n",
      "Mean squared error: 9.76\n",
      "Root Mean squared error: 3.12\n"
     ]
    }
   ],
   "source": [
    "# dataset 7\n",
    "train_d7 = train[train['essay_set']==7]\n",
    "test_d7 = test[test['essay_set']==7]\n",
    "print(train_d7.shape)\n",
    "train_d7 = train_d7[['essay_id', 'essay', 'domain1_score']]\n",
    "train_d7.name = 'dataset 7'\n",
    "\n",
    "essay_analysis(train_d7, 'domain1_score')\n",
    "print('use PCA in BOW evaluation')\n",
    "X_train, X_test, y_train, y_test = split_BOW_dataset(train_d7, 'domain1_score', isPCA=True, n=8)\n",
    "evaluation_df(X_train, X_test, y_train, y_test)\n",
    "\n",
    "print('TF-IDF')\n",
    "TF_IDF_model(train_d7,'domain1_score')\n",
    "\n",
    "print('add feature to PCA BOW')\n",
    "X_ex_train, X_ex_test, y_ex_train, y_ex_test = split_BOW_extrafeature_dataset(train_d7, y_name='domain1_score',isPCA=True, n=8)\n",
    "evaluation_df(X_ex_train, X_ex_test, y_ex_train, y_ex_test)"
   ]
  },
  {
   "cell_type": "code",
   "execution_count": 200,
   "metadata": {},
   "outputs": [
    {
     "name": "stdout",
     "output_type": "stream",
     "text": [
      "(723, 28)\n"
     ]
    },
    {
     "data": {
      "image/png": "[encoded data removed]",
      "text/plain": [
       "<Figure size 720x720 with 1 Axes>"
      ]
     },
     "metadata": {
      "needs_background": "light"
     },
     "output_type": "display_data"
    },
    {
     "name": "stdout",
     "output_type": "stream",
     "text": [
      "dataset 8  average word length:  4.0179206530666\n",
      "dataset 8  average word count:  614.6473029045643\n",
      "dataset 8  average char count:  2569.4467496542184\n",
      "dataset 8  average setence count:  34.8686030428769\n",
      "dataset 8  average lemma count:  177.87966804979254\n",
      "dataset 8  average noun count:  168.49792531120332\n",
      "dataset 8 average adj count:  20.775933609958507\n",
      "dataset 8 average verb count:  55.37206085753804\n",
      "dataset 8 average adv count:  23.518672199170126\n",
      "use PCA in BOW evaluation\n"
     ]
    },
    {
     "name": "stderr",
     "output_type": "stream",
     "text": [
      "/home/chenming/anaconda3/lib/python3.7/site-packages/ipykernel_launcher.py:16: FutureWarning: Method .as_matrix will be removed in a future version. Use .values instead.\n",
      "  app.launch_new_instance()\n"
     ]
    },
    {
     "name": "stdout",
     "output_type": "stream",
     "text": [
      "Linear Regression\n",
      "Mean squared error: 32.79\n",
      "Root Mean squared error: 5.73\n",
      "SGD\n",
      "Mean squared error: 51.49\n",
      "Root Mean squared error: 7.18\n",
      "SVC\n",
      "Mean squared error: 45.73\n",
      "Root Mean squared error: 6.76\n",
      "Random Forest\n",
      "Mean squared error: 29.91\n",
      "Root Mean squared error: 5.47\n",
      "ensemble: \n",
      "Mean squared error: 32.43\n",
      "Root Mean squared error: 5.69\n",
      "TF-IDF\n"
     ]
    },
    {
     "name": "stderr",
     "output_type": "stream",
     "text": [
      "/home/chenming/anaconda3/lib/python3.7/site-packages/ipykernel_launcher.py:3: FutureWarning: Method .as_matrix will be removed in a future version. Use .values instead.\n",
      "  This is separate from the ipykernel package so we can avoid doing imports until\n",
      "/home/chenming/anaconda3/lib/python3.7/site-packages/ipykernel_launcher.py:4: FutureWarning: Method .as_matrix will be removed in a future version. Use .values instead.\n",
      "  after removing the cwd from sys.path.\n"
     ]
    },
    {
     "name": "stdout",
     "output_type": "stream",
     "text": [
      "Linear Regression\n",
      "Mean squared error: 26.37\n",
      "Root Mean squared error: 5.14\n",
      "SGD\n",
      "Mean squared error: 66.28\n",
      "Root Mean squared error: 8.14\n",
      "SVC\n",
      "Mean squared error: 49.60\n",
      "Root Mean squared error: 7.04\n",
      "Random Forest\n",
      "Mean squared error: 33.46\n",
      "Root Mean squared error: 5.78\n",
      "ensemble: \n",
      "Mean squared error: 34.21\n",
      "Root Mean squared error: 5.85\n",
      "add feature to PCA BOW\n"
     ]
    },
    {
     "name": "stderr",
     "output_type": "stream",
     "text": [
      "/home/chenming/anaconda3/lib/python3.7/site-packages/ipykernel_launcher.py:15: FutureWarning: Method .as_matrix will be removed in a future version. Use .values instead.\n",
      "  from ipykernel import kernelapp as app\n",
      "/home/chenming/anaconda3/lib/python3.7/site-packages/ipykernel_launcher.py:16: FutureWarning: Method .as_matrix will be removed in a future version. Use .values instead.\n",
      "  app.launch_new_instance()\n"
     ]
    },
    {
     "name": "stdout",
     "output_type": "stream",
     "text": [
      "Linear Regression\n",
      "Mean squared error: 19.85\n",
      "Root Mean squared error: 4.46\n",
      "SGD\n",
      "Mean squared error: 46.59\n",
      "Root Mean squared error: 6.83\n",
      "SVC\n",
      "Mean squared error: 45.74\n",
      "Root Mean squared error: 6.76\n",
      "Random Forest\n",
      "Mean squared error: 24.27\n",
      "Root Mean squared error: 4.93\n",
      "ensemble: \n",
      "Mean squared error: 26.92\n",
      "Root Mean squared error: 5.19\n"
     ]
    }
   ],
   "source": [
    "# dataset 8\n",
    "train_d8 = train[train['essay_set']==8]\n",
    "test_d8 = test[test['essay_set']==8]\n",
    "print(train_d8.shape)\n",
    "train_d8 = train_d8[['essay_id', 'essay', 'domain1_score']]\n",
    "train_d8.name = 'dataset 8'\n",
    "\n",
    "essay_analysis(train_d8, 'domain1_score')\n",
    "print('use PCA in BOW evaluation')\n",
    "X_train, X_test, y_train, y_test = split_BOW_dataset(train_d8, 'domain1_score', isPCA=True, n=8)\n",
    "evaluation_df(X_train, X_test, y_train, y_test)\n",
    "\n",
    "print('TF-IDF')\n",
    "TF_IDF_model(train_d8,'domain1_score')\n",
    "\n",
    "print('add feature to PCA BOW')\n",
    "X_ex_train, X_ex_test, y_ex_train, y_ex_test = split_BOW_extrafeature_dataset(train_d8, y_name='domain1_score',isPCA=True, n=8)\n",
    "evaluation_df(X_ex_train, X_ex_test, y_ex_train, y_ex_test)"
   ]
  },
  {
   "cell_type": "code",
   "execution_count": 235,
   "metadata": {},
   "outputs": [
    {
     "data": {
      "image/png": "[encoded data removed]",
      "text/plain": [
       "<Figure size 432x288 with 1 Axes>"
      ]
     },
     "metadata": {
      "needs_background": "light"
     },
     "output_type": "display_data"
    }
   ],
   "source": [
    "#data plot\n",
    "import seaborn as sns\n",
    "import matplotlib.pyplot as plt\n",
    "%matplotlib inline\n",
    "\n",
    "#modeling validation results\n",
    "ranges = [12,6,3,3,4,4,24,60]\n",
    "BowPCA = [1.22,0.62,0.65,0.61,0.6,0.66,3.9,5.73]\n",
    "Tfidf = [1.14,0.61,1.04,0.91,0.8,0.7,3.98,5.14]\n",
    "ExtraFeature = [0.86,0.53,0.56,0.54,0.53,0.6,2.95,4.46]\n",
    "df_out1 = pd.DataFrame(list(zip(BowPCA, Tfidf,ExtraFeature,ranges)), columns =['BowPCA', 'Tf-idf','ExtraFeature','ranges']) \n",
    "fig, ax = plt.subplots()\n",
    "ax.plot(df_out1['ranges'], df_out1['BowPCA'], 'ob', label='BowPCA')\n",
    "ax.plot(df_out1['ranges'], df_out1['Tf-idf'], 'or', label='Tf-idf')\n",
    "ax.plot(df_out1['ranges'], df_out1['ExtraFeature'], 'og', label='ExtraFeature')\n",
    "leg = ax.legend(loc=4)\n",
    "plt.xlim(0,65)\n",
    "\n",
    "\n",
    "plt.show()\n"
   ]
  },
  {
   "cell_type": "code",
   "execution_count": 205,
   "metadata": {},
   "outputs": [
    {
     "data": {
      "text/plain": [
       "<matplotlib.axes._subplots.AxesSubplot at 0x7ff7fd043c50>"
      ]
     },
     "execution_count": 205,
     "metadata": {},
     "output_type": "execute_result"
    },
    {
     "data": {
      "image/png": "[encoded data removed]",
      "text/plain": [
       "<Figure size 432x288 with 1 Axes>"
      ]
     },
     "metadata": {
      "needs_background": "light"
     },
     "output_type": "display_data"
    }
   ],
   "source": []
  },
  {
   "cell_type": "code",
   "execution_count": 207,
   "metadata": {},
   "outputs": [
    {
     "data": {
      "text/plain": [
       "<matplotlib.axes._subplots.AxesSubplot at 0x7ff7fcbb2c18>"
      ]
     },
     "execution_count": 207,
     "metadata": {},
     "output_type": "execute_result"
    },
    {
     "data": {
      "image/png": "[encoded data removed]",
      "text/plain": [
       "<Figure size 432x288 with 1 Axes>"
      ]
     },
     "metadata": {
      "needs_background": "light"
     },
     "output_type": "display_data"
    }
   ],
   "source": []
  },
  {
   "cell_type": "code",
   "execution_count": null,
   "metadata": {},
   "outputs": [],
   "source": []
  }
 ],
 "metadata": {
  "kernelspec": {
   "display_name": "Python 3",
   "language": "python",
   "name": "python3"
  },
  "language_info": {
   "codemirror_mode": {
    "name": "ipython",
    "version": 3
   },
   "file_extension": ".py",
   "mimetype": "text/x-python",
   "name": "python",
   "nbconvert_exporter": "python",
   "pygments_lexer": "ipython3",
   "version": "3.7.3"
  }
 },
 "nbformat": 4,
 "nbformat_minor": 2
}
